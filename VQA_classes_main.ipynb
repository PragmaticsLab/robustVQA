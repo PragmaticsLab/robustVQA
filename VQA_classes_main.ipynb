{
  "cells": [
    {
      "cell_type": "markdown",
      "metadata": {
        "id": "9FSsNVLVC32z"
      },
      "source": [
        "# Установка библиотек"
      ]
    },
    {
      "cell_type": "code",
      "execution_count": null,
      "metadata": {
        "colab": {
          "base_uri": "https://localhost:8080/"
        },
        "id": "GgoQJSuJsgto",
        "outputId": "d23cdac3-e11e-418d-de6d-d0227da6438b"
      },
      "outputs": [
        {
          "name": "stdout",
          "output_type": "stream",
          "text": [
            "/home/nmandreev/transformers/examples/research_projects/lxmert\n"
          ]
        }
      ],
      "source": [
        "#!git clone https://github.com/huggingface/transformers\n",
        "#%cd transformers/examples/research_projects/lxmert"
      ]
    },
    {
      "cell_type": "code",
      "execution_count": null,
      "metadata": {
        "id": "7Z9kZjgLuOyH",
        "outputId": "5d756928-91a9-4fb8-c8d4-08eff3c7ad2b"
      },
      "outputs": [
        {
          "name": "stdout",
          "output_type": "stream",
          "text": [
            "\u001b[0m\u001b[01;34mannotations\u001b[0m/                  \u001b[01;34mmodified\u001b[0m/                \u001b[01;34mval2014\u001b[0m/\r\n",
            "\u001b[01;31mannotations_trainval2014.zip\u001b[0m  \u001b[01;34mmodified_CLAHE\u001b[0m/          \u001b[01;31mval2014.zip\u001b[0m\r\n",
            "attributes_vocab.txt          \u001b[01;34mmodified_GB\u001b[0m/             VQA_classes_1.ipynb\r\n",
            "\u001b[01;34mdata\u001b[0m/                         notebook-404016.log      VQA_classes_2.ipynb\r\n",
            "loader.py                     notebook-404075.log      VQA_classes_3.ipynb\r\n",
            "load_mover.py                 notebook-404078.log      VQA_classes_4.ipynb\r\n",
            "log_CLAHE.txt                 objects_vocab.txt        VQA_classes.ipynb\r\n",
            "log_GB.txt                    trainval_label2ans.json  wget-log\r\n",
            "log.txt                       \u001b[01;34mtransformers\u001b[0m/\r\n"
          ]
        }
      ],
      "source": [
        "ls"
      ]
    },
    {
      "cell_type": "code",
      "execution_count": null,
      "metadata": {
        "colab": {
          "base_uri": "https://localhost:8080/"
        },
        "collapsed": true,
        "id": "A05J-KfssoR0",
        "outputId": "235e24f3-1684-4004-fa48-7ed4587b4b80"
      },
      "outputs": [
        {
          "name": "stdout",
          "output_type": "stream",
          "text": [
            "Collecting package metadata (current_repodata.json): failed\n",
            "\n",
            "CondaHTTPError: HTTP 000 CONNECTION FAILED for url <https://repo.anaconda.com/pkgs/main/linux-64/current_repodata.json>\n",
            "Elapsed: -\n",
            "\n",
            "An HTTP error occurred when trying to retrieve this URL.\n",
            "HTTP errors are often intermittent, and a simple retry will get you on your way.\n",
            "\n",
            "If your current network has https://www.anaconda.com blocked, please file\n",
            "a support request with your network engineering team.\n",
            "\n",
            "'https://repo.anaconda.com/pkgs/main/linux-64'\n",
            "\n",
            "\n",
            "\n",
            "Note: you may need to restart the kernel to use updated packages.\n"
          ]
        }
      ],
      "source": [
        "!pip install transformers"
      ]
    },
    {
      "cell_type": "code",
      "execution_count": null,
      "metadata": {
        "colab": {
          "base_uri": "https://localhost:8080/"
        },
        "collapsed": true,
        "id": "0_X07V112Ytr",
        "outputId": "a401fdfb-16b8-4c78-d411-163349fc08e2"
      },
      "outputs": [
        {
          "name": "stdout",
          "output_type": "stream",
          "text": [
            "Defaulting to user installation because normal site-packages is not writeable\n",
            "Requirement already satisfied: albumentations in ./.local/lib/python3.7/site-packages (1.1.0)\n",
            "\u001b[33mWARNING: Retrying (Retry(total=4, connect=None, read=None, redirect=None, status=None)) after connection broken by 'NewConnectionError('<pip._vendor.urllib3.connection.HTTPSConnection object at 0x7ffac7ab0410>: Failed to establish a new connection: [Errno 101] Network is unreachable')': /simple/albumentations/\u001b[0m\n",
            "^C\n",
            "\u001b[31mERROR: Operation cancelled by user\u001b[0m\n",
            "Note: you may need to restart the kernel to use updated packages.\n"
          ]
        }
      ],
      "source": [
        "pip install -U albumentations"
      ]
    },
    {
      "cell_type": "code",
      "execution_count": null,
      "metadata": {
        "colab": {
          "base_uri": "https://localhost:8080/"
        },
        "collapsed": true,
        "id": "hvl9_iIeCNq2",
        "outputId": "d331c8b5-ab2c-46c7-da27-dd01c0eac941"
      },
      "outputs": [
        {
          "name": "stdout",
          "output_type": "stream",
          "text": [
            "Collecting easynmt\n",
            "  Downloading EasyNMT-2.0.1.tar.gz (14 kB)\n",
            "Requirement already satisfied: tqdm in /usr/local/lib/python3.7/dist-packages (from easynmt) (4.62.3)\n",
            "Requirement already satisfied: transformers<5,>=4.4 in /usr/local/lib/python3.7/dist-packages (from easynmt) (4.11.1)\n",
            "Requirement already satisfied: torch>=1.6.0 in /usr/local/lib/python3.7/dist-packages (from easynmt) (1.9.0+cu102)\n",
            "Requirement already satisfied: numpy in /usr/local/lib/python3.7/dist-packages (from easynmt) (1.19.5)\n",
            "Requirement already satisfied: nltk in /usr/local/lib/python3.7/dist-packages (from easynmt) (3.2.5)\n",
            "Collecting sentencepiece\n",
            "  Downloading sentencepiece-0.1.96-cp37-cp37m-manylinux_2_17_x86_64.manylinux2014_x86_64.whl (1.2 MB)\n",
            "\u001b[K     |████████████████████████████████| 1.2 MB 5.2 MB/s \n",
            "\u001b[?25hCollecting fasttext\n",
            "  Downloading fasttext-0.9.2.tar.gz (68 kB)\n",
            "\u001b[K     |████████████████████████████████| 68 kB 7.0 MB/s \n",
            "\u001b[?25hRequirement already satisfied: typing-extensions in /usr/local/lib/python3.7/dist-packages (from torch>=1.6.0->easynmt) (3.7.4.3)\n",
            "Requirement already satisfied: sacremoses in /usr/local/lib/python3.7/dist-packages (from transformers<5,>=4.4->easynmt) (0.0.46)\n",
            "Requirement already satisfied: huggingface-hub>=0.0.17 in /usr/local/lib/python3.7/dist-packages (from transformers<5,>=4.4->easynmt) (0.0.17)\n",
            "Requirement already satisfied: regex!=2019.12.17 in /usr/local/lib/python3.7/dist-packages (from transformers<5,>=4.4->easynmt) (2019.12.20)\n",
            "Requirement already satisfied: pyyaml>=5.1 in /usr/local/lib/python3.7/dist-packages (from transformers<5,>=4.4->easynmt) (5.4.1)\n",
            "Requirement already satisfied: importlib-metadata in /usr/local/lib/python3.7/dist-packages (from transformers<5,>=4.4->easynmt) (4.8.1)\n",
            "Requirement already satisfied: tokenizers<0.11,>=0.10.1 in /usr/local/lib/python3.7/dist-packages (from transformers<5,>=4.4->easynmt) (0.10.3)\n",
            "Requirement already satisfied: packaging>=20.0 in /usr/local/lib/python3.7/dist-packages (from transformers<5,>=4.4->easynmt) (21.0)\n",
            "Requirement already satisfied: filelock in /usr/local/lib/python3.7/dist-packages (from transformers<5,>=4.4->easynmt) (3.0.12)\n",
            "Requirement already satisfied: requests in /usr/local/lib/python3.7/dist-packages (from transformers<5,>=4.4->easynmt) (2.23.0)\n",
            "Requirement already satisfied: pyparsing>=2.0.2 in /usr/local/lib/python3.7/dist-packages (from packaging>=20.0->transformers<5,>=4.4->easynmt) (2.4.7)\n",
            "Collecting pybind11>=2.2\n",
            "  Using cached pybind11-2.7.1-py2.py3-none-any.whl (200 kB)\n",
            "Requirement already satisfied: setuptools>=0.7.0 in /usr/local/lib/python3.7/dist-packages (from fasttext->easynmt) (57.4.0)\n",
            "Requirement already satisfied: zipp>=0.5 in /usr/local/lib/python3.7/dist-packages (from importlib-metadata->transformers<5,>=4.4->easynmt) (3.5.0)\n",
            "Requirement already satisfied: six in /usr/local/lib/python3.7/dist-packages (from nltk->easynmt) (1.15.0)\n",
            "Requirement already satisfied: idna<3,>=2.5 in /usr/local/lib/python3.7/dist-packages (from requests->transformers<5,>=4.4->easynmt) (2.10)\n",
            "Requirement already satisfied: chardet<4,>=3.0.2 in /usr/local/lib/python3.7/dist-packages (from requests->transformers<5,>=4.4->easynmt) (3.0.4)\n",
            "Requirement already satisfied: urllib3!=1.25.0,!=1.25.1,<1.26,>=1.21.1 in /usr/local/lib/python3.7/dist-packages (from requests->transformers<5,>=4.4->easynmt) (1.24.3)\n",
            "Requirement already satisfied: certifi>=2017.4.17 in /usr/local/lib/python3.7/dist-packages (from requests->transformers<5,>=4.4->easynmt) (2021.5.30)\n",
            "Requirement already satisfied: joblib in /usr/local/lib/python3.7/dist-packages (from sacremoses->transformers<5,>=4.4->easynmt) (1.0.1)\n",
            "Requirement already satisfied: click in /usr/local/lib/python3.7/dist-packages (from sacremoses->transformers<5,>=4.4->easynmt) (7.1.2)\n",
            "Building wheels for collected packages: easynmt, fasttext\n",
            "  Building wheel for easynmt (setup.py) ... \u001b[?25l\u001b[?25hdone\n",
            "  Created wheel for easynmt: filename=EasyNMT-2.0.1-py3-none-any.whl size=15446 sha256=4a6e65584c41fdccdde3776c0aeb7956008c5fe40cb59cb3ae5a99c779fd5cc8\n",
            "  Stored in directory: /root/.cache/pip/wheels/fb/42/fb/b7711d3296456d5f74e6e265dbdb0e3142158f1bb50382caef\n",
            "  Building wheel for fasttext (setup.py) ... \u001b[?25l\u001b[?25hdone\n",
            "  Created wheel for fasttext: filename=fasttext-0.9.2-cp37-cp37m-linux_x86_64.whl size=3092197 sha256=9726460be35ddb6c8918e68eb700007dbc5f0f8856aff88743eeabf2c1805623\n",
            "  Stored in directory: /root/.cache/pip/wheels/4e/ca/bf/b020d2be95f7641801a6597a29c8f4f19e38f9c02a345bab9b\n",
            "Successfully built easynmt fasttext\n",
            "Installing collected packages: pybind11, sentencepiece, fasttext, easynmt\n",
            "Successfully installed easynmt-2.0.1 fasttext-0.9.2 pybind11-2.7.1 sentencepiece-0.1.96\n"
          ]
        }
      ],
      "source": [
        "#!pip install -U easynmt"
      ]
    },
    {
      "cell_type": "code",
      "execution_count": null,
      "metadata": {
        "colab": {
          "base_uri": "https://localhost:8080/"
        },
        "collapsed": true,
        "id": "aSm_OaXe0uj_",
        "outputId": "d31fd0f6-4ec8-4b9d-f8f2-dfcef1603d6a"
      },
      "outputs": [
        {
          "name": "stdout",
          "output_type": "stream",
          "text": [
            "Collecting textattack\n",
            "  Downloading textattack-0.3.3-py3-none-any.whl (361 kB)\n",
            "\u001b[K     |████████████████████████████████| 361 kB 5.1 MB/s \n",
            "\u001b[?25hRequirement already satisfied: pandas>=1.0.1 in /usr/local/lib/python3.7/dist-packages (from textattack) (1.1.5)\n",
            "Collecting datasets\n",
            "  Downloading datasets-1.12.1-py3-none-any.whl (270 kB)\n",
            "\u001b[K     |████████████████████████████████| 270 kB 60.8 MB/s \n",
            "\u001b[?25hRequirement already satisfied: torch!=1.8,>=1.7.0 in /usr/local/lib/python3.7/dist-packages (from textattack) (1.9.0+cu102)\n",
            "Requirement already satisfied: scipy>=1.4.1 in /usr/local/lib/python3.7/dist-packages (from textattack) (1.4.1)\n",
            "Collecting terminaltables\n",
            "  Downloading terminaltables-3.1.0.tar.gz (12 kB)\n",
            "Collecting bert-score>=0.3.5\n",
            "  Downloading bert_score-0.3.10-py3-none-any.whl (59 kB)\n",
            "\u001b[K     |████████████████████████████████| 59 kB 7.7 MB/s \n",
            "\u001b[?25hCollecting tqdm<4.50.0,>=4.27\n",
            "  Downloading tqdm-4.49.0-py2.py3-none-any.whl (69 kB)\n",
            "\u001b[K     |████████████████████████████████| 69 kB 8.1 MB/s \n",
            "\u001b[?25hRequirement already satisfied: PySocks!=1.5.7,>=1.5.6 in /usr/local/lib/python3.7/dist-packages (from textattack) (1.7.1)\n",
            "Requirement already satisfied: editdistance in /usr/local/lib/python3.7/dist-packages (from textattack) (0.5.3)\n",
            "Requirement already satisfied: nltk in /usr/local/lib/python3.7/dist-packages (from textattack) (3.2.5)\n",
            "Collecting lru-dict\n",
            "  Downloading lru-dict-1.1.7.tar.gz (10 kB)\n",
            "Requirement already satisfied: filelock in /usr/local/lib/python3.7/dist-packages (from textattack) (3.0.12)\n",
            "Collecting lemminflect\n",
            "  Downloading lemminflect-0.2.2-py3-none-any.whl (769 kB)\n",
            "\u001b[K     |████████████████████████████████| 769 kB 50.7 MB/s \n",
            "\u001b[?25hCollecting flair\n",
            "  Downloading flair-0.9-py3-none-any.whl (319 kB)\n",
            "\u001b[K     |████████████████████████████████| 319 kB 57.3 MB/s \n",
            "\u001b[?25hRequirement already satisfied: transformers>=3.3.0 in /usr/local/lib/python3.7/dist-packages (from textattack) (4.11.1)\n",
            "Collecting num2words\n",
            "  Downloading num2words-0.5.10-py3-none-any.whl (101 kB)\n",
            "\u001b[K     |████████████████████████████████| 101 kB 12.5 MB/s \n",
            "\u001b[?25hCollecting language-tool-python\n",
            "  Downloading language_tool_python-2.6.1-py3-none-any.whl (30 kB)\n",
            "Requirement already satisfied: more-itertools in /usr/local/lib/python3.7/dist-packages (from textattack) (8.10.0)\n",
            "Requirement already satisfied: numpy>=1.19.2 in /usr/local/lib/python3.7/dist-packages (from textattack) (1.19.5)\n",
            "Collecting word2number\n",
            "  Downloading word2number-1.1.zip (9.7 kB)\n",
            "Requirement already satisfied: requests in /usr/local/lib/python3.7/dist-packages (from bert-score>=0.3.5->textattack) (2.23.0)\n",
            "Requirement already satisfied: packaging>=20.9 in /usr/local/lib/python3.7/dist-packages (from bert-score>=0.3.5->textattack) (21.0)\n",
            "Requirement already satisfied: matplotlib in /usr/local/lib/python3.7/dist-packages (from bert-score>=0.3.5->textattack) (3.2.2)\n",
            "Requirement already satisfied: pyparsing>=2.0.2 in /usr/local/lib/python3.7/dist-packages (from packaging>=20.9->bert-score>=0.3.5->textattack) (2.4.7)\n",
            "Requirement already satisfied: pytz>=2017.2 in /usr/local/lib/python3.7/dist-packages (from pandas>=1.0.1->textattack) (2018.9)\n",
            "Requirement already satisfied: python-dateutil>=2.7.3 in /usr/local/lib/python3.7/dist-packages (from pandas>=1.0.1->textattack) (2.8.2)\n",
            "Requirement already satisfied: six>=1.5 in /usr/local/lib/python3.7/dist-packages (from python-dateutil>=2.7.3->pandas>=1.0.1->textattack) (1.15.0)\n",
            "Requirement already satisfied: typing-extensions in /usr/local/lib/python3.7/dist-packages (from torch!=1.8,>=1.7.0->textattack) (3.7.4.3)\n",
            "Requirement already satisfied: sacremoses in /usr/local/lib/python3.7/dist-packages (from transformers>=3.3.0->textattack) (0.0.46)\n",
            "Requirement already satisfied: importlib-metadata in /usr/local/lib/python3.7/dist-packages (from transformers>=3.3.0->textattack) (4.8.1)\n",
            "Requirement already satisfied: regex!=2019.12.17 in /usr/local/lib/python3.7/dist-packages (from transformers>=3.3.0->textattack) (2019.12.20)\n",
            "Requirement already satisfied: tokenizers<0.11,>=0.10.1 in /usr/local/lib/python3.7/dist-packages (from transformers>=3.3.0->textattack) (0.10.3)\n",
            "Requirement already satisfied: pyyaml>=5.1 in /usr/local/lib/python3.7/dist-packages (from transformers>=3.3.0->textattack) (5.4.1)\n",
            "Requirement already satisfied: huggingface-hub>=0.0.17 in /usr/local/lib/python3.7/dist-packages (from transformers>=3.3.0->textattack) (0.0.17)\n",
            "Requirement already satisfied: multiprocess in /usr/local/lib/python3.7/dist-packages (from datasets->textattack) (0.70.12.2)\n",
            "Requirement already satisfied: pyarrow!=4.0.0,>=1.0.0 in /usr/local/lib/python3.7/dist-packages (from datasets->textattack) (3.0.0)\n",
            "Collecting datasets\n",
            "  Downloading datasets-1.12.0-py3-none-any.whl (269 kB)\n",
            "\u001b[K     |████████████████████████████████| 269 kB 67.0 MB/s \n",
            "\u001b[?25h  Downloading datasets-1.11.0-py3-none-any.whl (264 kB)\n",
            "\u001b[K     |████████████████████████████████| 264 kB 77.9 MB/s \n",
            "\u001b[?25hCollecting xxhash\n",
            "  Downloading xxhash-2.0.2-cp37-cp37m-manylinux2010_x86_64.whl (243 kB)\n",
            "\u001b[K     |████████████████████████████████| 243 kB 76.2 MB/s \n",
            "\u001b[?25hRequirement already satisfied: dill in /usr/local/lib/python3.7/dist-packages (from datasets->textattack) (0.3.4)\n",
            "Collecting fsspec>=2021.05.0\n",
            "  Downloading fsspec-2021.9.0-py3-none-any.whl (123 kB)\n",
            "\u001b[K     |████████████████████████████████| 123 kB 61.9 MB/s \n",
            "\u001b[?25hRequirement already satisfied: chardet<4,>=3.0.2 in /usr/local/lib/python3.7/dist-packages (from requests->bert-score>=0.3.5->textattack) (3.0.4)\n",
            "Requirement already satisfied: urllib3!=1.25.0,!=1.25.1,<1.26,>=1.21.1 in /usr/local/lib/python3.7/dist-packages (from requests->bert-score>=0.3.5->textattack) (1.24.3)\n",
            "Requirement already satisfied: idna<3,>=2.5 in /usr/local/lib/python3.7/dist-packages (from requests->bert-score>=0.3.5->textattack) (2.10)\n",
            "Requirement already satisfied: certifi>=2017.4.17 in /usr/local/lib/python3.7/dist-packages (from requests->bert-score>=0.3.5->textattack) (2021.5.30)\n",
            "Requirement already satisfied: gensim<=3.8.3,>=3.4.0 in /usr/local/lib/python3.7/dist-packages (from flair->textattack) (3.6.0)\n",
            "Collecting sentencepiece==0.1.95\n",
            "  Downloading sentencepiece-0.1.95-cp37-cp37m-manylinux2014_x86_64.whl (1.2 MB)\n",
            "\u001b[K     |████████████████████████████████| 1.2 MB 34.6 MB/s \n",
            "\u001b[?25hRequirement already satisfied: hyperopt>=0.1.1 in /usr/local/lib/python3.7/dist-packages (from flair->textattack) (0.1.2)\n",
            "Requirement already satisfied: lxml in /usr/local/lib/python3.7/dist-packages (from flair->textattack) (4.2.6)\n",
            "Collecting konoha<5.0.0,>=4.0.0\n",
            "  Downloading konoha-4.6.5-py3-none-any.whl (20 kB)\n",
            "Collecting gdown==3.12.2\n",
            "  Downloading gdown-3.12.2.tar.gz (8.2 kB)\n",
            "  Installing build dependencies ... \u001b[?25l\u001b[?25hdone\n",
            "  Getting requirements to build wheel ... \u001b[?25l\u001b[?25hdone\n",
            "    Preparing wheel metadata ... \u001b[?25l\u001b[?25hdone\n",
            "Collecting mpld3==0.3\n",
            "  Downloading mpld3-0.3.tar.gz (788 kB)\n",
            "\u001b[K     |████████████████████████████████| 788 kB 60.9 MB/s \n",
            "\u001b[?25hCollecting ftfy\n",
            "  Downloading ftfy-6.0.3.tar.gz (64 kB)\n",
            "\u001b[K     |████████████████████████████████| 64 kB 3.2 MB/s \n",
            "\u001b[?25hRequirement already satisfied: scikit-learn>=0.21.3 in /usr/local/lib/python3.7/dist-packages (from flair->textattack) (0.22.2.post1)\n",
            "Collecting sqlitedict>=1.6.0\n",
            "  Downloading sqlitedict-1.7.0.tar.gz (28 kB)\n",
            "Collecting segtok>=1.5.7\n",
            "  Downloading segtok-1.5.10.tar.gz (25 kB)\n",
            "Collecting conllu>=4.0\n",
            "  Downloading conllu-4.4.1-py2.py3-none-any.whl (15 kB)\n",
            "Collecting bpemb>=0.3.2\n",
            "  Downloading bpemb-0.3.3-py3-none-any.whl (19 kB)\n",
            "Collecting more-itertools\n",
            "  Downloading more_itertools-8.8.0-py3-none-any.whl (48 kB)\n",
            "\u001b[K     |████████████████████████████████| 48 kB 6.4 MB/s \n",
            "\u001b[?25hRequirement already satisfied: tabulate in /usr/local/lib/python3.7/dist-packages (from flair->textattack) (0.8.9)\n",
            "Collecting janome\n",
            "  Downloading Janome-0.4.1-py2.py3-none-any.whl (19.7 MB)\n",
            "\u001b[K     |████████████████████████████████| 19.7 MB 10.9 MB/s \n",
            "\u001b[?25hCollecting wikipedia-api\n",
            "  Downloading Wikipedia-API-0.5.4.tar.gz (18 kB)\n",
            "Collecting langdetect\n",
            "  Downloading langdetect-1.0.9.tar.gz (981 kB)\n",
            "\u001b[K     |████████████████████████████████| 981 kB 69.2 MB/s \n",
            "\u001b[?25hCollecting deprecated>=1.2.4\n",
            "  Downloading Deprecated-1.2.13-py2.py3-none-any.whl (9.6 kB)\n",
            "Requirement already satisfied: wrapt<2,>=1.10 in /usr/local/lib/python3.7/dist-packages (from deprecated>=1.2.4->flair->textattack) (1.12.1)\n",
            "Requirement already satisfied: smart-open>=1.2.1 in /usr/local/lib/python3.7/dist-packages (from gensim<=3.8.3,>=3.4.0->flair->textattack) (5.2.1)\n",
            "Requirement already satisfied: networkx in /usr/local/lib/python3.7/dist-packages (from hyperopt>=0.1.1->flair->textattack) (2.6.3)\n",
            "Requirement already satisfied: pymongo in /usr/local/lib/python3.7/dist-packages (from hyperopt>=0.1.1->flair->textattack) (3.12.0)\n",
            "Requirement already satisfied: future in /usr/local/lib/python3.7/dist-packages (from hyperopt>=0.1.1->flair->textattack) (0.16.0)\n",
            "Collecting requests\n",
            "  Downloading requests-2.26.0-py2.py3-none-any.whl (62 kB)\n",
            "\u001b[K     |████████████████████████████████| 62 kB 997 kB/s \n",
            "\u001b[?25hCollecting importlib-metadata\n",
            "  Downloading importlib_metadata-3.10.1-py3-none-any.whl (14 kB)\n",
            "Collecting overrides<4.0.0,>=3.0.0\n",
            "  Downloading overrides-3.1.0.tar.gz (11 kB)\n",
            "Requirement already satisfied: zipp>=0.5 in /usr/local/lib/python3.7/dist-packages (from importlib-metadata->transformers>=3.3.0->textattack) (3.5.0)\n",
            "Requirement already satisfied: cycler>=0.10 in /usr/local/lib/python3.7/dist-packages (from matplotlib->bert-score>=0.3.5->textattack) (0.10.0)\n",
            "Requirement already satisfied: kiwisolver>=1.0.1 in /usr/local/lib/python3.7/dist-packages (from matplotlib->bert-score>=0.3.5->textattack) (1.3.2)\n",
            "Requirement already satisfied: charset-normalizer~=2.0.0 in /usr/local/lib/python3.7/dist-packages (from requests->bert-score>=0.3.5->textattack) (2.0.6)\n",
            "Requirement already satisfied: joblib>=0.11 in /usr/local/lib/python3.7/dist-packages (from scikit-learn>=0.21.3->flair->textattack) (1.0.1)\n",
            "Requirement already satisfied: wcwidth in /usr/local/lib/python3.7/dist-packages (from ftfy->flair->textattack) (0.2.5)\n",
            "Requirement already satisfied: docopt>=0.6.2 in /usr/local/lib/python3.7/dist-packages (from num2words->textattack) (0.6.2)\n",
            "Requirement already satisfied: click in /usr/local/lib/python3.7/dist-packages (from sacremoses->transformers>=3.3.0->textattack) (7.1.2)\n",
            "Building wheels for collected packages: gdown, mpld3, overrides, segtok, sqlitedict, ftfy, langdetect, lru-dict, terminaltables, wikipedia-api, word2number\n",
            "  Building wheel for gdown (PEP 517) ... \u001b[?25l\u001b[?25hdone\n",
            "  Created wheel for gdown: filename=gdown-3.12.2-py3-none-any.whl size=9704 sha256=90416c6e6779a94abd9a781fed8431adf5c76fc87504dc674ae28b93b11c3969\n",
            "  Stored in directory: /root/.cache/pip/wheels/ba/e0/7e/726e872a53f7358b4b96a9975b04e98113b005cd8609a63abc\n",
            "  Building wheel for mpld3 (setup.py) ... \u001b[?25l\u001b[?25hdone\n",
            "  Created wheel for mpld3: filename=mpld3-0.3-py3-none-any.whl size=116702 sha256=120dc2ffb440207d8c0c9e3825bcffe55ffb542eebebbeaf7afe122a9d4aff38\n",
            "  Stored in directory: /root/.cache/pip/wheels/26/70/6a/1c79e59951a41b4045497da187b2724f5659ca64033cf4548e\n",
            "  Building wheel for overrides (setup.py) ... \u001b[?25l\u001b[?25hdone\n",
            "  Created wheel for overrides: filename=overrides-3.1.0-py3-none-any.whl size=10186 sha256=f1ddc26bb1593b81088633b1e631f1335f3f9fdfd8ad325e73fb3c958a81d066\n",
            "  Stored in directory: /root/.cache/pip/wheels/3a/0d/38/01a9bc6e20dcfaf0a6a7b552d03137558ba1c38aea47644682\n",
            "  Building wheel for segtok (setup.py) ... \u001b[?25l\u001b[?25hdone\n",
            "  Created wheel for segtok: filename=segtok-1.5.10-py3-none-any.whl size=25030 sha256=fa66530b2097b469acd0aa229f8739338f3b58dae0c9ca65edadd74f329e8dbc\n",
            "  Stored in directory: /root/.cache/pip/wheels/67/b7/d0/a121106e61339eee5ed083bc230b1c8dc422c49a5a28c2addd\n",
            "  Building wheel for sqlitedict (setup.py) ... \u001b[?25l\u001b[?25hdone\n",
            "  Created wheel for sqlitedict: filename=sqlitedict-1.7.0-py3-none-any.whl size=14392 sha256=df5895bf2fee1d59d6e5de7b228a0e794718877d1f3657ce5a699638769edf31\n",
            "  Stored in directory: /root/.cache/pip/wheels/af/94/06/18c0e83e9e227da8f3582810b51f319bbfd181e508676a56c8\n",
            "  Building wheel for ftfy (setup.py) ... \u001b[?25l\u001b[?25hdone\n",
            "  Created wheel for ftfy: filename=ftfy-6.0.3-py3-none-any.whl size=41933 sha256=02d753f071421c8ae6ea7cd202a5654d8b9dd7408cd03f80bc338f70ac4f1b51\n",
            "  Stored in directory: /root/.cache/pip/wheels/19/f5/38/273eb3b5e76dfd850619312f693716ac4518b498f5ffb6f56d\n",
            "  Building wheel for langdetect (setup.py) ... \u001b[?25l\u001b[?25hdone\n",
            "  Created wheel for langdetect: filename=langdetect-1.0.9-py3-none-any.whl size=993242 sha256=8022285dbd9be03d3d74d80efe937ed6d93b130c4207761eab525261f0d554b4\n",
            "  Stored in directory: /root/.cache/pip/wheels/c5/96/8a/f90c59ed25d75e50a8c10a1b1c2d4c402e4dacfa87f3aff36a\n",
            "  Building wheel for lru-dict (setup.py) ... \u001b[?25l\u001b[?25hdone\n",
            "  Created wheel for lru-dict: filename=lru_dict-1.1.7-cp37-cp37m-linux_x86_64.whl size=28415 sha256=28e296fee88fc28d58f7e2edb29948c7f761507a755e4ddb460ac9d098f8b715\n",
            "  Stored in directory: /root/.cache/pip/wheels/9d/0b/4e/aa8fec9833090cd52bcd76f92f9d95e1ee7b915c12093663b4\n",
            "  Building wheel for terminaltables (setup.py) ... \u001b[?25l\u001b[?25hdone\n",
            "  Created wheel for terminaltables: filename=terminaltables-3.1.0-py3-none-any.whl size=15354 sha256=0681f70080c8da6b6c89eb6e70670d9399cf0b42c3f72fc2f45425910a2887bc\n",
            "  Stored in directory: /root/.cache/pip/wheels/ba/ad/c8/2d98360791161cd3db6daf6b5e730f34021fc9367d5879f497\n",
            "  Building wheel for wikipedia-api (setup.py) ... \u001b[?25l\u001b[?25hdone\n",
            "  Created wheel for wikipedia-api: filename=Wikipedia_API-0.5.4-py3-none-any.whl size=13475 sha256=9a189c92a478890daca3683f1345b14ef578401069d70c87a6b93a583938da3e\n",
            "  Stored in directory: /root/.cache/pip/wheels/d3/24/56/58ba93cf78be162451144e7a9889603f437976ef1ae7013d04\n",
            "  Building wheel for word2number (setup.py) ... \u001b[?25l\u001b[?25hdone\n",
            "  Created wheel for word2number: filename=word2number-1.1-py3-none-any.whl size=5580 sha256=bf8db3343c50f9b85918aea102583b11f45c5e0cfa11c50fc6d3c30a713b7082\n",
            "  Stored in directory: /root/.cache/pip/wheels/4b/c3/77/a5f48aeb0d3efb7cd5ad61cbd3da30bbf9ffc9662b07c9f879\n",
            "Successfully built gdown mpld3 overrides segtok sqlitedict ftfy langdetect lru-dict terminaltables wikipedia-api word2number\n",
            "Installing collected packages: tqdm, requests, importlib-metadata, sentencepiece, overrides, xxhash, wikipedia-api, sqlitedict, segtok, mpld3, more-itertools, langdetect, konoha, janome, gdown, ftfy, fsspec, deprecated, conllu, bpemb, word2number, terminaltables, num2words, lru-dict, lemminflect, language-tool-python, flair, datasets, bert-score, textattack\n",
            "  Attempting uninstall: tqdm\n",
            "    Found existing installation: tqdm 4.62.3\n",
            "    Uninstalling tqdm-4.62.3:\n",
            "      Successfully uninstalled tqdm-4.62.3\n",
            "  Attempting uninstall: requests\n",
            "    Found existing installation: requests 2.23.0\n",
            "    Uninstalling requests-2.23.0:\n",
            "      Successfully uninstalled requests-2.23.0\n",
            "  Attempting uninstall: importlib-metadata\n",
            "    Found existing installation: importlib-metadata 4.8.1\n",
            "    Uninstalling importlib-metadata-4.8.1:\n",
            "      Successfully uninstalled importlib-metadata-4.8.1\n",
            "  Attempting uninstall: sentencepiece\n",
            "    Found existing installation: sentencepiece 0.1.96\n",
            "    Uninstalling sentencepiece-0.1.96:\n",
            "      Successfully uninstalled sentencepiece-0.1.96\n",
            "  Attempting uninstall: more-itertools\n",
            "    Found existing installation: more-itertools 8.10.0\n",
            "    Uninstalling more-itertools-8.10.0:\n",
            "      Successfully uninstalled more-itertools-8.10.0\n",
            "  Attempting uninstall: gdown\n",
            "    Found existing installation: gdown 3.6.4\n",
            "    Uninstalling gdown-3.6.4:\n",
            "      Successfully uninstalled gdown-3.6.4\n",
            "\u001b[31mERROR: pip's dependency resolver does not currently take into account all the packages that are installed. This behaviour is the source of the following dependency conflicts.\n",
            "google-colab 1.0.0 requires requests~=2.23.0, but you have requests 2.26.0 which is incompatible.\n",
            "datascience 0.10.6 requires folium==0.2.1, but you have folium 0.8.3 which is incompatible.\u001b[0m\n",
            "Successfully installed bert-score-0.3.10 bpemb-0.3.3 conllu-4.4.1 datasets-1.11.0 deprecated-1.2.13 flair-0.9 fsspec-2021.9.0 ftfy-6.0.3 gdown-3.12.2 importlib-metadata-3.10.1 janome-0.4.1 konoha-4.6.5 langdetect-1.0.9 language-tool-python-2.6.1 lemminflect-0.2.2 lru-dict-1.1.7 more-itertools-8.8.0 mpld3-0.3 num2words-0.5.10 overrides-3.1.0 requests-2.26.0 segtok-1.5.10 sentencepiece-0.1.95 sqlitedict-1.7.0 terminaltables-3.1.0 textattack-0.3.3 tqdm-4.49.0 wikipedia-api-0.5.4 word2number-1.1 xxhash-2.0.2\n"
          ]
        }
      ],
      "source": [
        "#!pip install textattack"
      ]
    },
    {
      "cell_type": "code",
      "execution_count": null,
      "metadata": {
        "colab": {
          "base_uri": "https://localhost:8080/"
        },
        "collapsed": true,
        "id": "iwHafUpr78qv",
        "outputId": "401ab18f-2b46-405b-bd03-8541c580ef68"
      },
      "outputs": [
        {
          "name": "stdout",
          "output_type": "stream",
          "text": [
            "Requirement already satisfied: textattack in /usr/local/lib/python3.7/dist-packages (0.3.3)\n",
            "Requirement already satisfied: bert-score>=0.3.5 in /usr/local/lib/python3.7/dist-packages (from textattack) (0.3.10)\n",
            "Requirement already satisfied: torch!=1.8,>=1.7.0 in /usr/local/lib/python3.7/dist-packages (from textattack) (1.9.0+cu102)\n",
            "Requirement already satisfied: scipy>=1.4.1 in /usr/local/lib/python3.7/dist-packages (from textattack) (1.4.1)\n",
            "Requirement already satisfied: pandas>=1.0.1 in /usr/local/lib/python3.7/dist-packages (from textattack) (1.1.5)\n",
            "Requirement already satisfied: tqdm<4.50.0,>=4.27 in /usr/local/lib/python3.7/dist-packages (from textattack) (4.49.0)\n",
            "Requirement already satisfied: editdistance in /usr/local/lib/python3.7/dist-packages (from textattack) (0.5.3)\n",
            "Requirement already satisfied: datasets in /usr/local/lib/python3.7/dist-packages (from textattack) (1.11.0)\n",
            "Requirement already satisfied: more-itertools in /usr/local/lib/python3.7/dist-packages (from textattack) (8.8.0)\n",
            "Requirement already satisfied: filelock in /usr/local/lib/python3.7/dist-packages (from textattack) (3.0.12)\n",
            "Requirement already satisfied: nltk in /usr/local/lib/python3.7/dist-packages (from textattack) (3.2.5)\n",
            "Requirement already satisfied: lemminflect in /usr/local/lib/python3.7/dist-packages (from textattack) (0.2.2)\n",
            "Requirement already satisfied: word2number in /usr/local/lib/python3.7/dist-packages (from textattack) (1.1)\n",
            "Requirement already satisfied: lru-dict in /usr/local/lib/python3.7/dist-packages (from textattack) (1.1.7)\n",
            "Requirement already satisfied: transformers>=3.3.0 in /usr/local/lib/python3.7/dist-packages (from textattack) (4.11.1)\n",
            "Requirement already satisfied: numpy>=1.19.2 in /usr/local/lib/python3.7/dist-packages (from textattack) (1.19.5)\n",
            "Requirement already satisfied: terminaltables in /usr/local/lib/python3.7/dist-packages (from textattack) (3.1.0)\n",
            "Requirement already satisfied: flair in /usr/local/lib/python3.7/dist-packages (from textattack) (0.9)\n",
            "Requirement already satisfied: num2words in /usr/local/lib/python3.7/dist-packages (from textattack) (0.5.10)\n",
            "Requirement already satisfied: language-tool-python in /usr/local/lib/python3.7/dist-packages (from textattack) (2.6.1)\n",
            "Requirement already satisfied: PySocks!=1.5.7,>=1.5.6 in /usr/local/lib/python3.7/dist-packages (from textattack) (1.7.1)\n",
            "Requirement already satisfied: requests in /usr/local/lib/python3.7/dist-packages (from bert-score>=0.3.5->textattack) (2.26.0)\n",
            "Requirement already satisfied: packaging>=20.9 in /usr/local/lib/python3.7/dist-packages (from bert-score>=0.3.5->textattack) (21.0)\n",
            "Requirement already satisfied: matplotlib in /usr/local/lib/python3.7/dist-packages (from bert-score>=0.3.5->textattack) (3.2.2)\n",
            "Requirement already satisfied: pyparsing>=2.0.2 in /usr/local/lib/python3.7/dist-packages (from packaging>=20.9->bert-score>=0.3.5->textattack) (2.4.7)\n",
            "Requirement already satisfied: pytz>=2017.2 in /usr/local/lib/python3.7/dist-packages (from pandas>=1.0.1->textattack) (2018.9)\n",
            "Requirement already satisfied: python-dateutil>=2.7.3 in /usr/local/lib/python3.7/dist-packages (from pandas>=1.0.1->textattack) (2.8.2)\n",
            "Requirement already satisfied: six>=1.5 in /usr/local/lib/python3.7/dist-packages (from python-dateutil>=2.7.3->pandas>=1.0.1->textattack) (1.15.0)\n",
            "Requirement already satisfied: typing-extensions in /usr/local/lib/python3.7/dist-packages (from torch!=1.8,>=1.7.0->textattack) (3.7.4.3)\n",
            "Requirement already satisfied: huggingface-hub>=0.0.17 in /usr/local/lib/python3.7/dist-packages (from transformers>=3.3.0->textattack) (0.0.17)\n",
            "Requirement already satisfied: sacremoses in /usr/local/lib/python3.7/dist-packages (from transformers>=3.3.0->textattack) (0.0.46)\n",
            "Requirement already satisfied: importlib-metadata in /usr/local/lib/python3.7/dist-packages (from transformers>=3.3.0->textattack) (3.10.1)\n",
            "Requirement already satisfied: regex!=2019.12.17 in /usr/local/lib/python3.7/dist-packages (from transformers>=3.3.0->textattack) (2019.12.20)\n",
            "Requirement already satisfied: pyyaml>=5.1 in /usr/local/lib/python3.7/dist-packages (from transformers>=3.3.0->textattack) (5.4.1)\n",
            "Requirement already satisfied: tokenizers<0.11,>=0.10.1 in /usr/local/lib/python3.7/dist-packages (from transformers>=3.3.0->textattack) (0.10.3)\n",
            "Requirement already satisfied: multiprocess in /usr/local/lib/python3.7/dist-packages (from datasets->textattack) (0.70.12.2)\n",
            "Requirement already satisfied: dill in /usr/local/lib/python3.7/dist-packages (from datasets->textattack) (0.3.4)\n",
            "Requirement already satisfied: fsspec>=2021.05.0 in /usr/local/lib/python3.7/dist-packages (from datasets->textattack) (2021.9.0)\n",
            "Requirement already satisfied: xxhash in /usr/local/lib/python3.7/dist-packages (from datasets->textattack) (2.0.2)\n",
            "Requirement already satisfied: pyarrow!=4.0.0,>=1.0.0 in /usr/local/lib/python3.7/dist-packages (from datasets->textattack) (3.0.0)\n",
            "Requirement already satisfied: urllib3<1.27,>=1.21.1 in /usr/local/lib/python3.7/dist-packages (from requests->bert-score>=0.3.5->textattack) (1.24.3)\n",
            "Requirement already satisfied: certifi>=2017.4.17 in /usr/local/lib/python3.7/dist-packages (from requests->bert-score>=0.3.5->textattack) (2021.5.30)\n",
            "Requirement already satisfied: idna<4,>=2.5 in /usr/local/lib/python3.7/dist-packages (from requests->bert-score>=0.3.5->textattack) (2.10)\n",
            "Requirement already satisfied: charset-normalizer~=2.0.0 in /usr/local/lib/python3.7/dist-packages (from requests->bert-score>=0.3.5->textattack) (2.0.6)\n",
            "Requirement already satisfied: wikipedia-api in /usr/local/lib/python3.7/dist-packages (from flair->textattack) (0.5.4)\n",
            "Requirement already satisfied: janome in /usr/local/lib/python3.7/dist-packages (from flair->textattack) (0.4.1)\n",
            "Requirement already satisfied: hyperopt>=0.1.1 in /usr/local/lib/python3.7/dist-packages (from flair->textattack) (0.1.2)\n",
            "Requirement already satisfied: conllu>=4.0 in /usr/local/lib/python3.7/dist-packages (from flair->textattack) (4.4.1)\n",
            "Requirement already satisfied: ftfy in /usr/local/lib/python3.7/dist-packages (from flair->textattack) (6.0.3)\n",
            "Requirement already satisfied: mpld3==0.3 in /usr/local/lib/python3.7/dist-packages (from flair->textattack) (0.3)\n",
            "Requirement already satisfied: scikit-learn>=0.21.3 in /usr/local/lib/python3.7/dist-packages (from flair->textattack) (0.22.2.post1)\n",
            "Requirement already satisfied: sqlitedict>=1.6.0 in /usr/local/lib/python3.7/dist-packages (from flair->textattack) (1.7.0)\n",
            "Requirement already satisfied: gensim<=3.8.3,>=3.4.0 in /usr/local/lib/python3.7/dist-packages (from flair->textattack) (3.6.0)\n",
            "Requirement already satisfied: konoha<5.0.0,>=4.0.0 in /usr/local/lib/python3.7/dist-packages (from flair->textattack) (4.6.5)\n",
            "Requirement already satisfied: segtok>=1.5.7 in /usr/local/lib/python3.7/dist-packages (from flair->textattack) (1.5.10)\n",
            "Requirement already satisfied: lxml in /usr/local/lib/python3.7/dist-packages (from flair->textattack) (4.2.6)\n",
            "Requirement already satisfied: langdetect in /usr/local/lib/python3.7/dist-packages (from flair->textattack) (1.0.9)\n",
            "Requirement already satisfied: gdown==3.12.2 in /usr/local/lib/python3.7/dist-packages (from flair->textattack) (3.12.2)\n",
            "Requirement already satisfied: deprecated>=1.2.4 in /usr/local/lib/python3.7/dist-packages (from flair->textattack) (1.2.13)\n",
            "Requirement already satisfied: bpemb>=0.3.2 in /usr/local/lib/python3.7/dist-packages (from flair->textattack) (0.3.3)\n",
            "Requirement already satisfied: tabulate in /usr/local/lib/python3.7/dist-packages (from flair->textattack) (0.8.9)\n",
            "Requirement already satisfied: sentencepiece==0.1.95 in /usr/local/lib/python3.7/dist-packages (from flair->textattack) (0.1.95)\n",
            "Requirement already satisfied: wrapt<2,>=1.10 in /usr/local/lib/python3.7/dist-packages (from deprecated>=1.2.4->flair->textattack) (1.12.1)\n",
            "Requirement already satisfied: smart-open>=1.2.1 in /usr/local/lib/python3.7/dist-packages (from gensim<=3.8.3,>=3.4.0->flair->textattack) (5.2.1)\n",
            "Requirement already satisfied: networkx in /usr/local/lib/python3.7/dist-packages (from hyperopt>=0.1.1->flair->textattack) (2.6.3)\n",
            "Requirement already satisfied: pymongo in /usr/local/lib/python3.7/dist-packages (from hyperopt>=0.1.1->flair->textattack) (3.12.0)\n",
            "Requirement already satisfied: future in /usr/local/lib/python3.7/dist-packages (from hyperopt>=0.1.1->flair->textattack) (0.16.0)\n",
            "Requirement already satisfied: overrides<4.0.0,>=3.0.0 in /usr/local/lib/python3.7/dist-packages (from konoha<5.0.0,>=4.0.0->flair->textattack) (3.1.0)\n",
            "Requirement already satisfied: zipp>=0.5 in /usr/local/lib/python3.7/dist-packages (from importlib-metadata->transformers>=3.3.0->textattack) (3.5.0)\n",
            "Requirement already satisfied: cycler>=0.10 in /usr/local/lib/python3.7/dist-packages (from matplotlib->bert-score>=0.3.5->textattack) (0.10.0)\n",
            "Requirement already satisfied: kiwisolver>=1.0.1 in /usr/local/lib/python3.7/dist-packages (from matplotlib->bert-score>=0.3.5->textattack) (1.3.2)\n",
            "Requirement already satisfied: joblib>=0.11 in /usr/local/lib/python3.7/dist-packages (from scikit-learn>=0.21.3->flair->textattack) (1.0.1)\n",
            "Requirement already satisfied: wcwidth in /usr/local/lib/python3.7/dist-packages (from ftfy->flair->textattack) (0.2.5)\n",
            "Requirement already satisfied: docopt>=0.6.2 in /usr/local/lib/python3.7/dist-packages (from num2words->textattack) (0.6.2)\n",
            "Requirement already satisfied: click in /usr/local/lib/python3.7/dist-packages (from sacremoses->transformers>=3.3.0->textattack) (7.1.2)\n"
          ]
        }
      ],
      "source": [
        "#!pip install textattack --upgrade"
      ]
    },
    {
      "cell_type": "code",
      "execution_count": null,
      "metadata": {
        "colab": {
          "base_uri": "https://localhost:8080/"
        },
        "collapsed": true,
        "id": "UG0JzML3w2xX",
        "outputId": "e58de89a-24d6-45fd-b012-12eec6a6388b"
      },
      "outputs": [
        {
          "name": "stdout",
          "output_type": "stream",
          "text": [
            "Collecting colour\n",
            "^C\n",
            "\u001b[31mERROR: Operation cancelled by user\u001b[0m\n"
          ]
        }
      ],
      "source": [
        "#!pip install colour"
      ]
    },
    {
      "cell_type": "markdown",
      "metadata": {
        "id": "gFsgOUtLzRvM"
      },
      "source": [
        "## Первоначальная загрузка данных"
      ]
    },
    {
      "cell_type": "code",
      "execution_count": null,
      "metadata": {
        "colab": {
          "base_uri": "https://localhost:8080/"
        },
        "collapsed": true,
        "id": "MRwVMWoFNbO5",
        "outputId": "a826d322-84a5-43f3-b4fc-3ab4cb0a5198"
      },
      "outputs": [
        {
          "name": "stdout",
          "output_type": "stream",
          "text": [
            "--2021-10-27 14:24:16--  https://nlp.cs.unc.edu/data/lxmert_data/vqa/nominival.json\n",
            "Resolving nlp.cs.unc.edu (nlp.cs.unc.edu)... 152.2.128.53\n",
            "Connecting to nlp.cs.unc.edu (nlp.cs.unc.edu)|152.2.128.53|:443... ^C\n",
            "--2021-10-27 14:26:18--  https://nlp.cs.unc.edu/data/lxmert_data/vqa/minival.json\n",
            "Resolving nlp.cs.unc.edu (nlp.cs.unc.edu)... 152.2.128.53\n",
            "Connecting to nlp.cs.unc.edu (nlp.cs.unc.edu)|152.2.128.53|:443... ^C\n"
          ]
        }
      ],
      "source": [
        "#!wget https://nlp.cs.unc.edu/data/lxmert_data/vqa/nominival.json -P  data/\n",
        "#!wget https://nlp.cs.unc.edu/data/lxmert_data/vqa/minival.json -P data/"
      ]
    },
    {
      "cell_type": "code",
      "execution_count": null,
      "metadata": {
        "colab": {
          "base_uri": "https://localhost:8080/"
        },
        "collapsed": true,
        "id": "uTv55VnvNdwr",
        "outputId": "87afb25e-5711-4fdd-ebc7-fa99f69aae4b"
      },
      "outputs": [
        {
          "name": "stdout",
          "output_type": "stream",
          "text": [
            "--2021-10-07 10:14:29--  http://images.cocodataset.org/zips/val2014.zip\n",
            "Resolving images.cocodataset.org (images.cocodataset.org)... 52.216.228.136\n",
            "Connecting to images.cocodataset.org (images.cocodataset.org)|52.216.228.136|:80... connected.\n",
            "HTTP request sent, awaiting response... 200 OK\n",
            "Length: 6645013297 (6.2G) [application/zip]\n",
            "Saving to: ‘val2014.zip’\n",
            "\n",
            "val2014.zip         100%[===================>]   6.19G  30.7MB/s    in 3m 5s   \n",
            "\n",
            "2021-10-07 10:17:35 (34.2 MB/s) - ‘val2014.zip’ saved [6645013297/6645013297]\n",
            "\n"
          ]
        }
      ],
      "source": [
        "#!wget http://images.cocodataset.org/zips/val2014.zip\n",
        "#!unzip -q val2014.zip"
      ]
    },
    {
      "cell_type": "code",
      "execution_count": null,
      "metadata": {
        "id": "VZAjA-tHMI27"
      },
      "outputs": [],
      "source": [
        "#!wget http://images.cocodataset.org/annotations/annotations_trainval2014.zip\n",
        "#!unzip -q annotations_trainval2014.zip"
      ]
    },
    {
      "cell_type": "code",
      "execution_count": null,
      "metadata": {
        "id": "t4jhQuaCNkiJ"
      },
      "outputs": [],
      "source": [
        "import json\n",
        "from IPython.display import Image\n",
        "\n",
        "\n",
        "with open(\"annotations/instances_val2014.json\", \"r\") as read_file:\n",
        "    keyp = json.load(read_file)\n",
        "\n",
        "cats = keyp['categories']\n",
        "annos = keyp['annotations']"
      ]
    },
    {
      "cell_type": "code",
      "execution_count": null,
      "metadata": {
        "colab": {
          "base_uri": "https://localhost:8080/"
        },
        "id": "3meIMdfEREWr",
        "outputId": "e91ba6bb-e1af-4677-9a4f-6efdeec5e25c"
      },
      "outputs": [
        {
          "data": {
            "text/plain": [
              "Counter({'person': 1,\n",
              "         'vehicle': 8,\n",
              "         'outdoor': 5,\n",
              "         'animal': 10,\n",
              "         'accessory': 5,\n",
              "         'sports': 10,\n",
              "         'kitchen': 7,\n",
              "         'food': 10,\n",
              "         'furniture': 6,\n",
              "         'electronic': 6,\n",
              "         'appliance': 5,\n",
              "         'indoor': 7})"
            ]
          },
          "execution_count": 3,
          "metadata": {},
          "output_type": "execute_result"
        }
      ],
      "source": [
        "from collections import Counter\n",
        "\n",
        "cnt = Counter()\n",
        "for a in annos:\n",
        "    cnt[a['image_id']] += 1\n",
        "\n",
        "super = Counter()\n",
        "for c in cats:\n",
        "    super[c['supercategory']] += 1\n",
        "super"
      ]
    },
    {
      "cell_type": "code",
      "execution_count": null,
      "metadata": {
        "id": "Khc5_38EuOyV",
        "outputId": "8753a235-c8a6-409b-9bf2-ba3be1d75748"
      },
      "outputs": [
        {
          "data": {
            "text/plain": [
              "{'segmentation': [[239.97,\n",
              "   260.24,\n",
              "   222.04,\n",
              "   270.49,\n",
              "   199.84,\n",
              "   253.41,\n",
              "   213.5,\n",
              "   227.79,\n",
              "   259.62,\n",
              "   200.46,\n",
              "   274.13,\n",
              "   202.17,\n",
              "   277.55,\n",
              "   210.71,\n",
              "   249.37,\n",
              "   253.41,\n",
              "   237.41,\n",
              "   264.51,\n",
              "   242.54,\n",
              "   261.95,\n",
              "   228.87,\n",
              "   271.34]],\n",
              " 'area': 2765.1486500000005,\n",
              " 'iscrowd': 0,\n",
              " 'image_id': 558840,\n",
              " 'bbox': [199.84, 200.46, 77.71, 70.88],\n",
              " 'category_id': 58,\n",
              " 'id': 156}"
            ]
          },
          "execution_count": 4,
          "metadata": {},
          "output_type": "execute_result"
        }
      ],
      "source": [
        "annos[0]"
      ]
    },
    {
      "cell_type": "code",
      "execution_count": null,
      "metadata": {
        "id": "o9vYE6TBTYRJ"
      },
      "outputs": [],
      "source": [
        "supercats = dict()\n",
        "for c in cats:\n",
        "    id = c['id']\n",
        "    sc = c['supercategory']\n",
        "    if sc not in supercats:\n",
        "        supercats[sc] = set()\n",
        "    supercats[sc].add(id)\n",
        "\n",
        "catstoimgs = dict()\n",
        "for sc in supercats:\n",
        "    catstoimgs[sc] = set()\n",
        "for sc in supercats:\n",
        "    for a in annos:\n",
        "        ctg = a['category_id']\n",
        "        if ctg in supercats[sc]:\n",
        "            catstoimgs[sc].add(str(a['image_id']))"
      ]
    },
    {
      "cell_type": "code",
      "execution_count": null,
      "metadata": {
        "colab": {
          "base_uri": "https://localhost:8080/",
          "height": 35
        },
        "id": "sHoYoLlNTgXe",
        "outputId": "9a3a8cdc-b92c-46e9-ca26-ebcf46680f53"
      },
      "outputs": [
        {
          "data": {
            "text/plain": [
              "'322922'"
            ]
          },
          "execution_count": 7,
          "metadata": {},
          "output_type": "execute_result"
        }
      ],
      "source": [
        "next(iter(catstoimgs['person']))"
      ]
    },
    {
      "cell_type": "code",
      "execution_count": null,
      "metadata": {
        "id": "XB3GjIvQzZpK"
      },
      "outputs": [],
      "source": [
        "class DataLoader:\n",
        "    \"\"\"\n",
        "    This class can load all sufficient data\n",
        "    self.data contains all info about pictures and question for each picture\n",
        "\n",
        "    structure of each element of self.data:\n",
        "        - answer_type\n",
        "        - img_id -- name of image from COCO dataset\n",
        "        - label -- list of answers with probabilities\n",
        "        - question_id\n",
        "        - question_type\n",
        "        - sent -- question\n",
        "\n",
        "    \"\"\"\n",
        "\n",
        "    def __init__(self):\n",
        "        with open(\"data/nominival.json\", \"r\") as read_file:\n",
        "            self.data = json.load(read_file)\n",
        "\n",
        "    def show(self):\n",
        "        data_it = self.data[5]\n",
        "        img = data_it['img_id']\n",
        "        display(Image('val2014/' + img + '.jpg'))\n",
        "        question = data_it['sent']\n",
        "        print(question)\n",
        "        answer = data_it['label']\n",
        "        print(answer)"
      ]
    },
    {
      "cell_type": "code",
      "execution_count": null,
      "metadata": {
        "id": "YmlPaq7SP_c_",
        "outputId": "232fdfd9-e9ec-4701-b61f-0cae361e5752"
      },
      "outputs": [
        {
          "data": {
            "image/jpeg": "[encoded data removed]",
            "text/plain": [
              "<IPython.core.display.Image object>"
            ]
          },
          "metadata": {},
          "output_type": "display_data"
        },
        {
          "name": "stdout",
          "output_type": "stream",
          "text": [
            "Is this rice noodle soup?\n",
            "{'yes': 1}\n"
          ]
        }
      ],
      "source": [
        "DL = DataLoader()\n",
        "DL.show()"
      ]
    },
    {
      "cell_type": "markdown",
      "metadata": {
        "id": "DVr0ibR5UfIh"
      },
      "source": [
        "Main data container is **catstoimgs**: dictionary that contains each supercategory and a set of image ids for them"
      ]
    },
    {
      "cell_type": "markdown",
      "metadata": {
        "id": "s4hZMm5azIQa"
      },
      "source": [
        "# Импорт библиотек"
      ]
    },
    {
      "cell_type": "code",
      "execution_count": null,
      "metadata": {
        "colab": {
          "base_uri": "https://localhost:8080/"
        },
        "collapsed": true,
        "id": "CakgD3-WasZh",
        "outputId": "e9584431-ff15-4fee-a802-0e0beeed08f6"
      },
      "outputs": [
        {
          "name": "stdout",
          "output_type": "stream",
          "text": [
            "Collecting tensorflow_text\n",
            "  Downloading tensorflow_text-2.6.0-cp37-cp37m-manylinux1_x86_64.whl (4.4 MB)\n",
            "\u001b[K     |████████████████████████████████| 4.4 MB 12.4 MB/s \n",
            "\u001b[?25hRequirement already satisfied: tensorflow-hub>=0.8.0 in /usr/local/lib/python3.7/dist-packages (from tensorflow_text) (0.12.0)\n",
            "Requirement already satisfied: tensorflow<2.7,>=2.6.0 in /usr/local/lib/python3.7/dist-packages (from tensorflow_text) (2.6.0)\n",
            "Requirement already satisfied: wheel~=0.35 in /usr/local/lib/python3.7/dist-packages (from tensorflow<2.7,>=2.6.0->tensorflow_text) (0.37.0)\n",
            "Requirement already satisfied: six~=1.15.0 in /usr/local/lib/python3.7/dist-packages (from tensorflow<2.7,>=2.6.0->tensorflow_text) (1.15.0)\n",
            "Requirement already satisfied: clang~=5.0 in /usr/local/lib/python3.7/dist-packages (from tensorflow<2.7,>=2.6.0->tensorflow_text) (5.0)\n",
            "Requirement already satisfied: absl-py~=0.10 in /usr/local/lib/python3.7/dist-packages (from tensorflow<2.7,>=2.6.0->tensorflow_text) (0.12.0)\n",
            "Requirement already satisfied: astunparse~=1.6.3 in /usr/local/lib/python3.7/dist-packages (from tensorflow<2.7,>=2.6.0->tensorflow_text) (1.6.3)\n",
            "Requirement already satisfied: google-pasta~=0.2 in /usr/local/lib/python3.7/dist-packages (from tensorflow<2.7,>=2.6.0->tensorflow_text) (0.2.0)\n",
            "Requirement already satisfied: protobuf>=3.9.2 in /usr/local/lib/python3.7/dist-packages (from tensorflow<2.7,>=2.6.0->tensorflow_text) (3.17.3)\n",
            "Requirement already satisfied: grpcio<2.0,>=1.37.0 in /usr/local/lib/python3.7/dist-packages (from tensorflow<2.7,>=2.6.0->tensorflow_text) (1.41.0)\n",
            "Requirement already satisfied: gast==0.4.0 in /usr/local/lib/python3.7/dist-packages (from tensorflow<2.7,>=2.6.0->tensorflow_text) (0.4.0)\n",
            "Requirement already satisfied: typing-extensions~=3.7.4 in /usr/local/lib/python3.7/dist-packages (from tensorflow<2.7,>=2.6.0->tensorflow_text) (3.7.4.3)\n",
            "Requirement already satisfied: termcolor~=1.1.0 in /usr/local/lib/python3.7/dist-packages (from tensorflow<2.7,>=2.6.0->tensorflow_text) (1.1.0)\n",
            "Requirement already satisfied: tensorflow-estimator~=2.6 in /usr/local/lib/python3.7/dist-packages (from tensorflow<2.7,>=2.6.0->tensorflow_text) (2.6.0)\n",
            "Requirement already satisfied: h5py~=3.1.0 in /usr/local/lib/python3.7/dist-packages (from tensorflow<2.7,>=2.6.0->tensorflow_text) (3.1.0)\n",
            "Requirement already satisfied: tensorboard~=2.6 in /usr/local/lib/python3.7/dist-packages (from tensorflow<2.7,>=2.6.0->tensorflow_text) (2.6.0)\n",
            "Requirement already satisfied: flatbuffers~=1.12.0 in /usr/local/lib/python3.7/dist-packages (from tensorflow<2.7,>=2.6.0->tensorflow_text) (1.12)\n",
            "Requirement already satisfied: numpy~=1.19.2 in /usr/local/lib/python3.7/dist-packages (from tensorflow<2.7,>=2.6.0->tensorflow_text) (1.19.5)\n",
            "Requirement already satisfied: keras-preprocessing~=1.1.2 in /usr/local/lib/python3.7/dist-packages (from tensorflow<2.7,>=2.6.0->tensorflow_text) (1.1.2)\n",
            "Requirement already satisfied: keras~=2.6 in /usr/local/lib/python3.7/dist-packages (from tensorflow<2.7,>=2.6.0->tensorflow_text) (2.6.0)\n",
            "Requirement already satisfied: opt-einsum~=3.3.0 in /usr/local/lib/python3.7/dist-packages (from tensorflow<2.7,>=2.6.0->tensorflow_text) (3.3.0)\n",
            "Requirement already satisfied: wrapt~=1.12.1 in /usr/local/lib/python3.7/dist-packages (from tensorflow<2.7,>=2.6.0->tensorflow_text) (1.12.1)\n",
            "Requirement already satisfied: cached-property in /usr/local/lib/python3.7/dist-packages (from h5py~=3.1.0->tensorflow<2.7,>=2.6.0->tensorflow_text) (1.5.2)\n",
            "Requirement already satisfied: requests<3,>=2.21.0 in /usr/local/lib/python3.7/dist-packages (from tensorboard~=2.6->tensorflow<2.7,>=2.6.0->tensorflow_text) (2.23.0)\n",
            "Requirement already satisfied: google-auth<2,>=1.6.3 in /usr/local/lib/python3.7/dist-packages (from tensorboard~=2.6->tensorflow<2.7,>=2.6.0->tensorflow_text) (1.35.0)\n",
            "Requirement already satisfied: setuptools>=41.0.0 in /usr/local/lib/python3.7/dist-packages (from tensorboard~=2.6->tensorflow<2.7,>=2.6.0->tensorflow_text) (57.4.0)\n",
            "Requirement already satisfied: tensorboard-plugin-wit>=1.6.0 in /usr/local/lib/python3.7/dist-packages (from tensorboard~=2.6->tensorflow<2.7,>=2.6.0->tensorflow_text) (1.8.0)\n",
            "Requirement already satisfied: markdown>=2.6.8 in /usr/local/lib/python3.7/dist-packages (from tensorboard~=2.6->tensorflow<2.7,>=2.6.0->tensorflow_text) (3.3.4)\n",
            "Requirement already satisfied: google-auth-oauthlib<0.5,>=0.4.1 in /usr/local/lib/python3.7/dist-packages (from tensorboard~=2.6->tensorflow<2.7,>=2.6.0->tensorflow_text) (0.4.6)\n",
            "Requirement already satisfied: werkzeug>=0.11.15 in /usr/local/lib/python3.7/dist-packages (from tensorboard~=2.6->tensorflow<2.7,>=2.6.0->tensorflow_text) (1.0.1)\n",
            "Requirement already satisfied: tensorboard-data-server<0.7.0,>=0.6.0 in /usr/local/lib/python3.7/dist-packages (from tensorboard~=2.6->tensorflow<2.7,>=2.6.0->tensorflow_text) (0.6.1)\n",
            "Requirement already satisfied: cachetools<5.0,>=2.0.0 in /usr/local/lib/python3.7/dist-packages (from google-auth<2,>=1.6.3->tensorboard~=2.6->tensorflow<2.7,>=2.6.0->tensorflow_text) (4.2.4)\n",
            "Requirement already satisfied: pyasn1-modules>=0.2.1 in /usr/local/lib/python3.7/dist-packages (from google-auth<2,>=1.6.3->tensorboard~=2.6->tensorflow<2.7,>=2.6.0->tensorflow_text) (0.2.8)\n",
            "Requirement already satisfied: rsa<5,>=3.1.4 in /usr/local/lib/python3.7/dist-packages (from google-auth<2,>=1.6.3->tensorboard~=2.6->tensorflow<2.7,>=2.6.0->tensorflow_text) (4.7.2)\n",
            "Requirement already satisfied: requests-oauthlib>=0.7.0 in /usr/local/lib/python3.7/dist-packages (from google-auth-oauthlib<0.5,>=0.4.1->tensorboard~=2.6->tensorflow<2.7,>=2.6.0->tensorflow_text) (1.3.0)\n",
            "Requirement already satisfied: importlib-metadata in /usr/local/lib/python3.7/dist-packages (from markdown>=2.6.8->tensorboard~=2.6->tensorflow<2.7,>=2.6.0->tensorflow_text) (4.8.1)\n",
            "Requirement already satisfied: pyasn1<0.5.0,>=0.4.6 in /usr/local/lib/python3.7/dist-packages (from pyasn1-modules>=0.2.1->google-auth<2,>=1.6.3->tensorboard~=2.6->tensorflow<2.7,>=2.6.0->tensorflow_text) (0.4.8)\n",
            "Requirement already satisfied: urllib3!=1.25.0,!=1.25.1,<1.26,>=1.21.1 in /usr/local/lib/python3.7/dist-packages (from requests<3,>=2.21.0->tensorboard~=2.6->tensorflow<2.7,>=2.6.0->tensorflow_text) (1.24.3)\n",
            "Requirement already satisfied: certifi>=2017.4.17 in /usr/local/lib/python3.7/dist-packages (from requests<3,>=2.21.0->tensorboard~=2.6->tensorflow<2.7,>=2.6.0->tensorflow_text) (2021.5.30)\n",
            "Requirement already satisfied: idna<3,>=2.5 in /usr/local/lib/python3.7/dist-packages (from requests<3,>=2.21.0->tensorboard~=2.6->tensorflow<2.7,>=2.6.0->tensorflow_text) (2.10)\n",
            "Requirement already satisfied: chardet<4,>=3.0.2 in /usr/local/lib/python3.7/dist-packages (from requests<3,>=2.21.0->tensorboard~=2.6->tensorflow<2.7,>=2.6.0->tensorflow_text) (3.0.4)\n",
            "Requirement already satisfied: oauthlib>=3.0.0 in /usr/local/lib/python3.7/dist-packages (from requests-oauthlib>=0.7.0->google-auth-oauthlib<0.5,>=0.4.1->tensorboard~=2.6->tensorflow<2.7,>=2.6.0->tensorflow_text) (3.1.1)\n",
            "Requirement already satisfied: zipp>=0.5 in /usr/local/lib/python3.7/dist-packages (from importlib-metadata->markdown>=2.6.8->tensorboard~=2.6->tensorflow<2.7,>=2.6.0->tensorflow_text) (3.6.0)\n",
            "Installing collected packages: tensorflow-text\n",
            "Successfully installed tensorflow-text-2.6.0\n"
          ]
        }
      ],
      "source": [
        "#!pip install tensorflow_text"
      ]
    },
    {
      "cell_type": "code",
      "execution_count": null,
      "metadata": {
        "id": "ChKl-Bz9zIwi"
      },
      "outputs": [],
      "source": [
        "import albumentations as A\n",
        "import cv2\n",
        "import matplotlib.pyplot as plt\n",
        "import numpy as np\n",
        "import requests\n",
        "\n",
        "from colour import Color\n",
        "#from easynmt import EasyNMT\n",
        "from scipy.linalg import norm\n",
        "from sklearn.utils.random import sample_without_replacement\n",
        "#from textattack.augmentation import Augmenter"
      ]
    },
    {
      "cell_type": "code",
      "execution_count": null,
      "metadata": {
        "id": "Vmbx1ZYEDU80"
      },
      "outputs": [],
      "source": [
        "# from textattack.transformations import WordSwap\n",
        "# from textattack.transformations import WordSwapChangeLocation\n",
        "# from textattack.transformations import WordSwapChangeName\n",
        "# from textattack.transformations import WordSwapChangeNumber\n",
        "# from textattack.transformations import WordSwapContract\n",
        "# from textattack.transformations import WordSwapEmbedding\n",
        "# from textattack.transformations import WordSwapExtend\n",
        "# from textattack.transformations import WordSwapGradientBased\n",
        "# from textattack.transformations import WordSwapHomoglyphSwap\n",
        "# from textattack.transformations import WordSwapHowNet\n",
        "# from textattack.transformations import WordSwapInflections\n",
        "# from textattack.transformations import WordSwapMaskedLM\n",
        "# from textattack.transformations import WordSwapNeighboringCharacterSwap\n",
        "# from textattack.transformations import WordSwapQWERTY\n",
        "# from textattack.transformations import WordSwapRandomCharacterDeletion\n",
        "# from textattack.transformations import WordSwapRandomCharacterInsertion\n",
        "# from textattack.transformations import WordSwapRandomCharacterSubstitution\n",
        "# from textattack.transformations import WordSwapWordNet"
      ]
    },
    {
      "cell_type": "code",
      "execution_count": null,
      "metadata": {
        "id": "nBGcGvyOLed_"
      },
      "outputs": [],
      "source": [
        "#from textattack.augmentation import CLAREAugmenter - doesn't work for \n",
        "#some reason\n",
        "# from textattack.augmentation import CharSwapAugmenter\n",
        "# from textattack.augmentation import CheckListAugmenter\n",
        "# from textattack.augmentation import DeletionAugmenter\n",
        "# from textattack.augmentation import EasyDataAugmenter\n",
        "# from textattack.augmentation import EmbeddingAugmenter\n",
        "# from textattack.augmentation import WordNetAugmenter"
      ]
    },
    {
      "cell_type": "markdown",
      "metadata": {
        "id": "dO3eX_1g2asm"
      },
      "source": [
        "# Функция для визуализации картинок"
      ]
    },
    {
      "cell_type": "code",
      "execution_count": null,
      "metadata": {
        "id": "7SxIpxtS2aF4"
      },
      "outputs": [],
      "source": [
        "def visualize(image):\n",
        "    # plt.figure(figsize=(10, 10))\n",
        "    # plt.axis('off')\n",
        "    # plt.imshow(image)\n",
        "    display(Image(image))"
      ]
    },
    {
      "cell_type": "code",
      "execution_count": null,
      "metadata": {
        "colab": {
          "base_uri": "https://localhost:8080/",
          "height": 497
        },
        "id": "HHaMGd-XbIMK",
        "outputId": "9e799b48-3f72-4009-c685-ee73a221abc5"
      },
      "outputs": [
        {
          "data": {
            "image/jpeg": "[encoded data removed]",
            "text/plain": [
              "<IPython.core.display.Image object>"
            ]
          },
          "metadata": {},
          "output_type": "display_data"
        }
      ],
      "source": [
        "visualize(\"val2014/COCO_val2014_000000341645.jpg\")"
      ]
    },
    {
      "cell_type": "code",
      "execution_count": null,
      "metadata": {
        "colab": {
          "base_uri": "https://localhost:8080/"
        },
        "id": "9VD7t0XHeErW",
        "outputId": "8dd780e4-f4e8-40f9-82bf-dc7bf713dc4b"
      },
      "outputs": [
        {
          "name": "stdout",
          "output_type": "stream",
          "text": [
            "val2014/COCO_val2014_000000322922.jpg\n"
          ]
        }
      ],
      "source": [
        "def format_(img):\n",
        "    return \"val2014/COCO_val2014_\" + \"{0:0>12}\".format(img) + '.jpg'\n",
        "\n",
        "\n",
        "for img in catstoimgs['person']:\n",
        "    image = format_(img)\n",
        "    print(image)\n",
        "    break"
      ]
    },
    {
      "cell_type": "code",
      "execution_count": null,
      "metadata": {
        "id": "LfdasuDZj5Wn"
      },
      "outputs": [],
      "source": [
        "with open(\"data/nominival.json\", \"r\") as read_file:\n",
        "    data = json.load(read_file)\n",
        "\n",
        "with open(\"data/minival.json\", 'r') as read_file1:\n",
        "    data1 = json.load(read_file1)\n",
        "\n",
        "# data contains all info\n",
        "data += data1"
      ]
    },
    {
      "cell_type": "code",
      "execution_count": null,
      "metadata": {
        "id": "76OZ0zLHuOyc",
        "outputId": "cecb8d78-ab79-4f9b-9159-aaded8fe3e77"
      },
      "outputs": [
        {
          "data": {
            "text/plain": [
              "214354"
            ]
          },
          "execution_count": 15,
          "metadata": {},
          "output_type": "execute_result"
        }
      ],
      "source": [
        "len(data)"
      ]
    },
    {
      "cell_type": "code",
      "execution_count": null,
      "metadata": {
        "id": "GdivqRSmuOyc",
        "outputId": "cea5510d-a500-48d6-98ca-189c80c13381"
      },
      "outputs": [
        {
          "data": {
            "text/plain": [
              "{'answer_type': 'other',\n",
              " 'img_id': 'COCO_val2014_000000262148',\n",
              " 'label': {'at table': 0.3, 'down': 1, 'skateboard': 0.3, 'table': 0.3},\n",
              " 'question_id': 262148000,\n",
              " 'question_type': 'none of the above',\n",
              " 'sent': 'Where is he looking?'}"
            ]
          },
          "execution_count": 16,
          "metadata": {},
          "output_type": "execute_result"
        }
      ],
      "source": [
        "data[0]"
      ]
    },
    {
      "cell_type": "code",
      "execution_count": null,
      "metadata": {
        "id": "c5sr9--xuOyc",
        "outputId": "13c53e86-9992-4a5f-f4c3-4a12d8127cc1"
      },
      "outputs": [
        {
          "data": {
            "text/plain": [
              "{'segmentation': [[239.97,\n",
              "   260.24,\n",
              "   222.04,\n",
              "   270.49,\n",
              "   199.84,\n",
              "   253.41,\n",
              "   213.5,\n",
              "   227.79,\n",
              "   259.62,\n",
              "   200.46,\n",
              "   274.13,\n",
              "   202.17,\n",
              "   277.55,\n",
              "   210.71,\n",
              "   249.37,\n",
              "   253.41,\n",
              "   237.41,\n",
              "   264.51,\n",
              "   242.54,\n",
              "   261.95,\n",
              "   228.87,\n",
              "   271.34]],\n",
              " 'area': 2765.1486500000005,\n",
              " 'iscrowd': 0,\n",
              " 'image_id': 558840,\n",
              " 'bbox': [199.84, 200.46, 77.71, 70.88],\n",
              " 'category_id': 58,\n",
              " 'id': 156}"
            ]
          },
          "execution_count": 17,
          "metadata": {},
          "output_type": "execute_result"
        }
      ],
      "source": [
        "annos[0]"
      ]
    },
    {
      "cell_type": "markdown",
      "metadata": {
        "id": "BvHv8jd_CxPU"
      },
      "source": [
        "# Класс для изменения картинок"
      ]
    },
    {
      "cell_type": "code",
      "execution_count": null,
      "metadata": {
        "id": "9Mt57KMNqX-X"
      },
      "outputs": [],
      "source": [
        "class image_attacker:\n",
        "    \"\"\"This class defines various methods related to image attacks.\n",
        "\n",
        "    :param numpy.ndarray image: 3d numpy array of the image that we want to\n",
        "    attack\n",
        "    :param numpy.ndarray new_image: 3d numpy array of the changed image, before\n",
        "    attack it is None\n",
        "    \"\"\"\n",
        "\n",
        "    def __init__(self, image):\n",
        "        self.image = image\n",
        "        self.new_image = None\n",
        "\n",
        "    def get_samples(self, dims=(2, 2), nsamp=1):\n",
        "        \"\"\"Method for getting n samples without repetitions for given\n",
        "        dimensions.\n",
        "\n",
        "        :param tuple(int, int) dims: shapes or dimensions of an array\n",
        "        :param int nsamp: nubmer of returned samples\n",
        "        :returns: array of samples\n",
        "        \"\"\"\n",
        "\n",
        "        idx = sample_without_replacement(np.prod(dims), nsamp)\n",
        "        return np.vstack(np.unravel_index(idx, dims)).T\n",
        "\n",
        "    def noise_attack(\n",
        "        self, low=0, high=31, percent=1, probability=0.1, mode=\"area\"\n",
        "    ):\n",
        "        \"\"\"Method for a noise attack.\n",
        "\n",
        "        This functions adds some random values to random pixels chosen with\n",
        "        some probability or to fixed amount of random pixels if \"area\" mode was\n",
        "        used.\n",
        "\n",
        "        :param int low: lowest value that will be added to the pixel\n",
        "        :param int high: highest value that will be added to the pixel\n",
        "        :param int percent: percent of image area that will be changed\n",
        "        (from 0 to 100)\n",
        "        :param int probability: each pixel will be changed with this\n",
        "        probability (should be from 0 to 1)\n",
        "        :param int mode: fixed area of the image will be changed if \"area\" is\n",
        "        chosen, for other values probability will be used to change pixels\n",
        "        :returns numpy.ndarray: changed image after attack\n",
        "        \"\"\"\n",
        "\n",
        "        # Choose amount of random pixels of the image and get their indexes\n",
        "        total_size = self.image.shape[0] * self.image.shape[1]\n",
        "\n",
        "        # Choose whether to colour some area or every pixel with\n",
        "        # some probability.\n",
        "        if mode == \"area\":\n",
        "            # Get indexes of random pixels\n",
        "            colouring_size = int(total_size * percent / 100)\n",
        "            idx = self.get_samples(\n",
        "                (self.image.shape[0], self.image.shape[1]), colouring_size\n",
        "            )\n",
        "        else:\n",
        "            # Get pairs of pixels' coordinates\n",
        "            pixels = (\n",
        "                np.mgrid[\n",
        "                    0 : self.image.shape[0] : 1, 0 : self.image.shape[1] : 1\n",
        "                ]\n",
        "                .reshape(2, -1)\n",
        "                .T\n",
        "            )\n",
        "            # Generate probability scores for each pixel from the image and\n",
        "            # choose those that are allowed for specified probability\n",
        "            probabilities = np.random.rand(total_size)\n",
        "            idx_list = np.where(probabilities < probability)[0]\n",
        "            idx = pixels[idx_list]\n",
        "\n",
        "        # Add random values to chosen pixels using previous indexes\n",
        "        new_image = self.image.copy()\n",
        "        new_image[idx[:, 0], idx[:, 1], 0] += np.random.randint(low, high)\n",
        "        new_image[idx[:, 0], idx[:, 1], 1] += np.random.randint(low, high)\n",
        "        new_image[idx[:, 0], idx[:, 1], 2] += np.random.randint(low, high)\n",
        "\n",
        "        self.new_image = new_image\n",
        "        return self.new_image\n",
        "\n",
        "    def colour_pixels_attack(\n",
        "        self, colour=\"black\", percent=1, probability=0.1, mode=\"area\"\n",
        "    ):\n",
        "        \"\"\"Method for a colouring random pixels attack.\n",
        "\n",
        "        This functions colors random pixels with given colout. Pixels are\n",
        "        chosen with some probability or fixed amount of random pixels will be\n",
        "        chosen if \"area\" mode was used.\n",
        "\n",
        "        :param str colour: name of the colour to paint pixels\n",
        "        :param int percent: percent of image area that will be changed\n",
        "        (from 0 to 100)\n",
        "        :param int probability: each pixel will be changed with this\n",
        "        probability (should be from 0 to 1)\n",
        "        :param int mode: fixed area of the image will be changed if \"area\" is\n",
        "        chosen, for other values probability will be used to change pixels\n",
        "        :returns numpy.ndarray: changed image after attack\n",
        "        \"\"\"\n",
        "        # Get colour from the library and it's RGB values in a list\n",
        "        c = Color(colour)\n",
        "        c = np.array(c.rgb) * 255\n",
        "\n",
        "        # Choose amount of random pixels of the image and get their indexes\n",
        "        total_size = self.image.shape[0] * self.image.shape[1]\n",
        "\n",
        "        # Choose whether to colour some area or every pixel with\n",
        "        # some probability.\n",
        "        if mode == \"area\":\n",
        "            # Get indexes of random pixels\n",
        "            colouring_size = int(total_size * percent / 100)\n",
        "            idx = self.get_samples(\n",
        "                (self.image.shape[0], self.image.shape[1]), colouring_size\n",
        "            )\n",
        "        else:\n",
        "            # Get pairs of pixel coordinates\n",
        "            pixels = (\n",
        "                np.mgrid[\n",
        "                    0 : self.image.shape[0] : 1, 0 : self.image.shape[1] : 1\n",
        "                ]\n",
        "                .reshape(2, -1)\n",
        "                .T\n",
        "            )\n",
        "            # Generate probability scores for each pixel from the image and\n",
        "            # choose those that are allowed for specified probability\n",
        "            probabilities = np.random.rand(total_size)\n",
        "            idx_list = np.where(probabilities < probability)[0]\n",
        "            idx = pixels[idx_list]\n",
        "\n",
        "        # Colour chosen pixels\n",
        "        new_image = self.image.copy()\n",
        "        new_image[idx[:, 0], idx[:, 1]] = c\n",
        "\n",
        "        # Save new image in a class\n",
        "        self.new_image = new_image\n",
        "        return self.new_image\n",
        "\n",
        "    def random_pixel_level_attack(self):\n",
        "        \"\"\"Method for a random attack from an albumentations module.\n",
        "\n",
        "        FDA, PixelDistributionAdaptation, HistogramMatching methods are not\n",
        "        included.\n",
        "\n",
        "        You can apply a pixel-level transform to any target, and under the\n",
        "        hood, the transform will change only the input image and return any\n",
        "        other input targets such as masks, bounding boxes, or keypoints\n",
        "        unchanged.\n",
        "\n",
        "        :returns numpy.ndarray: changed image after attack\n",
        "        \"\"\"\n",
        "\n",
        "        # Choose one random transformation from albumentations module\n",
        "        transform = A.OneOf(\n",
        "            [\n",
        "                A.Blur(),\n",
        "                A.CLAHE(),\n",
        "                A.ChannelDropout(),\n",
        "                A.ChannelShuffle(),\n",
        "                A.ColorJitter(),\n",
        "                A.Downscale(),\n",
        "                A.Emboss(),\n",
        "                A.Equalize(),\n",
        "                A.FancyPCA(),\n",
        "                A.FancyPCA(),\n",
        "                A.GaussNoise(),\n",
        "                A.GaussianBlur(),\n",
        "                A.GlassBlur(),\n",
        "                A.HueSaturationValue(),\n",
        "                A.ISONoise(),\n",
        "                A.ImageCompression(),\n",
        "                A.InvertImg(),\n",
        "                A.MedianBlur(),\n",
        "                A.MotionBlur(),\n",
        "                A.MultiplicativeNoise(),\n",
        "                A.Normalize(),\n",
        "                A.Posterize(),\n",
        "                A.RGBShift(),\n",
        "                A.RandomBrightnessContrast(),\n",
        "                A.RandomFog(),\n",
        "                A.RandomGamma(),\n",
        "                A.RandomRain(),\n",
        "                A.RandomShadow(),\n",
        "                A.RandomSnow(),\n",
        "                A.RandomSunFlare(),\n",
        "                A.RandomToneCurve(),\n",
        "                A.Sharpen(),\n",
        "                A.Solarize(),\n",
        "                A.Superpixels(),\n",
        "                A.ToFloat(),\n",
        "                A.ToGray(),\n",
        "                A.ToSepia(),\n",
        "            ],\n",
        "            p=1,\n",
        "        )\n",
        "\n",
        "        # Apply transformation to the image and save it in the class\n",
        "        self.new_image = transform(image=self.image)[\"image\"]\n",
        "        return self.new_image\n",
        "\n",
        "    def random_spatial_level_attack(self):\n",
        "        \"\"\"Method for a random spatial-level attack from an albumentations\n",
        "        module.\n",
        "\n",
        "        Spatial-level attack is able to change image sizes or object boundaries\n",
        "        and other targets.\n",
        "\n",
        "        :returns numpy.ndarray: changed image after attack\n",
        "        \"\"\"\n",
        "\n",
        "        # Choose one random transformation from albumentations module\n",
        "        transform = A.OneOf(\n",
        "            [\n",
        "                A.Affine(),\n",
        "                # A.CenterCrop() - need h/w\n",
        "                A.CoarseDropout(),\n",
        "                # A.Crop(),\n",
        "                # A.CropAndPad() - need params\n",
        "                # A.CropNonEmptyMaskIfExists() - need h/w\n",
        "                A.ElasticTransform(),\n",
        "                A.Flip(),\n",
        "                A.GridDistortion(),\n",
        "                A.GridDropout(),\n",
        "                A.HorizontalFlip(),\n",
        "                A.Lambda(),\n",
        "                A.LongestMaxSize(),\n",
        "                A.MaskDropout(),\n",
        "                A.NoOp(),\n",
        "                A.OpticalDistortion(),\n",
        "                A.PadIfNeeded(),\n",
        "                A.Perspective(),\n",
        "                A.PiecewiseAffine(),\n",
        "                # A.RandomCrop() - need h/w\n",
        "                # A.RandomCropNearBBox() - need box\n",
        "                A.RandomGridShuffle(),\n",
        "                # A.RandomResizedCrop() - need h/w\n",
        "                A.RandomRotate90(),\n",
        "                A.RandomScale(),\n",
        "                # A.RandomSizedBBoxSafeCrop() - need h/w\n",
        "                # A.RandomSizedCrop() - need h/w\n",
        "                # A.Resize() - need h/w\n",
        "                A.Rotate(),\n",
        "                A.SafeRotate(),\n",
        "                A.ShiftScaleRotate(),\n",
        "                A.SmallestMaxSize(),\n",
        "                A.Transpose(),\n",
        "                A.VerticalFlip(),\n",
        "            ],\n",
        "            p=1,\n",
        "        )\n",
        "\n",
        "        # Apply transformation to the image and save it in the class\n",
        "        self.new_image = transform(image=self.image)[\"image\"]\n",
        "        return self.new_image"
      ]
    },
    {
      "cell_type": "markdown",
      "metadata": {
        "id": "FMX-KFR9CuEG"
      },
      "source": [
        "# Скачать картинку (и проверить результат атаки)"
      ]
    },
    {
      "cell_type": "code",
      "execution_count": null,
      "metadata": {
        "id": "xFtzLHWGwLm_"
      },
      "outputs": [],
      "source": [
        "# def download_images(imgs):\n",
        "#     for name in imgs:\n",
        "#         img_data = requests.get(\n",
        "#             \"https://vqa.cloudcv.org/media/test2014/COCO_test2014_\"\n",
        "#             + \"0\" * (12 - len(name))\n",
        "#             + name\n",
        "#             + \".jpg\"\n",
        "#         ).content\n",
        "#         with open(name + \".jpg\", \"wb\") as handler:\n",
        "#             handler.write(img_data)\n",
        "#         wget.download(\n",
        "#             \"https://vqa.cloudcv.org/media/test2014/COCO_test2014_\"\n",
        "#             + \"0\" * (12 - len(name))\n",
        "#             + name\n",
        "#             + \".jpg\"\n",
        "#         )\n",
        "\n",
        "# name = \"262567.jpg\"\n",
        "# img_data = requests.get(\n",
        "#     \"https://vqa.cloudcv.org/media/test2014/COCO_test2014_000000262567.jpg\"\n",
        "# ).content\n",
        "# with open(\"262567.jpg\", \"wb\") as handler:\n",
        "#     handler.write(img_data)"
      ]
    },
    {
      "cell_type": "markdown",
      "metadata": {
        "id": "AQQmEuebGtHC"
      },
      "source": [
        "# Класс для изменения текстов c помощью переводов"
      ]
    },
    {
      "cell_type": "code",
      "execution_count": null,
      "metadata": {
        "id": "7Lzme_CtrJ-h"
      },
      "outputs": [],
      "source": [
        "class tbt_attacker:\n",
        "    \"\"\"This class defines translation and back translation method to attack\n",
        "    texts.\n",
        "\n",
        "    :param str text: text than we want to attack\n",
        "    :param str new_text: text than we get after attack\n",
        "    :param numpy.ndarray languages: list of available languages to translate in\n",
        "    both directions\n",
        "    \"\"\"\n",
        "\n",
        "    def __init__(self, text):\n",
        "        self.text = text\n",
        "        self.new_text = None\n",
        "        self.languages = np.array([\n",
        "            'aav', 'af', 'alv', 'ar', 'az', 'bat', 'bcl', 'bem', 'ber', 'bg',\n",
        "            'bi', 'bnt', 'bzs', 'ca', 'ceb', 'cel', 'chk', 'cpf', 'crs', 'cs', \n",
        "            'cus', 'cy', 'da', 'de', 'dra', 'ee', 'efi', 'eo', 'es', 'et',\n",
        "            'eu', 'euq', 'fi', 'fj', 'fr', 'ga', 'gaa', 'gil', 'gl', 'grk', \n",
        "            'guw', 'gv', 'ha', 'hi', 'hil', 'ho', 'ht', 'hu', 'hy', 'id', 'ig',\n",
        "            'ilo', 'is', 'iso', 'it', 'jap', 'kg', 'kj', 'kqn', 'kwn', 'kwy',\n",
        "            'lg', 'ln', 'loz', 'lu', 'lua', 'lue', 'lun', 'luo', 'lus', 'mfe',\n",
        "            'mg','mh', 'mk', 'mkh', 'ml', 'mos', 'mr', 'mt', 'mul', 'ng',\n",
        "            'nic', 'niu', 'nl', 'nso', 'ny', 'nyk', 'om', 'pag', 'pap', 'phi',\n",
        "            'pis', 'pon', 'pqe', 'rn', 'rnd', 'roa', 'ru', 'run', 'rw', 'sal',\n",
        "            'sg', 'sk', 'sm', 'sn', 'sq', 'ss', 'st', 'sv', 'swc', 'ti', 'tiv',\n",
        "            'tl', 'tll', 'tn', 'to', 'toi', 'tpi', 'trk', 'ts', 'tvl', 'uk',\n",
        "            'umb', 'ur', 'vi', 'xh', 'zh'\n",
        "            ])\n",
        "\n",
        "    def available_languages(self, show=False):\n",
        "        \"\"\"Shows all available languages for translation in both directions.\n",
        "\n",
        "        :param bool show: if True then it will print all languages, otherwise\n",
        "        returns numpy array of all languages\n",
        "        :returns None or numpy.array: possible languages\n",
        "        \"\"\"\n",
        "        if show == True:\n",
        "            print(self.languages)\n",
        "        else:\n",
        "            return self.languages\n",
        "\n",
        "    def tbt_attack(self, language):\n",
        "        \"\"\"Translates sentence from english to chosen language, then translates\n",
        "        it back and returns.\n",
        "\n",
        "        :param str language: short name of language that user want to use for\n",
        "        translation.\n",
        "        :returns str: text after attack\n",
        "        \"\"\"\n",
        "        # Choosing model and translating text then\n",
        "        model = EasyNMT(\"opus-mt\")\n",
        "        new_text = model.translate(\n",
        "            self.text, source_lang=\"en\", target_lang=language\n",
        "        )\n",
        "        self.new_text = model.translate(\n",
        "            new_text, source_lang=language, target_lang=\"en\"\n",
        "        )\n",
        "        return self.new_text\n",
        "\n",
        "    def tbt_random_attack(self):\n",
        "        \"\"\"Translates sentence from english to random ;anguage, then translates\n",
        "        it back and returns.\n",
        "\n",
        "        :returns str: text after attack\n",
        "        \"\"\"\n",
        "        # Choosing random language\n",
        "        idx = np.random.choice(self.languages.shape[0], 1, replace=False)\n",
        "        language = self.languages[idx][0]\n",
        "        # Choosing model and translating text then\n",
        "        model = EasyNMT(\"opus-mt\")\n",
        "        new_text = model.translate(\n",
        "            self.text, source_lang=\"en\", target_lang=language\n",
        "        )\n",
        "        self.new_text = model.translate(\n",
        "            new_text, source_lang=language, target_lang=\"en\"\n",
        "        )\n",
        "        return self.new_text"
      ]
    },
    {
      "cell_type": "code",
      "execution_count": null,
      "metadata": {
        "colab": {
          "base_uri": "https://localhost:8080/",
          "height": 639,
          "referenced_widgets": [
            "8da50f5d74dd4b9c8f8d86f98dc30209",
            "ed99a1f81ba744fbabe591ee2194d92d",
            "2cc5e0474c5b4125a94921b12413dbc7",
            "8becf7cce0274e63821bb0d870f96506",
            "e1955d4087d64952b04350701516c514",
            "35c10fb9b51745b589f05f96bc50f5ae",
            "6d16cf38be98498e84fc741676162811",
            "2482868ba6fa4231aff44dc9373711a6",
            "a0e5768359154d079264e373e40bd92d",
            "003e8db15bb7464eb55c7708d700a505",
            "77a35888130847bdb76a34370a8a99b2",
            "5a53a3b51c864dd1a24898d43825447a",
            "03e449cf56a149b487057a7b6e648bb4",
            "39986ea60bbc46c78aa78180164d2425",
            "da7748cb985d41f98b5df5958434ea09",
            "30b8988bdcfe4de1bfca2e74c356d42d",
            "1ba01d5ed8b64bc48193c0f9f3f77f97",
            "c5d4ca7dace840b3ab35fb2a927300f6",
            "af75c05387c44fc9b8314dcfb84583de",
            "6e882a02abbb4f2da662a53b5b3e3f3b",
            "0e2f666e971640f79b8f689db3c27376",
            "2a85458a02c64e55b694d6d9ef6e943b",
            "be452490a21448bdb4b04fe7a74186ec",
            "7ff4c081302d4f778d196b110dbb94fa",
            "11739e51cb044120b8a8f33f96ba9853",
            "be03ead29510450f958ab6d33d564b45",
            "78b942bf47c045538a734283da31c65d",
            "6fb48d2e75744c1197bd5b31d8a275eb",
            "0c88575665764f1c875f61d10565bb66",
            "8df3e5e54fee4d1ba49c489e4267fa5d",
            "af514124c87a435097f2caea011d2a4b",
            "3a4fd000bc824bbf8c235f14852ec4d7",
            "40408bf828a749229f51c8c81ed861f4",
            "573344803d99494c922d8f6bbb402e38",
            "d867995a4fb941ddab99b38a9e5952b4",
            "bc5b5e941b9548249becbd4128eb1b8e",
            "be3e087c3dc944759d71b1dd1aa28ab4",
            "6a1704465a014aa399de7077aee3fa9a",
            "e80d5818962e4840aef4447f44e3780d",
            "5392fe38ed434ef1af9b2e111712e44b",
            "2f341ceda4964a5dab3684195d979ed5",
            "b0c1b7828eb140e494be58bc5f2be052",
            "4b019fb6f94744d58cc3e701e7ad82ea",
            "0b7b484e24f9427c8428f6097700cfbc",
            "9e73b0d2acf84b19adb22420f2be5a30",
            "003e381a65f044d9919f2d21c45fbb66",
            "7e467efe2d37485a903f1d0d53ce4f8c",
            "a0502c575f0a48ebbd6199622ddd1fe5",
            "6e23c0de2ced4b40a9aa665bc5cc27b5",
            "bd5c82769b4a493a995d4ecf0a78e673",
            "a62ee92322bb427eb68e2b76db0dab84",
            "5519580a5f834af997a38118bc763508",
            "50af01fcbc8e4550914bc3ad4512c963",
            "81f3f892f73d4f128f6ec85e60ece47b",
            "a837fea1e39b4303b267d9f65c980f34",
            "178a07b7c0c6483cb1213c724e218094",
            "c738fdc6fdf94f9f9777786d7b8fc467",
            "57a2703557da44c288b6d420965b581d",
            "324aa45f0e8d4124928e8dafc710ab37",
            "12669c40d5144ada949f8dcaf41926ca",
            "074bb6c72da7479a8ecddd1d055d1dfa",
            "60ffde49979748f984513110c8d23e0e",
            "3f0e0f3e513f413eaafaca44d0a0ddcf",
            "c92fc06298b84e6bb391dac8d1696a74",
            "8a84976a62184f23a3ed22d41096d78c",
            "9b1f954551aa4528a0dec3fd04d54d37",
            "dcd14523840242e4b03aa746b8d1b17e",
            "da7ba8bc417e45f2a538a6c792322f7c",
            "5ee0a8e3c7904a89b66dc6474d8bba4e",
            "10a129f507fc4f9090752b70599a32f2",
            "503716b8e8ea4a87aa72dbba5baeb959",
            "5c66bc2c3c2a4ed1ab6dbd3620128aea",
            "95e3af2a25ec4f9da139fad47539d40b",
            "6a4f08caf1bf479d8d61510e7a10a212",
            "ae74f86e547f4112a8daf438e466d10f",
            "6cbf65faa852430796eff2241666f550",
            "5ffe9e7d9d4c4fe79677b222b9d7bc4b",
            "abc2f200da7b4ecf9bdf43ddcd297743",
            "7bc5dfb648274f5b83a3b378c3834c87",
            "5b94a8dbd5a54b4785b6cf40474bf7eb",
            "4d08dd84b857470b8793e5c394a25846",
            "c310f958de964d279e80501536e41dfc",
            "e8a6db7c7e06497f8914a3610319c726",
            "e38e1a149486466ba19814134495a376",
            "8a52d5a4372b4e108d7f3bd7dac812c7",
            "45bbce44ca644c478b396f1c8ba7486c",
            "4a2b8341106e4a65b54a4c288b8e742d",
            "2e25a273e36a4f809b0523cf15405d83",
            "4c01aa8104534a4ab61aeaa2e2923bf1",
            "cc57afe815bf48fdabd3f43ceb332f57",
            "3f9fc2785521443eab6e7d83117ae2ef",
            "a91cb03156ae43ca8e4ba93fa2c03f99",
            "825fffa4e4464e67ab1e629733a978f8",
            "a36ca178df7f4637b5430b438bf05be7",
            "cd46deb55f454ffcbf5742dcbd7f9f48",
            "b87673332bc84cd9a3bf953ea51b12db"
          ]
        },
        "id": "JmU7-QDeCdt6",
        "outputId": "06ae5354-2980-461e-bc92-499d08530503",
        "scrolled": false
      },
      "outputs": [
        {
          "name": "stderr",
          "output_type": "stream",
          "text": [
            "100%|██████████| 11.9k/11.9k [00:00<00:00, 6.59MB/s]\n"
          ]
        },
        {
          "data": {
            "application/vnd.jupyter.widget-view+json": {
              "model_id": "8da50f5d74dd4b9c8f8d86f98dc30209",
              "version_major": 2,
              "version_minor": 0
            },
            "text/plain": [
              "HBox(children=(FloatProgress(value=0.0, description='Downloading', max=803110.0, style=ProgressStyle(descripti…"
            ]
          },
          "metadata": {},
          "output_type": "display_data"
        },
        {
          "name": "stdout",
          "output_type": "stream",
          "text": [
            "\n"
          ]
        },
        {
          "data": {
            "application/vnd.jupyter.widget-view+json": {
              "model_id": "a0e5768359154d079264e373e40bd92d",
              "version_major": 2,
              "version_minor": 0
            },
            "text/plain": [
              "HBox(children=(FloatProgress(value=0.0, description='Downloading', max=842303.0, style=ProgressStyle(descripti…"
            ]
          },
          "metadata": {},
          "output_type": "display_data"
        },
        {
          "name": "stdout",
          "output_type": "stream",
          "text": [
            "\n"
          ]
        },
        {
          "data": {
            "application/vnd.jupyter.widget-view+json": {
              "model_id": "1ba01d5ed8b64bc48193c0f9f3f77f97",
              "version_major": 2,
              "version_minor": 0
            },
            "text/plain": [
              "HBox(children=(FloatProgress(value=0.0, description='Downloading', max=1592256.0, style=ProgressStyle(descript…"
            ]
          },
          "metadata": {},
          "output_type": "display_data"
        },
        {
          "name": "stdout",
          "output_type": "stream",
          "text": [
            "\n"
          ]
        },
        {
          "data": {
            "application/vnd.jupyter.widget-view+json": {
              "model_id": "11739e51cb044120b8a8f33f96ba9853",
              "version_major": 2,
              "version_minor": 0
            },
            "text/plain": [
              "HBox(children=(FloatProgress(value=0.0, description='Downloading', max=42.0, style=ProgressStyle(description_w…"
            ]
          },
          "metadata": {},
          "output_type": "display_data"
        },
        {
          "name": "stdout",
          "output_type": "stream",
          "text": [
            "\n"
          ]
        },
        {
          "data": {
            "application/vnd.jupyter.widget-view+json": {
              "model_id": "40408bf828a749229f51c8c81ed861f4",
              "version_major": 2,
              "version_minor": 0
            },
            "text/plain": [
              "HBox(children=(FloatProgress(value=0.0, description='Downloading', max=1112.0, style=ProgressStyle(description…"
            ]
          },
          "metadata": {},
          "output_type": "display_data"
        },
        {
          "name": "stdout",
          "output_type": "stream",
          "text": [
            "\n"
          ]
        },
        {
          "data": {
            "application/vnd.jupyter.widget-view+json": {
              "model_id": "2f341ceda4964a5dab3684195d979ed5",
              "version_major": 2,
              "version_minor": 0
            },
            "text/plain": [
              "HBox(children=(FloatProgress(value=0.0, description='Downloading', max=312087523.0, style=ProgressStyle(descri…"
            ]
          },
          "metadata": {},
          "output_type": "display_data"
        },
        {
          "name": "stdout",
          "output_type": "stream",
          "text": [
            "\n"
          ]
        },
        {
          "data": {
            "application/vnd.jupyter.widget-view+json": {
              "model_id": "6e23c0de2ced4b40a9aa665bc5cc27b5",
              "version_major": 2,
              "version_minor": 0
            },
            "text/plain": [
              "HBox(children=(FloatProgress(value=0.0, description='Downloading', max=831865.0, style=ProgressStyle(descripti…"
            ]
          },
          "metadata": {},
          "output_type": "display_data"
        },
        {
          "name": "stdout",
          "output_type": "stream",
          "text": [
            "\n"
          ]
        },
        {
          "data": {
            "application/vnd.jupyter.widget-view+json": {
              "model_id": "c738fdc6fdf94f9f9777786d7b8fc467",
              "version_major": 2,
              "version_minor": 0
            },
            "text/plain": [
              "HBox(children=(FloatProgress(value=0.0, description='Downloading', max=789795.0, style=ProgressStyle(descripti…"
            ]
          },
          "metadata": {},
          "output_type": "display_data"
        },
        {
          "name": "stdout",
          "output_type": "stream",
          "text": [
            "\n"
          ]
        },
        {
          "data": {
            "application/vnd.jupyter.widget-view+json": {
              "model_id": "8a84976a62184f23a3ed22d41096d78c",
              "version_major": 2,
              "version_minor": 0
            },
            "text/plain": [
              "HBox(children=(FloatProgress(value=0.0, description='Downloading', max=1377921.0, style=ProgressStyle(descript…"
            ]
          },
          "metadata": {},
          "output_type": "display_data"
        },
        {
          "name": "stdout",
          "output_type": "stream",
          "text": [
            "\n"
          ]
        },
        {
          "data": {
            "application/vnd.jupyter.widget-view+json": {
              "model_id": "95e3af2a25ec4f9da139fad47539d40b",
              "version_major": 2,
              "version_minor": 0
            },
            "text/plain": [
              "HBox(children=(FloatProgress(value=0.0, description='Downloading', max=44.0, style=ProgressStyle(description_w…"
            ]
          },
          "metadata": {},
          "output_type": "display_data"
        },
        {
          "name": "stdout",
          "output_type": "stream",
          "text": [
            "\n"
          ]
        },
        {
          "data": {
            "application/vnd.jupyter.widget-view+json": {
              "model_id": "4d08dd84b857470b8793e5c394a25846",
              "version_major": 2,
              "version_minor": 0
            },
            "text/plain": [
              "HBox(children=(FloatProgress(value=0.0, description='Downloading', max=1145.0, style=ProgressStyle(description…"
            ]
          },
          "metadata": {},
          "output_type": "display_data"
        },
        {
          "name": "stdout",
          "output_type": "stream",
          "text": [
            "\n"
          ]
        },
        {
          "data": {
            "application/vnd.jupyter.widget-view+json": {
              "model_id": "4c01aa8104534a4ab61aeaa2e2923bf1",
              "version_major": 2,
              "version_minor": 0
            },
            "text/plain": [
              "HBox(children=(FloatProgress(value=0.0, description='Downloading', max=301125225.0, style=ProgressStyle(descri…"
            ]
          },
          "metadata": {},
          "output_type": "display_data"
        },
        {
          "name": "stdout",
          "output_type": "stream",
          "text": [
            "\n",
            "We want to translate this phrase into German.\n"
          ]
        }
      ],
      "source": [
        "#Translate a single sentence to German\n",
        "text_attack = tbt_attacker('This is a sentence we want to translate to German')\n",
        "\n",
        "print(text_attack.tbt_random_attack())"
      ]
    },
    {
      "cell_type": "markdown",
      "metadata": {
        "id": "S4RjOc-ORCtR"
      },
      "source": [
        "# Класс для изменения текстов c QData"
      ]
    },
    {
      "cell_type": "code",
      "execution_count": null,
      "metadata": {
        "id": "vqd2klxERC59"
      },
      "outputs": [],
      "source": [
        "class qdata_attacker:\n",
        "    \"\"\"This class contains various methods for data augmentation from QData.\n",
        "\n",
        "    :param str text: text than we want to attack\n",
        "    :param str new_text: text than we get after attack\n",
        "    :param numpy.array methods: array of various text transformations\n",
        "    :param numpy.array augmenters: array of various prebuild augmenters\n",
        "    \"\"\"\n",
        "\n",
        "    def __init__(self, text):\n",
        "        self.text = text\n",
        "        self.new_text = None\n",
        "        self.methods = np.array(\n",
        "            [ \n",
        "             WordSwapChangeLocation, WordSwapChangeName, \n",
        "             WordSwapChangeNumber, WordSwapContract, WordSwapEmbedding, \n",
        "             WordSwapExtend, #WordSwapGradientBased, WordSwap, \n",
        "             WordSwapHomoglyphSwap, \n",
        "             #WordSwapHowNet, WordSwapInflections, \n",
        "             WordSwapMaskedLM, WordSwapNeighboringCharacterSwap, \n",
        "             WordSwapQWERTY, WordSwapRandomCharacterDeletion, \n",
        "             WordSwapRandomCharacterInsertion, \n",
        "             WordSwapRandomCharacterSubstitution, WordSwapWordNet\n",
        "            ]\n",
        "        )\n",
        "        self.augmenters = np.array(\n",
        "            [\n",
        "             CharSwapAugmenter, CheckListAugmenter, DeletionAugmenter, \n",
        "             EasyDataAugmenter, EmbeddingAugmenter, WordNetAugmenter\n",
        "            ]\n",
        "        )\n",
        "\n",
        "    def random_attack(\n",
        "        self, pct_words_to_swap=0.2, transformations_per_example=1\n",
        "    ):\n",
        "        \"\"\"Chooses random transformation method from text_attacker and applies\n",
        "        it to the given text.\n",
        "\n",
        "        :param int pct_words_to_swap: percentage of words to swap per augmented\n",
        "        example\n",
        "        :param int transformations_per_example: Maximum number of augmentations\n",
        "        :returns str new_text: augmented text after attack\n",
        "        \"\"\"\n",
        "        # Choosing random transformation method\n",
        "        idx = np.random.choice(self.methods.shape[0], 1, replace=False)\n",
        "        transformation = self.methods[idx][0]()\n",
        "        # Changing text\n",
        "        augmenter = Augmenter(\n",
        "            transformation=transformation,\n",
        "            pct_words_to_swap=pct_words_to_swap,\n",
        "            transformations_per_example=transformations_per_example,\n",
        "        )\n",
        "        self.new_text = augmenter.augment(self.text)\n",
        "        return self.new_text\n",
        "\n",
        "    def random_augmenter_attack(\n",
        "        self, pct_words_to_swap=0.2, transformations_per_example=1\n",
        "    ):\n",
        "        \"\"\"Chooses random prebuild augmenter from text_attacker and applies it\n",
        "        to the given text.\n",
        "\n",
        "        :param int pct_words_to_swap: percentage of words to swap per augmented\n",
        "        example\n",
        "        :param int transformations_per_example: Maximum number of augmentations\n",
        "        :returns str new_text: augmented text after attack\n",
        "        \"\"\"\n",
        "        # Choosing random augmenter\n",
        "        idx = np.random.choice(self.augmenters.shape[0], 1, replace=False)\n",
        "        augmenter = self.augmenters[idx][0]\n",
        "        # Changing text\n",
        "        augmenter = augmenter(\n",
        "            pct_words_to_swap=pct_words_to_swap,\n",
        "            transformations_per_example=transformations_per_example,\n",
        "        )\n",
        "        self.new_text = augmenter.augment(self.text)\n",
        "        return self.new_text\n",
        "\n",
        "    def specific_attack(\n",
        "        self,\n",
        "        transformation=None,\n",
        "        pct_words_to_swap=0.2,\n",
        "        transformations_per_example=1,\n",
        "    ):\n",
        "        \"\"\"Method for augmenting text with a specified transformation method.\n",
        "\n",
        "        :param object transformation: specified transformation with params\n",
        "        :param int pct_words_to_swap: percentage of words to swap per augmented\n",
        "        example\n",
        "        :param int transformations_per_example: Maximum number of augmentations\n",
        "        :returns str new_text: augmented text after attack\n",
        "        \"\"\"\n",
        "        # Change to default transformation if None\n",
        "        if transformation is None:\n",
        "            transformation = WordSwapChangeLocation()\n",
        "        # Changing text\n",
        "        augmenter = Augmenter(\n",
        "            transformation=transformation,\n",
        "            pct_words_to_swap=pct_words_to_swap,\n",
        "            transformations_per_example=transformations_per_example,\n",
        "        )\n",
        "        self.new_text = augmenter.augment(self.text)\n",
        "        return self.new_text"
      ]
    },
    {
      "cell_type": "code",
      "execution_count": null,
      "metadata": {
        "colab": {
          "base_uri": "https://localhost:8080/"
        },
        "id": "VimyPlrgvJZ0",
        "outputId": "4389899d-cef7-4bb5-ad27-0ec523e45e8e"
      },
      "outputs": [
        {
          "name": "stdout",
          "output_type": "stream",
          "text": [
            "['This is amp sentence we would like to understand to German']\n"
          ]
        }
      ],
      "source": [
        "#Translate a single sentence to German\n",
        "qdata_attack = qdata_attacker('This is a sentence we would like to translate to German')\n",
        "\n",
        "print(qdata_attack.random_attack())"
      ]
    },
    {
      "cell_type": "markdown",
      "metadata": {
        "id": "fmrcOWNCp3IV"
      },
      "source": [
        "# Класс для изменения текстов с NLPAUG"
      ]
    },
    {
      "cell_type": "code",
      "execution_count": null,
      "metadata": {
        "id": "lDIqHe9Dx_tk"
      },
      "outputs": [],
      "source": [
        "!pip install nlpaug"
      ]
    },
    {
      "cell_type": "code",
      "execution_count": null,
      "metadata": {
        "id": "HnphSX6gtOXC"
      },
      "outputs": [],
      "source": [
        "import nlpaug.augmenter.char as nac\n",
        "import nlpaug.augmenter.word as naw"
      ]
    },
    {
      "cell_type": "code",
      "execution_count": null,
      "metadata": {
        "id": "7d7U-SqaqHlY"
      },
      "outputs": [],
      "source": [
        "class nlpaug_attacker:\n",
        "\n",
        "    def __init__(self, text):\n",
        "        self.text = text\n",
        "        self.augmented_text = None\n",
        "\n",
        "    def char_aug(self, action=None):\n",
        "        \"\"\"\n",
        "        action: insert, substitute(None), swap, delete\n",
        "        \"\"\"\n",
        "\n",
        "        if action is None:\n",
        "            aug = nac.RandomCharAug(action=\"substitute\")\n",
        "        else:\n",
        "            aug = nac.RandomCharAug(action=action)\n",
        "        self.augmented_text = aug.augment(text)\n",
        "        return self.augmented_text\n",
        "\n",
        "    def word_aug(self, action=None):\n",
        "        \"\"\"\n",
        "        action: crop, swap, delete(None)\n",
        "        \"\"\"\n",
        "        if action is None:\n",
        "            aug = naw.RandomWordAug()\n",
        "        else:\n",
        "            aug = naw.RandomWordAug(action=action)\n",
        "        self.augmented_text = aug.augment(text)\n",
        "        return self.augmented_text"
      ]
    },
    {
      "cell_type": "markdown",
      "metadata": {
        "id": "cnOU8LlzGlVC"
      },
      "source": [
        "# Класс для подсчёта дистанций между картинками"
      ]
    },
    {
      "cell_type": "code",
      "execution_count": null,
      "metadata": {
        "id": "zjVCB6tgyxAi"
      },
      "outputs": [],
      "source": [
        "class image_distance_counter:\n",
        "    \"\"\"This class defines various methods for calculating distances.\n",
        "\n",
        "    :param numpy.ndarray image: 3d numpy array of the image that we will attack\n",
        "    :param numpy.ndarray new_image: 3d numpy array of the changed image\n",
        "    \"\"\"\n",
        "\n",
        "    def __init__(self, old_image, new_image):\n",
        "        self.old_image = old_image\n",
        "        self.new_image = new_image\n",
        "\n",
        "    def difference(self):\n",
        "        \"\"\"Method that counts total difference between pixels of images.\"\"\"\n",
        "        return norm((self.new_image - self.old_image).ravel(), 2)\n",
        "\n",
        "    def difference_per_pixel(self):\n",
        "        \"\"\"Method that counts difference per pixel between pixels of images.\"\"\"\n",
        "        return (\n",
        "            norm((self.new_image - self.old_image).ravel(), 2) / new_image.size\n",
        "        )"
      ]
    },
    {
      "cell_type": "markdown",
      "metadata": {
        "id": "es49LDIr0RTX"
      },
      "source": [
        "# Класс для подсчёта дистанций между текстами"
      ]
    },
    {
      "cell_type": "code",
      "execution_count": null,
      "metadata": {
        "colab": {
          "base_uri": "https://localhost:8080/"
        },
        "id": "MW7U1t2A1PLx",
        "outputId": "3fd25a78-4b6d-49e1-dfeb-1ae06cbbaf37"
      },
      "outputs": [
        {
          "name": "stdout",
          "output_type": "stream",
          "text": [
            "Collecting sentence-transformers\n",
            "  Downloading sentence-transformers-2.1.0.tar.gz (78 kB)\n",
            "\u001b[K     |████████████████████████████████| 78 kB 5.1 MB/s \n",
            "\u001b[?25hRequirement already satisfied: transformers<5.0.0,>=4.6.0 in /usr/local/lib/python3.7/dist-packages (from sentence-transformers) (4.11.3)\n",
            "Requirement already satisfied: tokenizers>=0.10.3 in /usr/local/lib/python3.7/dist-packages (from sentence-transformers) (0.10.3)\n",
            "Requirement already satisfied: tqdm in /usr/local/lib/python3.7/dist-packages (from sentence-transformers) (4.62.3)\n",
            "Requirement already satisfied: torch>=1.6.0 in /usr/local/lib/python3.7/dist-packages (from sentence-transformers) (1.9.0+cu102)\n",
            "Requirement already satisfied: torchvision in /usr/local/lib/python3.7/dist-packages (from sentence-transformers) (0.10.0+cu102)\n",
            "Requirement already satisfied: numpy in /usr/local/lib/python3.7/dist-packages (from sentence-transformers) (1.19.5)\n",
            "Requirement already satisfied: scikit-learn in /usr/local/lib/python3.7/dist-packages (from sentence-transformers) (0.22.2.post1)\n",
            "Requirement already satisfied: scipy in /usr/local/lib/python3.7/dist-packages (from sentence-transformers) (1.4.1)\n",
            "Requirement already satisfied: nltk in /usr/local/lib/python3.7/dist-packages (from sentence-transformers) (3.2.5)\n",
            "Collecting sentencepiece\n",
            "  Downloading sentencepiece-0.1.96-cp37-cp37m-manylinux_2_17_x86_64.manylinux2014_x86_64.whl (1.2 MB)\n",
            "\u001b[K     |████████████████████████████████| 1.2 MB 27.7 MB/s \n",
            "\u001b[?25hRequirement already satisfied: huggingface-hub in /usr/local/lib/python3.7/dist-packages (from sentence-transformers) (0.0.19)\n",
            "Requirement already satisfied: typing-extensions in /usr/local/lib/python3.7/dist-packages (from torch>=1.6.0->sentence-transformers) (3.7.4.3)\n",
            "Requirement already satisfied: requests in /usr/local/lib/python3.7/dist-packages (from transformers<5.0.0,>=4.6.0->sentence-transformers) (2.23.0)\n",
            "Requirement already satisfied: packaging>=20.0 in /usr/local/lib/python3.7/dist-packages (from transformers<5.0.0,>=4.6.0->sentence-transformers) (21.0)\n",
            "Requirement already satisfied: regex!=2019.12.17 in /usr/local/lib/python3.7/dist-packages (from transformers<5.0.0,>=4.6.0->sentence-transformers) (2019.12.20)\n",
            "Requirement already satisfied: sacremoses in /usr/local/lib/python3.7/dist-packages (from transformers<5.0.0,>=4.6.0->sentence-transformers) (0.0.46)\n",
            "Requirement already satisfied: filelock in /usr/local/lib/python3.7/dist-packages (from transformers<5.0.0,>=4.6.0->sentence-transformers) (3.2.0)\n",
            "Requirement already satisfied: importlib-metadata in /usr/local/lib/python3.7/dist-packages (from transformers<5.0.0,>=4.6.0->sentence-transformers) (4.8.1)\n",
            "Requirement already satisfied: pyyaml>=5.1 in /usr/local/lib/python3.7/dist-packages (from transformers<5.0.0,>=4.6.0->sentence-transformers) (5.4.1)\n",
            "Requirement already satisfied: pyparsing>=2.0.2 in /usr/local/lib/python3.7/dist-packages (from packaging>=20.0->transformers<5.0.0,>=4.6.0->sentence-transformers) (2.4.7)\n",
            "Requirement already satisfied: zipp>=0.5 in /usr/local/lib/python3.7/dist-packages (from importlib-metadata->transformers<5.0.0,>=4.6.0->sentence-transformers) (3.6.0)\n",
            "Requirement already satisfied: six in /usr/local/lib/python3.7/dist-packages (from nltk->sentence-transformers) (1.15.0)\n",
            "Requirement already satisfied: idna<3,>=2.5 in /usr/local/lib/python3.7/dist-packages (from requests->transformers<5.0.0,>=4.6.0->sentence-transformers) (2.10)\n",
            "Requirement already satisfied: certifi>=2017.4.17 in /usr/local/lib/python3.7/dist-packages (from requests->transformers<5.0.0,>=4.6.0->sentence-transformers) (2021.5.30)\n",
            "Requirement already satisfied: urllib3!=1.25.0,!=1.25.1,<1.26,>=1.21.1 in /usr/local/lib/python3.7/dist-packages (from requests->transformers<5.0.0,>=4.6.0->sentence-transformers) (1.24.3)\n",
            "Requirement already satisfied: chardet<4,>=3.0.2 in /usr/local/lib/python3.7/dist-packages (from requests->transformers<5.0.0,>=4.6.0->sentence-transformers) (3.0.4)\n",
            "Requirement already satisfied: click in /usr/local/lib/python3.7/dist-packages (from sacremoses->transformers<5.0.0,>=4.6.0->sentence-transformers) (7.1.2)\n",
            "Requirement already satisfied: joblib in /usr/local/lib/python3.7/dist-packages (from sacremoses->transformers<5.0.0,>=4.6.0->sentence-transformers) (1.0.1)\n",
            "Requirement already satisfied: pillow>=5.3.0 in /usr/local/lib/python3.7/dist-packages (from torchvision->sentence-transformers) (7.1.2)\n",
            "Building wheels for collected packages: sentence-transformers\n",
            "  Building wheel for sentence-transformers (setup.py) ... \u001b[?25l\u001b[?25hdone\n",
            "  Created wheel for sentence-transformers: filename=sentence_transformers-2.1.0-py3-none-any.whl size=121000 sha256=a276696836acd58c5c34aadfd65f695bca46112462d9e1c76deeac1570cb21b9\n",
            "  Stored in directory: /root/.cache/pip/wheels/90/f0/bb/ed1add84da70092ea526466eadc2bfb197c4bcb8d4fa5f7bad\n",
            "Successfully built sentence-transformers\n",
            "Installing collected packages: sentencepiece, sentence-transformers\n",
            "Successfully installed sentence-transformers-2.1.0 sentencepiece-0.1.96\n"
          ]
        }
      ],
      "source": [
        "#!pip install -U sentence-transformers"
      ]
    },
    {
      "cell_type": "code",
      "execution_count": null,
      "metadata": {
        "id": "tsdMj3QF2bP4"
      },
      "outputs": [],
      "source": [
        "#!pip install bert-score"
      ]
    },
    {
      "cell_type": "code",
      "execution_count": null,
      "metadata": {
        "colab": {
          "base_uri": "https://localhost:8080/",
          "height": 387
        },
        "collapsed": true,
        "id": "SSsw-nXd5l4v",
        "outputId": "8933467a-e6ea-47fe-ba69-10e149ce0185"
      },
      "outputs": [
        {
          "name": "stdout",
          "output_type": "stream",
          "text": [
            "WARNING: pip is being invoked by an old script wrapper. This will fail in a future version of pip.\n",
            "Please see https://github.com/pypa/pip/issues/5599 for advice on fixing the underlying issue.\n",
            "To avoid this problem you can invoke Python with '-m pip' instead of running pip directly.\n",
            "Defaulting to user installation because normal site-packages is not writeable\n",
            "\u001b[33mWARNING: Retrying (Retry(total=4, connect=None, read=None, redirect=None, status=None)) after connection broken by 'NewConnectionError('<pip._vendor.urllib3.connection.HTTPSConnection object at 0x7f0b1ee51a90>: Failed to establish a new connection: [Errno 101] Network is unreachable')': /simple/moverscore/\u001b[0m\n",
            "^C\n",
            "\u001b[31mERROR: Operation cancelled by user\u001b[0m\n"
          ]
        }
      ],
      "source": [
        "#!pip install moverscore"
      ]
    },
    {
      "cell_type": "code",
      "execution_count": null,
      "metadata": {
        "colab": {
          "base_uri": "https://localhost:8080/",
          "height": 760
        },
        "id": "KYSiW9WRRBgD",
        "outputId": "3dd5a470-502e-489d-bf12-0bd82b366ddc",
        "scrolled": true
      },
      "outputs": [
        {
          "name": "stdout",
          "output_type": "stream",
          "text": [
            "Collecting pytorch_pretrained_bert\n",
            "  Downloading pytorch_pretrained_bert-0.6.2-py3-none-any.whl (123 kB)\n",
            "\u001b[K     |████████████████████████████████| 123 kB 11.4 MB/s \n",
            "\u001b[?25hRequirement already satisfied: regex in /usr/local/lib/python3.7/dist-packages (from pytorch_pretrained_bert) (2019.12.20)\n",
            "Requirement already satisfied: tqdm in /usr/local/lib/python3.7/dist-packages (from pytorch_pretrained_bert) (4.62.3)\n",
            "Requirement already satisfied: numpy in /usr/local/lib/python3.7/dist-packages (from pytorch_pretrained_bert) (1.19.5)\n",
            "Collecting boto3\n",
            "  Downloading boto3-1.18.56-py3-none-any.whl (131 kB)\n",
            "\u001b[K     |████████████████████████████████| 131 kB 42.2 MB/s \n",
            "\u001b[?25hRequirement already satisfied: torch>=0.4.1 in /usr/local/lib/python3.7/dist-packages (from pytorch_pretrained_bert) (1.9.0+cu102)\n",
            "Requirement already satisfied: requests in /usr/local/lib/python3.7/dist-packages (from pytorch_pretrained_bert) (2.23.0)\n",
            "Requirement already satisfied: typing-extensions in /usr/local/lib/python3.7/dist-packages (from torch>=0.4.1->pytorch_pretrained_bert) (3.7.4.3)\n",
            "Collecting jmespath<1.0.0,>=0.7.1\n",
            "  Downloading jmespath-0.10.0-py2.py3-none-any.whl (24 kB)\n",
            "Collecting s3transfer<0.6.0,>=0.5.0\n",
            "  Downloading s3transfer-0.5.0-py3-none-any.whl (79 kB)\n",
            "\u001b[K     |████████████████████████████████| 79 kB 7.7 MB/s \n",
            "\u001b[?25hCollecting botocore<1.22.0,>=1.21.56\n",
            "  Downloading botocore-1.21.56-py3-none-any.whl (8.0 MB)\n",
            "\u001b[K     |████████████████████████████████| 8.0 MB 41.7 MB/s \n",
            "\u001b[?25hCollecting urllib3<1.27,>=1.25.4\n",
            "  Downloading urllib3-1.26.7-py2.py3-none-any.whl (138 kB)\n",
            "\u001b[K     |████████████████████████████████| 138 kB 33.5 MB/s \n",
            "\u001b[?25hRequirement already satisfied: python-dateutil<3.0.0,>=2.1 in /usr/local/lib/python3.7/dist-packages (from botocore<1.22.0,>=1.21.56->boto3->pytorch_pretrained_bert) (2.8.2)\n",
            "Requirement already satisfied: six>=1.5 in /usr/local/lib/python3.7/dist-packages (from python-dateutil<3.0.0,>=2.1->botocore<1.22.0,>=1.21.56->boto3->pytorch_pretrained_bert) (1.15.0)\n",
            "  Downloading urllib3-1.25.11-py2.py3-none-any.whl (127 kB)\n",
            "\u001b[K     |████████████████████████████████| 127 kB 35.2 MB/s \n",
            "\u001b[?25hRequirement already satisfied: certifi>=2017.4.17 in /usr/local/lib/python3.7/dist-packages (from requests->pytorch_pretrained_bert) (2021.5.30)\n",
            "Requirement already satisfied: chardet<4,>=3.0.2 in /usr/local/lib/python3.7/dist-packages (from requests->pytorch_pretrained_bert) (3.0.4)\n",
            "Requirement already satisfied: idna<3,>=2.5 in /usr/local/lib/python3.7/dist-packages (from requests->pytorch_pretrained_bert) (2.10)\n",
            "Installing collected packages: urllib3, jmespath, botocore, s3transfer, boto3, pytorch-pretrained-bert\n",
            "  Attempting uninstall: urllib3\n",
            "    Found existing installation: urllib3 1.24.3\n",
            "    Uninstalling urllib3-1.24.3:\n",
            "      Successfully uninstalled urllib3-1.24.3\n",
            "\u001b[31mERROR: pip's dependency resolver does not currently take into account all the packages that are installed. This behaviour is the source of the following dependency conflicts.\n",
            "datascience 0.10.6 requires folium==0.2.1, but you have folium 0.8.3 which is incompatible.\u001b[0m\n",
            "Successfully installed boto3-1.18.56 botocore-1.21.56 jmespath-0.10.0 pytorch-pretrained-bert-0.6.2 s3transfer-0.5.0 urllib3-1.25.11\n"
          ]
        },
        {
          "data": {
            "application/vnd.colab-display-data+json": {
              "pip_warning": {
                "packages": [
                  "urllib3"
                ]
              }
            }
          },
          "metadata": {},
          "output_type": "display_data"
        }
      ],
      "source": [
        "#!pip install pytorch_pretrained_bert"
      ]
    },
    {
      "cell_type": "code",
      "execution_count": null,
      "metadata": {
        "id": "nBAGUm9q4iJ5"
      },
      "outputs": [],
      "source": [
        "# !git clone https://github.com/google-research/bleurt.git\n",
        "# %cd bleurt\n",
        "# !pip install ."
      ]
    },
    {
      "cell_type": "code",
      "execution_count": null,
      "metadata": {
        "colab": {
          "base_uri": "https://localhost:8080/"
        },
        "collapsed": true,
        "id": "fVqCXw_91TtN",
        "outputId": "ea33a558-0e13-4645-8523-b0323c366e77"
      },
      "outputs": [
        {
          "name": "stderr",
          "output_type": "stream",
          "text": [
            "Model name '/home/nmandreev/.moverscore' was not found in model name list (bert-base-uncased, bert-large-uncased, bert-base-cased, bert-large-cased, bert-base-multilingual-uncased, bert-base-multilingual-cased, bert-base-chinese). We assumed '/home/nmandreev/.moverscore/vocab.txt' was a path or url but couldn't find any file associated to this path or url.\n"
          ]
        },
        {
          "ename": "FileNotFoundError",
          "evalue": "[Errno 2] No such file or directory: '/home/nmandreev/.moverscore/bert_config.json'",
          "output_type": "error",
          "traceback": [
            "\u001b[0;31m---------------------------------------------------------------------------\u001b[0m",
            "\u001b[0;31mFileNotFoundError\u001b[0m                         Traceback (most recent call last)",
            "\u001b[0;32m<ipython-input-20-5ec22f98085c>\u001b[0m in \u001b[0;36m<module>\u001b[0;34m\u001b[0m\n\u001b[0;32m----> 1\u001b[0;31m \u001b[0;32mfrom\u001b[0m \u001b[0mmoverscore\u001b[0m \u001b[0;32mimport\u001b[0m \u001b[0mget_idf_dict\u001b[0m\u001b[0;34m,\u001b[0m \u001b[0mword_mover_score\u001b[0m\u001b[0;34m\u001b[0m\u001b[0;34m\u001b[0m\u001b[0m\n\u001b[0m\u001b[1;32m      2\u001b[0m \u001b[0;31m#from sentence_transformers import SentenceTransformer\u001b[0m\u001b[0;34m\u001b[0m\u001b[0;34m\u001b[0m\u001b[0;34m\u001b[0m\u001b[0m\n\u001b[1;32m      3\u001b[0m \u001b[0;31m#from bleurt import score\u001b[0m\u001b[0;34m\u001b[0m\u001b[0;34m\u001b[0m\u001b[0;34m\u001b[0m\u001b[0m\n\u001b[1;32m      4\u001b[0m \u001b[0;32mfrom\u001b[0m \u001b[0mcollections\u001b[0m \u001b[0;32mimport\u001b[0m \u001b[0mdefaultdict\u001b[0m\u001b[0;34m\u001b[0m\u001b[0;34m\u001b[0m\u001b[0m\n",
            "\u001b[0;32m~/.local/lib/python3.8/site-packages/moverscore.py\u001b[0m in \u001b[0;36m<module>\u001b[0;34m\u001b[0m\n\u001b[1;32m     78\u001b[0m \u001b[0mtokenizer\u001b[0m \u001b[0;34m=\u001b[0m \u001b[0mBertTokenizer\u001b[0m\u001b[0;34m.\u001b[0m\u001b[0mfrom_pretrained\u001b[0m\u001b[0;34m(\u001b[0m\u001b[0moutput_dir\u001b[0m\u001b[0;34m,\u001b[0m \u001b[0mdo_lower_case\u001b[0m\u001b[0;34m=\u001b[0m\u001b[0;32mTrue\u001b[0m\u001b[0;34m)\u001b[0m\u001b[0;34m\u001b[0m\u001b[0;34m\u001b[0m\u001b[0m\n\u001b[1;32m     79\u001b[0m \u001b[0;34m\u001b[0m\u001b[0m\n\u001b[0;32m---> 80\u001b[0;31m \u001b[0mmodel\u001b[0m \u001b[0;34m=\u001b[0m \u001b[0mBertForSequenceClassification\u001b[0m\u001b[0;34m.\u001b[0m\u001b[0mfrom_pretrained\u001b[0m\u001b[0;34m(\u001b[0m\u001b[0moutput_dir\u001b[0m\u001b[0;34m,\u001b[0m \u001b[0;36m3\u001b[0m\u001b[0;34m)\u001b[0m\u001b[0;34m\u001b[0m\u001b[0;34m\u001b[0m\u001b[0m\n\u001b[0m\u001b[1;32m     81\u001b[0m \u001b[0mmodel\u001b[0m\u001b[0;34m.\u001b[0m\u001b[0meval\u001b[0m\u001b[0;34m(\u001b[0m\u001b[0;34m)\u001b[0m\u001b[0;34m\u001b[0m\u001b[0;34m\u001b[0m\u001b[0m\n\u001b[1;32m     82\u001b[0m \u001b[0mmodel\u001b[0m\u001b[0;34m.\u001b[0m\u001b[0mto\u001b[0m\u001b[0;34m(\u001b[0m\u001b[0mdevice\u001b[0m\u001b[0;34m)\u001b[0m\u001b[0;34m\u001b[0m\u001b[0;34m\u001b[0m\u001b[0m\n",
            "\u001b[0;32m~/.local/lib/python3.8/site-packages/pytorch_pretrained_bert/modeling.py\u001b[0m in \u001b[0;36mfrom_pretrained\u001b[0;34m(cls, pretrained_model_name_or_path, *inputs, **kwargs)\u001b[0m\n\u001b[1;32m    595\u001b[0m             \u001b[0;31m# Backward compatibility with old naming format\u001b[0m\u001b[0;34m\u001b[0m\u001b[0;34m\u001b[0m\u001b[0;34m\u001b[0m\u001b[0m\n\u001b[1;32m    596\u001b[0m             \u001b[0mconfig_file\u001b[0m \u001b[0;34m=\u001b[0m \u001b[0mos\u001b[0m\u001b[0;34m.\u001b[0m\u001b[0mpath\u001b[0m\u001b[0;34m.\u001b[0m\u001b[0mjoin\u001b[0m\u001b[0;34m(\u001b[0m\u001b[0mserialization_dir\u001b[0m\u001b[0;34m,\u001b[0m \u001b[0mBERT_CONFIG_NAME\u001b[0m\u001b[0;34m)\u001b[0m\u001b[0;34m\u001b[0m\u001b[0;34m\u001b[0m\u001b[0m\n\u001b[0;32m--> 597\u001b[0;31m         \u001b[0mconfig\u001b[0m \u001b[0;34m=\u001b[0m \u001b[0mBertConfig\u001b[0m\u001b[0;34m.\u001b[0m\u001b[0mfrom_json_file\u001b[0m\u001b[0;34m(\u001b[0m\u001b[0mconfig_file\u001b[0m\u001b[0;34m)\u001b[0m\u001b[0;34m\u001b[0m\u001b[0;34m\u001b[0m\u001b[0m\n\u001b[0m\u001b[1;32m    598\u001b[0m         \u001b[0mlogger\u001b[0m\u001b[0;34m.\u001b[0m\u001b[0minfo\u001b[0m\u001b[0;34m(\u001b[0m\u001b[0;34m\"Model config {}\"\u001b[0m\u001b[0;34m.\u001b[0m\u001b[0mformat\u001b[0m\u001b[0;34m(\u001b[0m\u001b[0mconfig\u001b[0m\u001b[0;34m)\u001b[0m\u001b[0;34m)\u001b[0m\u001b[0;34m\u001b[0m\u001b[0;34m\u001b[0m\u001b[0m\n\u001b[1;32m    599\u001b[0m         \u001b[0;31m# Instantiate model.\u001b[0m\u001b[0;34m\u001b[0m\u001b[0;34m\u001b[0m\u001b[0;34m\u001b[0m\u001b[0m\n",
            "\u001b[0;32m~/.local/lib/python3.8/site-packages/pytorch_pretrained_bert/modeling.py\u001b[0m in \u001b[0;36mfrom_json_file\u001b[0;34m(cls, json_file)\u001b[0m\n\u001b[1;32m    204\u001b[0m     \u001b[0;32mdef\u001b[0m \u001b[0mfrom_json_file\u001b[0m\u001b[0;34m(\u001b[0m\u001b[0mcls\u001b[0m\u001b[0;34m,\u001b[0m \u001b[0mjson_file\u001b[0m\u001b[0;34m)\u001b[0m\u001b[0;34m:\u001b[0m\u001b[0;34m\u001b[0m\u001b[0;34m\u001b[0m\u001b[0m\n\u001b[1;32m    205\u001b[0m         \u001b[0;34m\"\"\"Constructs a `BertConfig` from a json file of parameters.\"\"\"\u001b[0m\u001b[0;34m\u001b[0m\u001b[0;34m\u001b[0m\u001b[0m\n\u001b[0;32m--> 206\u001b[0;31m         \u001b[0;32mwith\u001b[0m \u001b[0mopen\u001b[0m\u001b[0;34m(\u001b[0m\u001b[0mjson_file\u001b[0m\u001b[0;34m,\u001b[0m \u001b[0;34m\"r\"\u001b[0m\u001b[0;34m,\u001b[0m \u001b[0mencoding\u001b[0m\u001b[0;34m=\u001b[0m\u001b[0;34m'utf-8'\u001b[0m\u001b[0;34m)\u001b[0m \u001b[0;32mas\u001b[0m \u001b[0mreader\u001b[0m\u001b[0;34m:\u001b[0m\u001b[0;34m\u001b[0m\u001b[0;34m\u001b[0m\u001b[0m\n\u001b[0m\u001b[1;32m    207\u001b[0m             \u001b[0mtext\u001b[0m \u001b[0;34m=\u001b[0m \u001b[0mreader\u001b[0m\u001b[0;34m.\u001b[0m\u001b[0mread\u001b[0m\u001b[0;34m(\u001b[0m\u001b[0;34m)\u001b[0m\u001b[0;34m\u001b[0m\u001b[0;34m\u001b[0m\u001b[0m\n\u001b[1;32m    208\u001b[0m         \u001b[0;32mreturn\u001b[0m \u001b[0mcls\u001b[0m\u001b[0;34m.\u001b[0m\u001b[0mfrom_dict\u001b[0m\u001b[0;34m(\u001b[0m\u001b[0mjson\u001b[0m\u001b[0;34m.\u001b[0m\u001b[0mloads\u001b[0m\u001b[0;34m(\u001b[0m\u001b[0mtext\u001b[0m\u001b[0;34m)\u001b[0m\u001b[0;34m)\u001b[0m\u001b[0;34m\u001b[0m\u001b[0;34m\u001b[0m\u001b[0m\n",
            "\u001b[0;31mFileNotFoundError\u001b[0m: [Errno 2] No such file or directory: '/home/nmandreev/.moverscore/bert_config.json'"
          ]
        }
      ],
      "source": [
        "from moverscore import get_idf_dict, word_mover_score\n",
        "#from sentence_transformers import SentenceTransformer\n",
        "#from bleurt import score\n",
        "from collections import defaultdict"
      ]
    },
    {
      "cell_type": "code",
      "execution_count": null,
      "metadata": {
        "id": "UHZ86Y-t0QlV"
      },
      "outputs": [],
      "source": [
        "class text_distance_counter:\n",
        "    \"\"\"This class defines various methods for calculating distances between \n",
        "    texts.\n",
        "\n",
        "    :param string text: text of the question that we will attack\n",
        "    :param string new_text: changed question\n",
        "    \"\"\"\n",
        "\n",
        "    def __init__(self, text, new_text):\n",
        "        self.text = text\n",
        "        self.new_text = new_text\n",
        "\n",
        "    def cosine(self):\n",
        "        model = SentenceTransformer('paraphrase-MiniLM-L6-v2')\n",
        "        sentences = [self.text, self.new_text]\n",
        "        sentence_embeddings = model.encode(sentences)\n",
        "        return sentence_embeddings[0].dot(sentence_embeddings[1])\n",
        "\n",
        "    def bleurt(self):\n",
        "        checkpoint = \"bleurt/test_checkpoint\"\n",
        "        references = [self.text]\n",
        "        candidates = [self.new_text]\n",
        "\n",
        "        scorer = score.BleurtScorer(checkpoint)\n",
        "        scores = scorer.score(references=references, candidates=candidates)\n",
        "        return scores\n",
        "\n",
        "    def moverscore(self):\n",
        "        idf_dict_hyp = get_idf_dict(self.text)\n",
        "        idf_dict_ref = get_idf_dict(self.new_text)\n",
        "\n",
        "        references = [self.text]\n",
        "        translations = [self.new_text]\n",
        "\n",
        "        scores = word_mover_score(references, translations, idf_dict_ref, idf_dict_hyp, \\\n",
        "                          stop_words=[], n_gram=1, remove_subwords=True)\n",
        "\n",
        "        return scores\n"
      ]
    },
    {
      "cell_type": "markdown",
      "metadata": {
        "id": "nCvgevQecFvl"
      },
      "source": [
        "# Класс для подсчета метрик (между boxes)\n"
      ]
    },
    {
      "cell_type": "code",
      "execution_count": null,
      "metadata": {
        "id": "bjwFAlU5cVeU"
      },
      "outputs": [],
      "source": [
        "class metrics:\n",
        "\n",
        "    def __init__(self, picture_res):\n",
        "        self.vqa_answers = picture_res[0]\n",
        "        self.boxes = picture_res[1]\n",
        "\n",
        "    def IoU(self):\n",
        "        #boxes: [for original image, for attacked image]\n",
        "        original = boxes[0]\n",
        "        attacked = boxes[1]\n",
        "\n",
        "    def cosine(self):\n",
        "        pass"
      ]
    },
    {
      "cell_type": "markdown",
      "metadata": {
        "id": "wxDNspWQjGfc"
      },
      "source": [
        "# Основной класс для запуска модели\n"
      ]
    },
    {
      "cell_type": "code",
      "execution_count": null,
      "metadata": {
        "id": "mSBhfU7sjZJN"
      },
      "outputs": [],
      "source": [
        "class model_runner:\n",
        "    def __init__(self, image_name, question):\n",
        "        self.image_name = image_name\n",
        "        self.question = question\n",
        "\n",
        "    def run_frcnn(self):\n",
        "#         frcnn_visualizer = SingleImageViz(\n",
        "#             self.image_name, id2obj=objids, id2attr=attrids\n",
        "#         )\n",
        "        # run frcnn\n",
        "        images, sizes, scales_yx = image_preprocess(self.image_name)\n",
        "        output_dict = frcnn(\n",
        "            images=images,\n",
        "            image_shapes=sizes,\n",
        "            scales_yx=scales_yx,\n",
        "            padding=\"max_detections\",\n",
        "            max_detections=frcnn_cfg.max_detections,\n",
        "            return_tensors=\"pt\",\n",
        "        )\n",
        "        return output_dict\n",
        "\n",
        "    def run_lxmert(self, output_dict):\n",
        "        normalized_boxes = output_dict.get(\"normalized_boxes\")\n",
        "        boxes = output_dict.get(\"boxes\")\n",
        "        # boxes.append(normalized_boxes)\n",
        "        features = output_dict.get(\"roi_features\")\n",
        "\n",
        "        test_question = self.question\n",
        "\n",
        "        inputs = lxmert_tokenizer(\n",
        "            test_question,\n",
        "            padding=\"max_length\",\n",
        "            max_length=20,\n",
        "            truncation=True,\n",
        "            return_token_type_ids=True,\n",
        "            return_attention_mask=True,\n",
        "            add_special_tokens=True,\n",
        "            return_tensors=\"pt\",\n",
        "        )\n",
        "\n",
        "        # run lxmert(s)\n",
        "        \n",
        "        # output_gqa = lxmert_gqa(\n",
        "        #     input_ids=inputs.input_ids,\n",
        "        #     attention_mask=inputs.attention_mask,\n",
        "        #     visual_feats=features,\n",
        "        #     visual_pos=normalized_boxes,\n",
        "        #     token_type_ids=inputs.token_type_ids,\n",
        "        #     return_dict=True,\n",
        "        #     output_attentions=False,\n",
        "        # )\n",
        "        output_vqa = lxmert_vqa(\n",
        "            input_ids=inputs.input_ids.to('cuda'),\n",
        "            attention_mask=inputs.attention_mask.to('cuda'),\n",
        "            visual_feats=features.to('cuda'),\n",
        "            visual_pos=normalized_boxes.to('cuda'),\n",
        "            token_type_ids=inputs.token_type_ids.to('cuda'),\n",
        "            return_dict=True,\n",
        "            output_attentions=False,\n",
        "        )\n",
        "        # get prediction\n",
        "        pred_vqa = output_vqa[\"question_answering_score\"].argmax(-1)\n",
        "        # pred_gqa = output_gqa[\"question_answering_score\"].argmax(-1)\n",
        "        # answers_gqa.append(gqa_answers[pred_gqa])\n",
        "        answers_vqa = vqa_answers[pred_vqa]\n",
        "        # print(\"Question:\", test_question)\n",
        "        # print(\"prediction from LXMERT GQA:\", gqa_answers[pred_gqa])\n",
        "        # print(\"prediction from LXMERT VQA:\", vqa_answers[pred_vqa])\n",
        "        return (answers_vqa, boxes)"
      ]
    },
    {
      "cell_type": "code",
      "execution_count": null,
      "metadata": {
        "id": "UTtWRAy_uOyu",
        "outputId": "483442cb-a09e-44b8-9684-7c34393b5f8b"
      },
      "outputs": [
        {
          "name": "stdout",
          "output_type": "stream",
          "text": [
            "/home/nmandreev/transformers/examples/research_projects/lxmert\n"
          ]
        }
      ],
      "source": [
        "%cd transformers/examples/research_projects/lxmert"
      ]
    },
    {
      "cell_type": "code",
      "execution_count": null,
      "metadata": {
        "id": "vEl-U4pxk9Qq"
      },
      "outputs": [],
      "source": [
        "from IPython.display import clear_output, Image, display\n",
        "import PIL.Image\n",
        "import io\n",
        "import json\n",
        "import torch\n",
        "import numpy as np\n",
        "from processing_image import Preprocess\n",
        "from visualizing_image import SingleImageViz\n",
        "from modeling_frcnn import GeneralizedRCNN\n",
        "from utils import Config\n",
        "import utils\n",
        "from transformers import LxmertForQuestionAnswering, LxmertTokenizer\n",
        "import wget\n",
        "import pickle\n",
        "import os\n",
        "\n",
        "\n",
        "# URL = \"https://raw.githubusercontent.com/airsplay/py-bottom-up-attention/master/demo/data/images/input.jpg\",\n",
        "URL = \"https://vqa.cloudcv.org/media/test2014/COCO_test2014_000000262567.jpg\"\n",
        "OBJ_URL = \"https://raw.githubusercontent.com/airsplay/py-bottom-up-attention/master/demo/data/genome/1600-400-20/objects_vocab.txt\"\n",
        "ATTR_URL = \"https://raw.githubusercontent.com/airsplay/py-bottom-up-attention/master/demo/data/genome/1600-400-20/attributes_vocab.txt\"\n",
        "GQA_URL = \"https://raw.githubusercontent.com/airsplay/lxmert/master/data/gqa/trainval_label2ans.json\"\n",
        "VQA_URL = \"https://raw.githubusercontent.com/airsplay/lxmert/master/data/vqa/trainval_label2ans.json\""
      ]
    },
    {
      "cell_type": "code",
      "execution_count": null,
      "metadata": {
        "id": "YFAjPndFuOyu",
        "outputId": "765d4999-717a-45c1-f50c-536f7a0e6499"
      },
      "outputs": [
        {
          "name": "stdout",
          "output_type": "stream",
          "text": [
            "/home/nmandreev\n"
          ]
        }
      ],
      "source": [
        "cd /home/nmandreev/"
      ]
    },
    {
      "cell_type": "code",
      "execution_count": null,
      "metadata": {
        "id": "iTNF2zkEuOyv"
      },
      "outputs": [],
      "source": [
        "objids = []\n",
        "attrids = []\n",
        "vqa_answers = []\n",
        "\n",
        "with open(OBJ_URL.split('/')[-1], 'r') as fin:\n",
        "    objids = fin.read().strip().split(\"\\n\")[0]\n",
        "with open(ATTR_URL.split('/')[-1], 'r') as fin:\n",
        "    attrids = fin.read().strip().split(\"\\n\")[0]\n",
        "with open(VQA_URL.split('/')[-1], 'r') as fin:\n",
        "    vqa_answers = fin.read().strip().split(\"\\n\")[0]"
      ]
    },
    {
      "cell_type": "code",
      "execution_count": null,
      "metadata": {
        "id": "R_gQtwF-uOyv"
      },
      "outputs": [],
      "source": [
        "def converter(con):\n",
        "    x = con[1:-1].split(\", \")\n",
        "    x = [i[1:-1] for i in x]\n",
        "    return x\n",
        "\n",
        "objids = converter(objids)\n",
        "attrids = converter(attrids)\n",
        "vqa_answers = converter(vqa_answers)"
      ]
    },
    {
      "cell_type": "code",
      "execution_count": null,
      "metadata": {
        "colab": {
          "base_uri": "https://localhost:8080/"
        },
        "id": "PGHb_nL5lEKt",
        "outputId": "8cc0ac27-6f53-4550-8e9a-97dfae0a3e30"
      },
      "outputs": [
        {
          "name": "stdout",
          "output_type": "stream",
          "text": [
            "loading configuration file cache\n",
            "loading weights file https://cdn.huggingface.co/unc-nlp/frcnn-vg-finetuned/pytorch_model.bin from cache at /home/nmandreev/.cache/torch/transformers/57f6df6abe353be2773f2700159c65615babf39ab5b48114d2b49267672ae10f.77b59256a4cf8343ae0f923246a81489fc8d82f98d082edc2d2037c977c0d9d0\n",
            "All model checkpoint weights were used when initializing GeneralizedRCNN.\n",
            "\n",
            "All the weights of GeneralizedRCNN were initialized from the model checkpoint at unc-nlp/frcnn-vg-finetuned.\n",
            "If your task is similar to the task the model of the checkpoint was trained on, you can already use GeneralizedRCNN for predictions without further training.\n"
          ]
        }
      ],
      "source": [
        "# load models and model components\n",
        "frcnn_cfg = Config.from_pretrained(\"unc-nlp/frcnn-vg-finetuned\")\n",
        "frcnn_cfg.MODEL.DEVICE = 'cuda'\n",
        "\n",
        "frcnn = GeneralizedRCNN.from_pretrained(\"unc-nlp/frcnn-vg-finetuned\", config=frcnn_cfg)\n",
        "\n",
        "image_preprocess = Preprocess(frcnn_cfg)\n",
        "\n",
        "lxmert_tokenizer = LxmertTokenizer.from_pretrained(\"./transformers/examples/research_projects/lxmert/saved/\")\n",
        "#lxmert_gqa = LxmertForQuestionAnswering.from_pretrained(\"unc-nlp/lxmert-gqa-uncased\")\n",
        "lxmert_vqa = LxmertForQuestionAnswering.from_pretrained(\"./transformers/examples/research_projects/lxmert/saved/\").to('cuda')"
      ]
    },
    {
      "cell_type": "code",
      "execution_count": null,
      "metadata": {
        "id": "7lYg3Z0euOyv"
      },
      "outputs": [],
      "source": [
        "mkdir modified_RBC"
      ]
    },
    {
      "cell_type": "code",
      "execution_count": null,
      "metadata": {
        "id": "AAFKzeYa9-yD"
      },
      "outputs": [],
      "source": [
        "def all(image_name, new_image, que):\n",
        "    \"\"\"string image name,  image new_image, string question\"\"\"\n",
        "    model = model_runner(image_name, que)\n",
        "    out = model.run_frcnn()\n",
        "    res_old = model.run_lxmert(out)\n",
        "    \n",
        "#     if new_image == \"\":\n",
        "#         return res_old[0]\n",
        "    try:\n",
        "        plt.imsave('modified_RBC/new_' + image_name[8:], new_image)\n",
        "    except:\n",
        "        #print(res_old[0])\n",
        "        return (res_old[0], \"\")\n",
        "\n",
        "    model = model_runner(\"modified_RBC/new_\" + image_name[8:], que)\n",
        "    out = model.run_frcnn()\n",
        "    res_new = model.run_lxmert(out)\n",
        "\n",
        "    #m = metrics(res_old, res_new)\n",
        "    # print(res_old[0], end=\" \")\n",
        "    # print(res_new[0])\n",
        "    return (res_old[0], res_new[0])\n",
        "    #t_dist = text_distance_counter(res_old[0], res_new[0])\n",
        "    #print(t_dist.moverscore())\n",
        "    #print(m.cosine())\n",
        "    #print(m.IoU)"
      ]
    },
    {
      "cell_type": "code",
      "execution_count": null,
      "metadata": {
        "id": "ojP1CYjsWj-0"
      },
      "outputs": [],
      "source": [
        "import warnings\n",
        "warnings.filterwarnings(\"ignore\")"
      ]
    },
    {
      "cell_type": "markdown",
      "metadata": {
        "id": "Zu2thhArrk45"
      },
      "source": [
        "Основной запуск:"
      ]
    },
    {
      "cell_type": "code",
      "execution_count": null,
      "metadata": {
        "id": "RzhYzJvnuOyw",
        "outputId": "24a16b5c-ad2e-4029-91f4-ed75e002d69e"
      },
      "outputs": [
        {
          "data": {
            "text/plain": [
              "214354"
            ]
          },
          "execution_count": 32,
          "metadata": {},
          "output_type": "execute_result"
        }
      ],
      "source": [
        "len(data)"
      ]
    },
    {
      "cell_type": "code",
      "execution_count": null,
      "metadata": {
        "id": "P5ptKoEsuOyw"
      },
      "outputs": [],
      "source": [
        "def run_all():\n",
        "        \n",
        "    #new_image = \"\"\n",
        "    total = 0\n",
        "    right_1 = 0\n",
        "    right_5 = 0\n",
        "    right = 0\n",
        "    \n",
        "    ans = dict()\n",
        "\n",
        "    ims = []\n",
        "    qs = []\n",
        "    for d in data[:5]:\n",
        "        img = 'val2014/' + d['img_id'] + '.jpg'\n",
        "        \n",
        "        image = cv2.imread(img)\n",
        "        image = cv2.cvtColor(image, cv2.COLOR_BGR2RGB)\n",
        "        attack = image_attacker(image)\n",
        "\n",
        "        transform = A.Compose([\n",
        "            A.RandomBrightnessContrast(p=1)\n",
        "        ])\n",
        "        new_image = transform(image=image)[\"image\"]\n",
        "        \n",
        "#         plt.figure(figsize=[12, 12])\n",
        "#         labs = ['old', 'new']\n",
        "#         ims = [image, new_image]\n",
        "#         for i in range(2):\n",
        "#             plt.subplot(1,2,i+1)\n",
        "#             plt.title(labs[i])\n",
        "#             plt.imshow(ims[i])\n",
        "#         plt.show()\n",
        "        \n",
        "        \n",
        "        que = d['sent']\n",
        "        true = d['label']\n",
        "        if len(true) != 0:\n",
        "            #print(que)\n",
        "            #print(true)\n",
        "\n",
        "            res_ = all(img, new_image, que)\n",
        "            #print(res_[0], res_[1], sep=\" , \")\n",
        "#             if res_ in true:\n",
        "            if d['img_id'] not in ans:\n",
        "                ans[d['img_id']] = []\n",
        "            ans[d['img_id']].append([que, true, res_])\n",
        "                \n",
        "#                 if true[res_] == 1:\n",
        "#                     right_1 += 1\n",
        "#                 elif true[res_] >= 0.5:\n",
        "#                     right_5 += 1\n",
        "#                 else:\n",
        "#                     right += 1\n",
        "        #ims.append(img)\n",
        "        #qs.append(que)\n",
        "                    \n",
        "        \n",
        "#     print(\"Total:\", total)\n",
        "#     print(\"Right 1:\", right_1)\n",
        "#     print(\"Semi-right:\", right_5)\n",
        "#     print(\"Barely right:\", right)\n",
        "    with open(\"log_RBC.txt\", 'w') as fout:\n",
        "        for a in ans:\n",
        "            print(a, ans[a], sep=\" \", end=\"\\n\", file=fout)"
      ]
    },
    {
      "cell_type": "code",
      "execution_count": null,
      "metadata": {
        "colab": {
          "base_uri": "https://localhost:8080/"
        },
        "id": "MWC9-b5ohAOI",
        "outputId": "c76d9b8c-541f-4bd5-fea7-f55661797536"
      },
      "outputs": [
        {
          "data": {
            "text/plain": [
              "dict_keys(['person', 'vehicle', 'outdoor', 'animal', 'accessory', 'sports', 'kitchen', 'food', 'furniture', 'electronic', 'appliance', 'indoor'])"
            ]
          },
          "execution_count": 32,
          "metadata": {},
          "output_type": "execute_result"
        }
      ],
      "source": [
        "catstoimgs.keys()"
      ]
    },
    {
      "cell_type": "code",
      "execution_count": null,
      "metadata": {
        "colab": {
          "background_save": true
        },
        "id": "L-K3l8k3g9rN",
        "scrolled": true
      },
      "outputs": [],
      "source": [
        "%%time\n",
        "\n",
        "run_all()"
      ]
    },
    {
      "cell_type": "code",
      "execution_count": null,
      "metadata": {
        "id": "oenTlPnXuOyx"
      },
      "outputs": [],
      "source": [
        "with open('log.txt', 'r') as fin:\n",
        "    info_ = fin.read().strip().split('\\n')"
      ]
    },
    {
      "cell_type": "code",
      "execution_count": null,
      "metadata": {
        "id": "RSeQYQnHuOyx"
      },
      "outputs": [],
      "source": [
        "res_dict = dict()\n",
        "for i in range(len(info_)):\n",
        "    res_dict[info_[i].split(' ')[0]] = list(map(float, info_[i].split(\" [\")[-1][:-1].split(\", \")))"
      ]
    },
    {
      "cell_type": "code",
      "execution_count": null,
      "metadata": {
        "id": "O8NTCx3nuOyx",
        "outputId": "82255308-3c41-4138-f16b-dd867706b4ed"
      },
      "outputs": [
        {
          "name": "stdout",
          "output_type": "stream",
          "text": [
            "Total: 210051\n",
            "Right 1: 124644 ratio: 0.593398746018824\n",
            "Semi-right: 18813 ratio: 0.08956396303754803\n",
            "Barely right: 13462 ratio: 0.06408919738539688\n"
          ]
        }
      ],
      "source": [
        "total = 0\n",
        "for d in data:\n",
        "    true = d['label']\n",
        "    if len(true) != 0:\n",
        "        total += 1\n",
        "\n",
        "right_1 = 0\n",
        "right_5 = 0\n",
        "right = 0\n",
        "\n",
        "for r in res_dict:\n",
        "    for _ in res_dict[r]:\n",
        "        if _ == 1.0:\n",
        "            right_1 += 1\n",
        "        elif _ >= 0.5:\n",
        "            right_5 += 1\n",
        "        else:\n",
        "            right += 1\n",
        "print(\"Total:\", total)\n",
        "print(\"Right 1:\", right_1, \"ratio:\", right_1 / total)\n",
        "print(\"Semi-right:\", right_5, \"ratio:\", right_5 / total)\n",
        "print(\"Barely right:\", right, \"ratio:\", right / total)"
      ]
    }
  ],
  "metadata": {
    "accelerator": "GPU",
    "colab": {
      "collapsed_sections": [],
      "name": "VQA_classes_main.ipynb",
      "provenance": []
    },
    "kernelspec": {
      "display_name": "Python 3",
      "language": "python",
      "name": "python3"
    },
    "language_info": {
      "codemirror_mode": {
        "name": "ipython",
        "version": 3
      },
      "file_extension": ".py",
      "mimetype": "text/x-python",
      "name": "python",
      "nbconvert_exporter": "python",
      "pygments_lexer": "ipython3",
      "version": "3.8.5"
    },
    "widgets": {
      "application/vnd.jupyter.widget-state+json": {
        "003e381a65f044d9919f2d21c45fbb66": {
          "model_module": "@jupyter-widgets/controls",
          "model_module_version": "1.5.0",
          "model_name": "ProgressStyleModel",
          "state": {
            "_model_module": "@jupyter-widgets/controls",
            "_model_module_version": "1.5.0",
            "_model_name": "ProgressStyleModel",
            "_view_count": null,
            "_view_module": "@jupyter-widgets/base",
            "_view_module_version": "1.2.0",
            "_view_name": "StyleView",
            "bar_color": null,
            "description_width": "initial"
          }
        },
        "003e8db15bb7464eb55c7708d700a505": {
          "model_module": "@jupyter-widgets/controls",
          "model_module_version": "1.5.0",
          "model_name": "FloatProgressModel",
          "state": {
            "_dom_classes": [],
            "_model_module": "@jupyter-widgets/controls",
            "_model_module_version": "1.5.0",
            "_model_name": "FloatProgressModel",
            "_view_count": null,
            "_view_module": "@jupyter-widgets/controls",
            "_view_module_version": "1.5.0",
            "_view_name": "ProgressView",
            "bar_style": "success",
            "description": "Downloading: 100%",
            "description_tooltip": null,
            "layout": "IPY_MODEL_03e449cf56a149b487057a7b6e648bb4",
            "max": 842303,
            "min": 0,
            "orientation": "horizontal",
            "style": "IPY_MODEL_39986ea60bbc46c78aa78180164d2425",
            "value": 842303
          }
        },
        "03e449cf56a149b487057a7b6e648bb4": {
          "model_module": "@jupyter-widgets/base",
          "model_module_version": "1.2.0",
          "model_name": "LayoutModel",
          "state": {
            "_model_module": "@jupyter-widgets/base",
            "_model_module_version": "1.2.0",
            "_model_name": "LayoutModel",
            "_view_count": null,
            "_view_module": "@jupyter-widgets/base",
            "_view_module_version": "1.2.0",
            "_view_name": "LayoutView",
            "align_content": null,
            "align_items": null,
            "align_self": null,
            "border": null,
            "bottom": null,
            "display": null,
            "flex": null,
            "flex_flow": null,
            "grid_area": null,
            "grid_auto_columns": null,
            "grid_auto_flow": null,
            "grid_auto_rows": null,
            "grid_column": null,
            "grid_gap": null,
            "grid_row": null,
            "grid_template_areas": null,
            "grid_template_columns": null,
            "grid_template_rows": null,
            "height": null,
            "justify_content": null,
            "justify_items": null,
            "left": null,
            "margin": null,
            "max_height": null,
            "max_width": null,
            "min_height": null,
            "min_width": null,
            "object_fit": null,
            "object_position": null,
            "order": null,
            "overflow": null,
            "overflow_x": null,
            "overflow_y": null,
            "padding": null,
            "right": null,
            "top": null,
            "visibility": null,
            "width": null
          }
        },
        "074bb6c72da7479a8ecddd1d055d1dfa": {
          "model_module": "@jupyter-widgets/base",
          "model_module_version": "1.2.0",
          "model_name": "LayoutModel",
          "state": {
            "_model_module": "@jupyter-widgets/base",
            "_model_module_version": "1.2.0",
            "_model_name": "LayoutModel",
            "_view_count": null,
            "_view_module": "@jupyter-widgets/base",
            "_view_module_version": "1.2.0",
            "_view_name": "LayoutView",
            "align_content": null,
            "align_items": null,
            "align_self": null,
            "border": null,
            "bottom": null,
            "display": null,
            "flex": null,
            "flex_flow": null,
            "grid_area": null,
            "grid_auto_columns": null,
            "grid_auto_flow": null,
            "grid_auto_rows": null,
            "grid_column": null,
            "grid_gap": null,
            "grid_row": null,
            "grid_template_areas": null,
            "grid_template_columns": null,
            "grid_template_rows": null,
            "height": null,
            "justify_content": null,
            "justify_items": null,
            "left": null,
            "margin": null,
            "max_height": null,
            "max_width": null,
            "min_height": null,
            "min_width": null,
            "object_fit": null,
            "object_position": null,
            "order": null,
            "overflow": null,
            "overflow_x": null,
            "overflow_y": null,
            "padding": null,
            "right": null,
            "top": null,
            "visibility": null,
            "width": null
          }
        },
        "0b7b484e24f9427c8428f6097700cfbc": {
          "model_module": "@jupyter-widgets/base",
          "model_module_version": "1.2.0",
          "model_name": "LayoutModel",
          "state": {
            "_model_module": "@jupyter-widgets/base",
            "_model_module_version": "1.2.0",
            "_model_name": "LayoutModel",
            "_view_count": null,
            "_view_module": "@jupyter-widgets/base",
            "_view_module_version": "1.2.0",
            "_view_name": "LayoutView",
            "align_content": null,
            "align_items": null,
            "align_self": null,
            "border": null,
            "bottom": null,
            "display": null,
            "flex": null,
            "flex_flow": null,
            "grid_area": null,
            "grid_auto_columns": null,
            "grid_auto_flow": null,
            "grid_auto_rows": null,
            "grid_column": null,
            "grid_gap": null,
            "grid_row": null,
            "grid_template_areas": null,
            "grid_template_columns": null,
            "grid_template_rows": null,
            "height": null,
            "justify_content": null,
            "justify_items": null,
            "left": null,
            "margin": null,
            "max_height": null,
            "max_width": null,
            "min_height": null,
            "min_width": null,
            "object_fit": null,
            "object_position": null,
            "order": null,
            "overflow": null,
            "overflow_x": null,
            "overflow_y": null,
            "padding": null,
            "right": null,
            "top": null,
            "visibility": null,
            "width": null
          }
        },
        "0c88575665764f1c875f61d10565bb66": {
          "model_module": "@jupyter-widgets/base",
          "model_module_version": "1.2.0",
          "model_name": "LayoutModel",
          "state": {
            "_model_module": "@jupyter-widgets/base",
            "_model_module_version": "1.2.0",
            "_model_name": "LayoutModel",
            "_view_count": null,
            "_view_module": "@jupyter-widgets/base",
            "_view_module_version": "1.2.0",
            "_view_name": "LayoutView",
            "align_content": null,
            "align_items": null,
            "align_self": null,
            "border": null,
            "bottom": null,
            "display": null,
            "flex": null,
            "flex_flow": null,
            "grid_area": null,
            "grid_auto_columns": null,
            "grid_auto_flow": null,
            "grid_auto_rows": null,
            "grid_column": null,
            "grid_gap": null,
            "grid_row": null,
            "grid_template_areas": null,
            "grid_template_columns": null,
            "grid_template_rows": null,
            "height": null,
            "justify_content": null,
            "justify_items": null,
            "left": null,
            "margin": null,
            "max_height": null,
            "max_width": null,
            "min_height": null,
            "min_width": null,
            "object_fit": null,
            "object_position": null,
            "order": null,
            "overflow": null,
            "overflow_x": null,
            "overflow_y": null,
            "padding": null,
            "right": null,
            "top": null,
            "visibility": null,
            "width": null
          }
        },
        "0e2f666e971640f79b8f689db3c27376": {
          "model_module": "@jupyter-widgets/base",
          "model_module_version": "1.2.0",
          "model_name": "LayoutModel",
          "state": {
            "_model_module": "@jupyter-widgets/base",
            "_model_module_version": "1.2.0",
            "_model_name": "LayoutModel",
            "_view_count": null,
            "_view_module": "@jupyter-widgets/base",
            "_view_module_version": "1.2.0",
            "_view_name": "LayoutView",
            "align_content": null,
            "align_items": null,
            "align_self": null,
            "border": null,
            "bottom": null,
            "display": null,
            "flex": null,
            "flex_flow": null,
            "grid_area": null,
            "grid_auto_columns": null,
            "grid_auto_flow": null,
            "grid_auto_rows": null,
            "grid_column": null,
            "grid_gap": null,
            "grid_row": null,
            "grid_template_areas": null,
            "grid_template_columns": null,
            "grid_template_rows": null,
            "height": null,
            "justify_content": null,
            "justify_items": null,
            "left": null,
            "margin": null,
            "max_height": null,
            "max_width": null,
            "min_height": null,
            "min_width": null,
            "object_fit": null,
            "object_position": null,
            "order": null,
            "overflow": null,
            "overflow_x": null,
            "overflow_y": null,
            "padding": null,
            "right": null,
            "top": null,
            "visibility": null,
            "width": null
          }
        },
        "10a129f507fc4f9090752b70599a32f2": {
          "model_module": "@jupyter-widgets/controls",
          "model_module_version": "1.5.0",
          "model_name": "ProgressStyleModel",
          "state": {
            "_model_module": "@jupyter-widgets/controls",
            "_model_module_version": "1.5.0",
            "_model_name": "ProgressStyleModel",
            "_view_count": null,
            "_view_module": "@jupyter-widgets/base",
            "_view_module_version": "1.2.0",
            "_view_name": "StyleView",
            "bar_color": null,
            "description_width": "initial"
          }
        },
        "11739e51cb044120b8a8f33f96ba9853": {
          "model_module": "@jupyter-widgets/controls",
          "model_module_version": "1.5.0",
          "model_name": "HBoxModel",
          "state": {
            "_dom_classes": [],
            "_model_module": "@jupyter-widgets/controls",
            "_model_module_version": "1.5.0",
            "_model_name": "HBoxModel",
            "_view_count": null,
            "_view_module": "@jupyter-widgets/controls",
            "_view_module_version": "1.5.0",
            "_view_name": "HBoxView",
            "box_style": "",
            "children": [
              "IPY_MODEL_be03ead29510450f958ab6d33d564b45",
              "IPY_MODEL_78b942bf47c045538a734283da31c65d"
            ],
            "layout": "IPY_MODEL_6fb48d2e75744c1197bd5b31d8a275eb"
          }
        },
        "12669c40d5144ada949f8dcaf41926ca": {
          "model_module": "@jupyter-widgets/base",
          "model_module_version": "1.2.0",
          "model_name": "LayoutModel",
          "state": {
            "_model_module": "@jupyter-widgets/base",
            "_model_module_version": "1.2.0",
            "_model_name": "LayoutModel",
            "_view_count": null,
            "_view_module": "@jupyter-widgets/base",
            "_view_module_version": "1.2.0",
            "_view_name": "LayoutView",
            "align_content": null,
            "align_items": null,
            "align_self": null,
            "border": null,
            "bottom": null,
            "display": null,
            "flex": null,
            "flex_flow": null,
            "grid_area": null,
            "grid_auto_columns": null,
            "grid_auto_flow": null,
            "grid_auto_rows": null,
            "grid_column": null,
            "grid_gap": null,
            "grid_row": null,
            "grid_template_areas": null,
            "grid_template_columns": null,
            "grid_template_rows": null,
            "height": null,
            "justify_content": null,
            "justify_items": null,
            "left": null,
            "margin": null,
            "max_height": null,
            "max_width": null,
            "min_height": null,
            "min_width": null,
            "object_fit": null,
            "object_position": null,
            "order": null,
            "overflow": null,
            "overflow_x": null,
            "overflow_y": null,
            "padding": null,
            "right": null,
            "top": null,
            "visibility": null,
            "width": null
          }
        },
        "178a07b7c0c6483cb1213c724e218094": {
          "model_module": "@jupyter-widgets/controls",
          "model_module_version": "1.5.0",
          "model_name": "DescriptionStyleModel",
          "state": {
            "_model_module": "@jupyter-widgets/controls",
            "_model_module_version": "1.5.0",
            "_model_name": "DescriptionStyleModel",
            "_view_count": null,
            "_view_module": "@jupyter-widgets/base",
            "_view_module_version": "1.2.0",
            "_view_name": "StyleView",
            "description_width": ""
          }
        },
        "1ba01d5ed8b64bc48193c0f9f3f77f97": {
          "model_module": "@jupyter-widgets/controls",
          "model_module_version": "1.5.0",
          "model_name": "HBoxModel",
          "state": {
            "_dom_classes": [],
            "_model_module": "@jupyter-widgets/controls",
            "_model_module_version": "1.5.0",
            "_model_name": "HBoxModel",
            "_view_count": null,
            "_view_module": "@jupyter-widgets/controls",
            "_view_module_version": "1.5.0",
            "_view_name": "HBoxView",
            "box_style": "",
            "children": [
              "IPY_MODEL_c5d4ca7dace840b3ab35fb2a927300f6",
              "IPY_MODEL_af75c05387c44fc9b8314dcfb84583de"
            ],
            "layout": "IPY_MODEL_6e882a02abbb4f2da662a53b5b3e3f3b"
          }
        },
        "2482868ba6fa4231aff44dc9373711a6": {
          "model_module": "@jupyter-widgets/controls",
          "model_module_version": "1.5.0",
          "model_name": "DescriptionStyleModel",
          "state": {
            "_model_module": "@jupyter-widgets/controls",
            "_model_module_version": "1.5.0",
            "_model_name": "DescriptionStyleModel",
            "_view_count": null,
            "_view_module": "@jupyter-widgets/base",
            "_view_module_version": "1.2.0",
            "_view_name": "StyleView",
            "description_width": ""
          }
        },
        "2a85458a02c64e55b694d6d9ef6e943b": {
          "model_module": "@jupyter-widgets/controls",
          "model_module_version": "1.5.0",
          "model_name": "ProgressStyleModel",
          "state": {
            "_model_module": "@jupyter-widgets/controls",
            "_model_module_version": "1.5.0",
            "_model_name": "ProgressStyleModel",
            "_view_count": null,
            "_view_module": "@jupyter-widgets/base",
            "_view_module_version": "1.2.0",
            "_view_name": "StyleView",
            "bar_color": null,
            "description_width": "initial"
          }
        },
        "2cc5e0474c5b4125a94921b12413dbc7": {
          "model_module": "@jupyter-widgets/controls",
          "model_module_version": "1.5.0",
          "model_name": "HTMLModel",
          "state": {
            "_dom_classes": [],
            "_model_module": "@jupyter-widgets/controls",
            "_model_module_version": "1.5.0",
            "_model_name": "HTMLModel",
            "_view_count": null,
            "_view_module": "@jupyter-widgets/controls",
            "_view_module_version": "1.5.0",
            "_view_name": "HTMLView",
            "description": "",
            "description_tooltip": null,
            "layout": "IPY_MODEL_6d16cf38be98498e84fc741676162811",
            "placeholder": "​",
            "style": "IPY_MODEL_2482868ba6fa4231aff44dc9373711a6",
            "value": " 803k/803k [00:05&lt;00:00, 139kB/s]"
          }
        },
        "2e25a273e36a4f809b0523cf15405d83": {
          "model_module": "@jupyter-widgets/controls",
          "model_module_version": "1.5.0",
          "model_name": "DescriptionStyleModel",
          "state": {
            "_model_module": "@jupyter-widgets/controls",
            "_model_module_version": "1.5.0",
            "_model_name": "DescriptionStyleModel",
            "_view_count": null,
            "_view_module": "@jupyter-widgets/base",
            "_view_module_version": "1.2.0",
            "_view_name": "StyleView",
            "description_width": ""
          }
        },
        "2f341ceda4964a5dab3684195d979ed5": {
          "model_module": "@jupyter-widgets/controls",
          "model_module_version": "1.5.0",
          "model_name": "HBoxModel",
          "state": {
            "_dom_classes": [],
            "_model_module": "@jupyter-widgets/controls",
            "_model_module_version": "1.5.0",
            "_model_name": "HBoxModel",
            "_view_count": null,
            "_view_module": "@jupyter-widgets/controls",
            "_view_module_version": "1.5.0",
            "_view_name": "HBoxView",
            "box_style": "",
            "children": [
              "IPY_MODEL_b0c1b7828eb140e494be58bc5f2be052",
              "IPY_MODEL_4b019fb6f94744d58cc3e701e7ad82ea"
            ],
            "layout": "IPY_MODEL_0b7b484e24f9427c8428f6097700cfbc"
          }
        },
        "30b8988bdcfe4de1bfca2e74c356d42d": {
          "model_module": "@jupyter-widgets/controls",
          "model_module_version": "1.5.0",
          "model_name": "DescriptionStyleModel",
          "state": {
            "_model_module": "@jupyter-widgets/controls",
            "_model_module_version": "1.5.0",
            "_model_name": "DescriptionStyleModel",
            "_view_count": null,
            "_view_module": "@jupyter-widgets/base",
            "_view_module_version": "1.2.0",
            "_view_name": "StyleView",
            "description_width": ""
          }
        },
        "324aa45f0e8d4124928e8dafc710ab37": {
          "model_module": "@jupyter-widgets/controls",
          "model_module_version": "1.5.0",
          "model_name": "HTMLModel",
          "state": {
            "_dom_classes": [],
            "_model_module": "@jupyter-widgets/controls",
            "_model_module_version": "1.5.0",
            "_model_name": "HTMLModel",
            "_view_count": null,
            "_view_module": "@jupyter-widgets/controls",
            "_view_module_version": "1.5.0",
            "_view_name": "HTMLView",
            "description": "",
            "description_tooltip": null,
            "layout": "IPY_MODEL_3f0e0f3e513f413eaafaca44d0a0ddcf",
            "placeholder": "​",
            "style": "IPY_MODEL_c92fc06298b84e6bb391dac8d1696a74",
            "value": " 790k/790k [00:02&lt;00:00, 372kB/s]"
          }
        },
        "35c10fb9b51745b589f05f96bc50f5ae": {
          "model_module": "@jupyter-widgets/controls",
          "model_module_version": "1.5.0",
          "model_name": "ProgressStyleModel",
          "state": {
            "_model_module": "@jupyter-widgets/controls",
            "_model_module_version": "1.5.0",
            "_model_name": "ProgressStyleModel",
            "_view_count": null,
            "_view_module": "@jupyter-widgets/base",
            "_view_module_version": "1.2.0",
            "_view_name": "StyleView",
            "bar_color": null,
            "description_width": "initial"
          }
        },
        "39986ea60bbc46c78aa78180164d2425": {
          "model_module": "@jupyter-widgets/controls",
          "model_module_version": "1.5.0",
          "model_name": "ProgressStyleModel",
          "state": {
            "_model_module": "@jupyter-widgets/controls",
            "_model_module_version": "1.5.0",
            "_model_name": "ProgressStyleModel",
            "_view_count": null,
            "_view_module": "@jupyter-widgets/base",
            "_view_module_version": "1.2.0",
            "_view_name": "StyleView",
            "bar_color": null,
            "description_width": "initial"
          }
        },
        "3a4fd000bc824bbf8c235f14852ec4d7": {
          "model_module": "@jupyter-widgets/controls",
          "model_module_version": "1.5.0",
          "model_name": "DescriptionStyleModel",
          "state": {
            "_model_module": "@jupyter-widgets/controls",
            "_model_module_version": "1.5.0",
            "_model_name": "DescriptionStyleModel",
            "_view_count": null,
            "_view_module": "@jupyter-widgets/base",
            "_view_module_version": "1.2.0",
            "_view_name": "StyleView",
            "description_width": ""
          }
        },
        "3f0e0f3e513f413eaafaca44d0a0ddcf": {
          "model_module": "@jupyter-widgets/base",
          "model_module_version": "1.2.0",
          "model_name": "LayoutModel",
          "state": {
            "_model_module": "@jupyter-widgets/base",
            "_model_module_version": "1.2.0",
            "_model_name": "LayoutModel",
            "_view_count": null,
            "_view_module": "@jupyter-widgets/base",
            "_view_module_version": "1.2.0",
            "_view_name": "LayoutView",
            "align_content": null,
            "align_items": null,
            "align_self": null,
            "border": null,
            "bottom": null,
            "display": null,
            "flex": null,
            "flex_flow": null,
            "grid_area": null,
            "grid_auto_columns": null,
            "grid_auto_flow": null,
            "grid_auto_rows": null,
            "grid_column": null,
            "grid_gap": null,
            "grid_row": null,
            "grid_template_areas": null,
            "grid_template_columns": null,
            "grid_template_rows": null,
            "height": null,
            "justify_content": null,
            "justify_items": null,
            "left": null,
            "margin": null,
            "max_height": null,
            "max_width": null,
            "min_height": null,
            "min_width": null,
            "object_fit": null,
            "object_position": null,
            "order": null,
            "overflow": null,
            "overflow_x": null,
            "overflow_y": null,
            "padding": null,
            "right": null,
            "top": null,
            "visibility": null,
            "width": null
          }
        },
        "3f9fc2785521443eab6e7d83117ae2ef": {
          "model_module": "@jupyter-widgets/controls",
          "model_module_version": "1.5.0",
          "model_name": "HTMLModel",
          "state": {
            "_dom_classes": [],
            "_model_module": "@jupyter-widgets/controls",
            "_model_module_version": "1.5.0",
            "_model_name": "HTMLModel",
            "_view_count": null,
            "_view_module": "@jupyter-widgets/controls",
            "_view_module_version": "1.5.0",
            "_view_name": "HTMLView",
            "description": "",
            "description_tooltip": null,
            "layout": "IPY_MODEL_cd46deb55f454ffcbf5742dcbd7f9f48",
            "placeholder": "​",
            "style": "IPY_MODEL_b87673332bc84cd9a3bf953ea51b12db",
            "value": " 301M/301M [00:11&lt;00:00, 27.3MB/s]"
          }
        },
        "40408bf828a749229f51c8c81ed861f4": {
          "model_module": "@jupyter-widgets/controls",
          "model_module_version": "1.5.0",
          "model_name": "HBoxModel",
          "state": {
            "_dom_classes": [],
            "_model_module": "@jupyter-widgets/controls",
            "_model_module_version": "1.5.0",
            "_model_name": "HBoxModel",
            "_view_count": null,
            "_view_module": "@jupyter-widgets/controls",
            "_view_module_version": "1.5.0",
            "_view_name": "HBoxView",
            "box_style": "",
            "children": [
              "IPY_MODEL_573344803d99494c922d8f6bbb402e38",
              "IPY_MODEL_d867995a4fb941ddab99b38a9e5952b4"
            ],
            "layout": "IPY_MODEL_bc5b5e941b9548249becbd4128eb1b8e"
          }
        },
        "45bbce44ca644c478b396f1c8ba7486c": {
          "model_module": "@jupyter-widgets/controls",
          "model_module_version": "1.5.0",
          "model_name": "ProgressStyleModel",
          "state": {
            "_model_module": "@jupyter-widgets/controls",
            "_model_module_version": "1.5.0",
            "_model_name": "ProgressStyleModel",
            "_view_count": null,
            "_view_module": "@jupyter-widgets/base",
            "_view_module_version": "1.2.0",
            "_view_name": "StyleView",
            "bar_color": null,
            "description_width": "initial"
          }
        },
        "4a2b8341106e4a65b54a4c288b8e742d": {
          "model_module": "@jupyter-widgets/base",
          "model_module_version": "1.2.0",
          "model_name": "LayoutModel",
          "state": {
            "_model_module": "@jupyter-widgets/base",
            "_model_module_version": "1.2.0",
            "_model_name": "LayoutModel",
            "_view_count": null,
            "_view_module": "@jupyter-widgets/base",
            "_view_module_version": "1.2.0",
            "_view_name": "LayoutView",
            "align_content": null,
            "align_items": null,
            "align_self": null,
            "border": null,
            "bottom": null,
            "display": null,
            "flex": null,
            "flex_flow": null,
            "grid_area": null,
            "grid_auto_columns": null,
            "grid_auto_flow": null,
            "grid_auto_rows": null,
            "grid_column": null,
            "grid_gap": null,
            "grid_row": null,
            "grid_template_areas": null,
            "grid_template_columns": null,
            "grid_template_rows": null,
            "height": null,
            "justify_content": null,
            "justify_items": null,
            "left": null,
            "margin": null,
            "max_height": null,
            "max_width": null,
            "min_height": null,
            "min_width": null,
            "object_fit": null,
            "object_position": null,
            "order": null,
            "overflow": null,
            "overflow_x": null,
            "overflow_y": null,
            "padding": null,
            "right": null,
            "top": null,
            "visibility": null,
            "width": null
          }
        },
        "4b019fb6f94744d58cc3e701e7ad82ea": {
          "model_module": "@jupyter-widgets/controls",
          "model_module_version": "1.5.0",
          "model_name": "HTMLModel",
          "state": {
            "_dom_classes": [],
            "_model_module": "@jupyter-widgets/controls",
            "_model_module_version": "1.5.0",
            "_model_name": "HTMLModel",
            "_view_count": null,
            "_view_module": "@jupyter-widgets/controls",
            "_view_module_version": "1.5.0",
            "_view_name": "HTMLView",
            "description": "",
            "description_tooltip": null,
            "layout": "IPY_MODEL_7e467efe2d37485a903f1d0d53ce4f8c",
            "placeholder": "​",
            "style": "IPY_MODEL_a0502c575f0a48ebbd6199622ddd1fe5",
            "value": " 312M/312M [00:09&lt;00:00, 31.8MB/s]"
          }
        },
        "4c01aa8104534a4ab61aeaa2e2923bf1": {
          "model_module": "@jupyter-widgets/controls",
          "model_module_version": "1.5.0",
          "model_name": "HBoxModel",
          "state": {
            "_dom_classes": [],
            "_model_module": "@jupyter-widgets/controls",
            "_model_module_version": "1.5.0",
            "_model_name": "HBoxModel",
            "_view_count": null,
            "_view_module": "@jupyter-widgets/controls",
            "_view_module_version": "1.5.0",
            "_view_name": "HBoxView",
            "box_style": "",
            "children": [
              "IPY_MODEL_cc57afe815bf48fdabd3f43ceb332f57",
              "IPY_MODEL_3f9fc2785521443eab6e7d83117ae2ef"
            ],
            "layout": "IPY_MODEL_a91cb03156ae43ca8e4ba93fa2c03f99"
          }
        },
        "4d08dd84b857470b8793e5c394a25846": {
          "model_module": "@jupyter-widgets/controls",
          "model_module_version": "1.5.0",
          "model_name": "HBoxModel",
          "state": {
            "_dom_classes": [],
            "_model_module": "@jupyter-widgets/controls",
            "_model_module_version": "1.5.0",
            "_model_name": "HBoxModel",
            "_view_count": null,
            "_view_module": "@jupyter-widgets/controls",
            "_view_module_version": "1.5.0",
            "_view_name": "HBoxView",
            "box_style": "",
            "children": [
              "IPY_MODEL_c310f958de964d279e80501536e41dfc",
              "IPY_MODEL_e8a6db7c7e06497f8914a3610319c726"
            ],
            "layout": "IPY_MODEL_e38e1a149486466ba19814134495a376"
          }
        },
        "503716b8e8ea4a87aa72dbba5baeb959": {
          "model_module": "@jupyter-widgets/base",
          "model_module_version": "1.2.0",
          "model_name": "LayoutModel",
          "state": {
            "_model_module": "@jupyter-widgets/base",
            "_model_module_version": "1.2.0",
            "_model_name": "LayoutModel",
            "_view_count": null,
            "_view_module": "@jupyter-widgets/base",
            "_view_module_version": "1.2.0",
            "_view_name": "LayoutView",
            "align_content": null,
            "align_items": null,
            "align_self": null,
            "border": null,
            "bottom": null,
            "display": null,
            "flex": null,
            "flex_flow": null,
            "grid_area": null,
            "grid_auto_columns": null,
            "grid_auto_flow": null,
            "grid_auto_rows": null,
            "grid_column": null,
            "grid_gap": null,
            "grid_row": null,
            "grid_template_areas": null,
            "grid_template_columns": null,
            "grid_template_rows": null,
            "height": null,
            "justify_content": null,
            "justify_items": null,
            "left": null,
            "margin": null,
            "max_height": null,
            "max_width": null,
            "min_height": null,
            "min_width": null,
            "object_fit": null,
            "object_position": null,
            "order": null,
            "overflow": null,
            "overflow_x": null,
            "overflow_y": null,
            "padding": null,
            "right": null,
            "top": null,
            "visibility": null,
            "width": null
          }
        },
        "50af01fcbc8e4550914bc3ad4512c963": {
          "model_module": "@jupyter-widgets/base",
          "model_module_version": "1.2.0",
          "model_name": "LayoutModel",
          "state": {
            "_model_module": "@jupyter-widgets/base",
            "_model_module_version": "1.2.0",
            "_model_name": "LayoutModel",
            "_view_count": null,
            "_view_module": "@jupyter-widgets/base",
            "_view_module_version": "1.2.0",
            "_view_name": "LayoutView",
            "align_content": null,
            "align_items": null,
            "align_self": null,
            "border": null,
            "bottom": null,
            "display": null,
            "flex": null,
            "flex_flow": null,
            "grid_area": null,
            "grid_auto_columns": null,
            "grid_auto_flow": null,
            "grid_auto_rows": null,
            "grid_column": null,
            "grid_gap": null,
            "grid_row": null,
            "grid_template_areas": null,
            "grid_template_columns": null,
            "grid_template_rows": null,
            "height": null,
            "justify_content": null,
            "justify_items": null,
            "left": null,
            "margin": null,
            "max_height": null,
            "max_width": null,
            "min_height": null,
            "min_width": null,
            "object_fit": null,
            "object_position": null,
            "order": null,
            "overflow": null,
            "overflow_x": null,
            "overflow_y": null,
            "padding": null,
            "right": null,
            "top": null,
            "visibility": null,
            "width": null
          }
        },
        "5392fe38ed434ef1af9b2e111712e44b": {
          "model_module": "@jupyter-widgets/controls",
          "model_module_version": "1.5.0",
          "model_name": "DescriptionStyleModel",
          "state": {
            "_model_module": "@jupyter-widgets/controls",
            "_model_module_version": "1.5.0",
            "_model_name": "DescriptionStyleModel",
            "_view_count": null,
            "_view_module": "@jupyter-widgets/base",
            "_view_module_version": "1.2.0",
            "_view_name": "StyleView",
            "description_width": ""
          }
        },
        "5519580a5f834af997a38118bc763508": {
          "model_module": "@jupyter-widgets/base",
          "model_module_version": "1.2.0",
          "model_name": "LayoutModel",
          "state": {
            "_model_module": "@jupyter-widgets/base",
            "_model_module_version": "1.2.0",
            "_model_name": "LayoutModel",
            "_view_count": null,
            "_view_module": "@jupyter-widgets/base",
            "_view_module_version": "1.2.0",
            "_view_name": "LayoutView",
            "align_content": null,
            "align_items": null,
            "align_self": null,
            "border": null,
            "bottom": null,
            "display": null,
            "flex": null,
            "flex_flow": null,
            "grid_area": null,
            "grid_auto_columns": null,
            "grid_auto_flow": null,
            "grid_auto_rows": null,
            "grid_column": null,
            "grid_gap": null,
            "grid_row": null,
            "grid_template_areas": null,
            "grid_template_columns": null,
            "grid_template_rows": null,
            "height": null,
            "justify_content": null,
            "justify_items": null,
            "left": null,
            "margin": null,
            "max_height": null,
            "max_width": null,
            "min_height": null,
            "min_width": null,
            "object_fit": null,
            "object_position": null,
            "order": null,
            "overflow": null,
            "overflow_x": null,
            "overflow_y": null,
            "padding": null,
            "right": null,
            "top": null,
            "visibility": null,
            "width": null
          }
        },
        "573344803d99494c922d8f6bbb402e38": {
          "model_module": "@jupyter-widgets/controls",
          "model_module_version": "1.5.0",
          "model_name": "FloatProgressModel",
          "state": {
            "_dom_classes": [],
            "_model_module": "@jupyter-widgets/controls",
            "_model_module_version": "1.5.0",
            "_model_name": "FloatProgressModel",
            "_view_count": null,
            "_view_module": "@jupyter-widgets/controls",
            "_view_module_version": "1.5.0",
            "_view_name": "ProgressView",
            "bar_style": "success",
            "description": "Downloading: 100%",
            "description_tooltip": null,
            "layout": "IPY_MODEL_be3e087c3dc944759d71b1dd1aa28ab4",
            "max": 1112,
            "min": 0,
            "orientation": "horizontal",
            "style": "IPY_MODEL_6a1704465a014aa399de7077aee3fa9a",
            "value": 1112
          }
        },
        "57a2703557da44c288b6d420965b581d": {
          "model_module": "@jupyter-widgets/controls",
          "model_module_version": "1.5.0",
          "model_name": "FloatProgressModel",
          "state": {
            "_dom_classes": [],
            "_model_module": "@jupyter-widgets/controls",
            "_model_module_version": "1.5.0",
            "_model_name": "FloatProgressModel",
            "_view_count": null,
            "_view_module": "@jupyter-widgets/controls",
            "_view_module_version": "1.5.0",
            "_view_name": "ProgressView",
            "bar_style": "success",
            "description": "Downloading: 100%",
            "description_tooltip": null,
            "layout": "IPY_MODEL_074bb6c72da7479a8ecddd1d055d1dfa",
            "max": 789795,
            "min": 0,
            "orientation": "horizontal",
            "style": "IPY_MODEL_60ffde49979748f984513110c8d23e0e",
            "value": 789795
          }
        },
        "5a53a3b51c864dd1a24898d43825447a": {
          "model_module": "@jupyter-widgets/base",
          "model_module_version": "1.2.0",
          "model_name": "LayoutModel",
          "state": {
            "_model_module": "@jupyter-widgets/base",
            "_model_module_version": "1.2.0",
            "_model_name": "LayoutModel",
            "_view_count": null,
            "_view_module": "@jupyter-widgets/base",
            "_view_module_version": "1.2.0",
            "_view_name": "LayoutView",
            "align_content": null,
            "align_items": null,
            "align_self": null,
            "border": null,
            "bottom": null,
            "display": null,
            "flex": null,
            "flex_flow": null,
            "grid_area": null,
            "grid_auto_columns": null,
            "grid_auto_flow": null,
            "grid_auto_rows": null,
            "grid_column": null,
            "grid_gap": null,
            "grid_row": null,
            "grid_template_areas": null,
            "grid_template_columns": null,
            "grid_template_rows": null,
            "height": null,
            "justify_content": null,
            "justify_items": null,
            "left": null,
            "margin": null,
            "max_height": null,
            "max_width": null,
            "min_height": null,
            "min_width": null,
            "object_fit": null,
            "object_position": null,
            "order": null,
            "overflow": null,
            "overflow_x": null,
            "overflow_y": null,
            "padding": null,
            "right": null,
            "top": null,
            "visibility": null,
            "width": null
          }
        },
        "5b94a8dbd5a54b4785b6cf40474bf7eb": {
          "model_module": "@jupyter-widgets/controls",
          "model_module_version": "1.5.0",
          "model_name": "DescriptionStyleModel",
          "state": {
            "_model_module": "@jupyter-widgets/controls",
            "_model_module_version": "1.5.0",
            "_model_name": "DescriptionStyleModel",
            "_view_count": null,
            "_view_module": "@jupyter-widgets/base",
            "_view_module_version": "1.2.0",
            "_view_name": "StyleView",
            "description_width": ""
          }
        },
        "5c66bc2c3c2a4ed1ab6dbd3620128aea": {
          "model_module": "@jupyter-widgets/controls",
          "model_module_version": "1.5.0",
          "model_name": "DescriptionStyleModel",
          "state": {
            "_model_module": "@jupyter-widgets/controls",
            "_model_module_version": "1.5.0",
            "_model_name": "DescriptionStyleModel",
            "_view_count": null,
            "_view_module": "@jupyter-widgets/base",
            "_view_module_version": "1.2.0",
            "_view_name": "StyleView",
            "description_width": ""
          }
        },
        "5ee0a8e3c7904a89b66dc6474d8bba4e": {
          "model_module": "@jupyter-widgets/base",
          "model_module_version": "1.2.0",
          "model_name": "LayoutModel",
          "state": {
            "_model_module": "@jupyter-widgets/base",
            "_model_module_version": "1.2.0",
            "_model_name": "LayoutModel",
            "_view_count": null,
            "_view_module": "@jupyter-widgets/base",
            "_view_module_version": "1.2.0",
            "_view_name": "LayoutView",
            "align_content": null,
            "align_items": null,
            "align_self": null,
            "border": null,
            "bottom": null,
            "display": null,
            "flex": null,
            "flex_flow": null,
            "grid_area": null,
            "grid_auto_columns": null,
            "grid_auto_flow": null,
            "grid_auto_rows": null,
            "grid_column": null,
            "grid_gap": null,
            "grid_row": null,
            "grid_template_areas": null,
            "grid_template_columns": null,
            "grid_template_rows": null,
            "height": null,
            "justify_content": null,
            "justify_items": null,
            "left": null,
            "margin": null,
            "max_height": null,
            "max_width": null,
            "min_height": null,
            "min_width": null,
            "object_fit": null,
            "object_position": null,
            "order": null,
            "overflow": null,
            "overflow_x": null,
            "overflow_y": null,
            "padding": null,
            "right": null,
            "top": null,
            "visibility": null,
            "width": null
          }
        },
        "5ffe9e7d9d4c4fe79677b222b9d7bc4b": {
          "model_module": "@jupyter-widgets/base",
          "model_module_version": "1.2.0",
          "model_name": "LayoutModel",
          "state": {
            "_model_module": "@jupyter-widgets/base",
            "_model_module_version": "1.2.0",
            "_model_name": "LayoutModel",
            "_view_count": null,
            "_view_module": "@jupyter-widgets/base",
            "_view_module_version": "1.2.0",
            "_view_name": "LayoutView",
            "align_content": null,
            "align_items": null,
            "align_self": null,
            "border": null,
            "bottom": null,
            "display": null,
            "flex": null,
            "flex_flow": null,
            "grid_area": null,
            "grid_auto_columns": null,
            "grid_auto_flow": null,
            "grid_auto_rows": null,
            "grid_column": null,
            "grid_gap": null,
            "grid_row": null,
            "grid_template_areas": null,
            "grid_template_columns": null,
            "grid_template_rows": null,
            "height": null,
            "justify_content": null,
            "justify_items": null,
            "left": null,
            "margin": null,
            "max_height": null,
            "max_width": null,
            "min_height": null,
            "min_width": null,
            "object_fit": null,
            "object_position": null,
            "order": null,
            "overflow": null,
            "overflow_x": null,
            "overflow_y": null,
            "padding": null,
            "right": null,
            "top": null,
            "visibility": null,
            "width": null
          }
        },
        "60ffde49979748f984513110c8d23e0e": {
          "model_module": "@jupyter-widgets/controls",
          "model_module_version": "1.5.0",
          "model_name": "ProgressStyleModel",
          "state": {
            "_model_module": "@jupyter-widgets/controls",
            "_model_module_version": "1.5.0",
            "_model_name": "ProgressStyleModel",
            "_view_count": null,
            "_view_module": "@jupyter-widgets/base",
            "_view_module_version": "1.2.0",
            "_view_name": "StyleView",
            "bar_color": null,
            "description_width": "initial"
          }
        },
        "6a1704465a014aa399de7077aee3fa9a": {
          "model_module": "@jupyter-widgets/controls",
          "model_module_version": "1.5.0",
          "model_name": "ProgressStyleModel",
          "state": {
            "_model_module": "@jupyter-widgets/controls",
            "_model_module_version": "1.5.0",
            "_model_name": "ProgressStyleModel",
            "_view_count": null,
            "_view_module": "@jupyter-widgets/base",
            "_view_module_version": "1.2.0",
            "_view_name": "StyleView",
            "bar_color": null,
            "description_width": "initial"
          }
        },
        "6a4f08caf1bf479d8d61510e7a10a212": {
          "model_module": "@jupyter-widgets/controls",
          "model_module_version": "1.5.0",
          "model_name": "FloatProgressModel",
          "state": {
            "_dom_classes": [],
            "_model_module": "@jupyter-widgets/controls",
            "_model_module_version": "1.5.0",
            "_model_name": "FloatProgressModel",
            "_view_count": null,
            "_view_module": "@jupyter-widgets/controls",
            "_view_module_version": "1.5.0",
            "_view_name": "ProgressView",
            "bar_style": "success",
            "description": "Downloading: 100%",
            "description_tooltip": null,
            "layout": "IPY_MODEL_5ffe9e7d9d4c4fe79677b222b9d7bc4b",
            "max": 44,
            "min": 0,
            "orientation": "horizontal",
            "style": "IPY_MODEL_abc2f200da7b4ecf9bdf43ddcd297743",
            "value": 44
          }
        },
        "6cbf65faa852430796eff2241666f550": {
          "model_module": "@jupyter-widgets/base",
          "model_module_version": "1.2.0",
          "model_name": "LayoutModel",
          "state": {
            "_model_module": "@jupyter-widgets/base",
            "_model_module_version": "1.2.0",
            "_model_name": "LayoutModel",
            "_view_count": null,
            "_view_module": "@jupyter-widgets/base",
            "_view_module_version": "1.2.0",
            "_view_name": "LayoutView",
            "align_content": null,
            "align_items": null,
            "align_self": null,
            "border": null,
            "bottom": null,
            "display": null,
            "flex": null,
            "flex_flow": null,
            "grid_area": null,
            "grid_auto_columns": null,
            "grid_auto_flow": null,
            "grid_auto_rows": null,
            "grid_column": null,
            "grid_gap": null,
            "grid_row": null,
            "grid_template_areas": null,
            "grid_template_columns": null,
            "grid_template_rows": null,
            "height": null,
            "justify_content": null,
            "justify_items": null,
            "left": null,
            "margin": null,
            "max_height": null,
            "max_width": null,
            "min_height": null,
            "min_width": null,
            "object_fit": null,
            "object_position": null,
            "order": null,
            "overflow": null,
            "overflow_x": null,
            "overflow_y": null,
            "padding": null,
            "right": null,
            "top": null,
            "visibility": null,
            "width": null
          }
        },
        "6d16cf38be98498e84fc741676162811": {
          "model_module": "@jupyter-widgets/base",
          "model_module_version": "1.2.0",
          "model_name": "LayoutModel",
          "state": {
            "_model_module": "@jupyter-widgets/base",
            "_model_module_version": "1.2.0",
            "_model_name": "LayoutModel",
            "_view_count": null,
            "_view_module": "@jupyter-widgets/base",
            "_view_module_version": "1.2.0",
            "_view_name": "LayoutView",
            "align_content": null,
            "align_items": null,
            "align_self": null,
            "border": null,
            "bottom": null,
            "display": null,
            "flex": null,
            "flex_flow": null,
            "grid_area": null,
            "grid_auto_columns": null,
            "grid_auto_flow": null,
            "grid_auto_rows": null,
            "grid_column": null,
            "grid_gap": null,
            "grid_row": null,
            "grid_template_areas": null,
            "grid_template_columns": null,
            "grid_template_rows": null,
            "height": null,
            "justify_content": null,
            "justify_items": null,
            "left": null,
            "margin": null,
            "max_height": null,
            "max_width": null,
            "min_height": null,
            "min_width": null,
            "object_fit": null,
            "object_position": null,
            "order": null,
            "overflow": null,
            "overflow_x": null,
            "overflow_y": null,
            "padding": null,
            "right": null,
            "top": null,
            "visibility": null,
            "width": null
          }
        },
        "6e23c0de2ced4b40a9aa665bc5cc27b5": {
          "model_module": "@jupyter-widgets/controls",
          "model_module_version": "1.5.0",
          "model_name": "HBoxModel",
          "state": {
            "_dom_classes": [],
            "_model_module": "@jupyter-widgets/controls",
            "_model_module_version": "1.5.0",
            "_model_name": "HBoxModel",
            "_view_count": null,
            "_view_module": "@jupyter-widgets/controls",
            "_view_module_version": "1.5.0",
            "_view_name": "HBoxView",
            "box_style": "",
            "children": [
              "IPY_MODEL_bd5c82769b4a493a995d4ecf0a78e673",
              "IPY_MODEL_a62ee92322bb427eb68e2b76db0dab84"
            ],
            "layout": "IPY_MODEL_5519580a5f834af997a38118bc763508"
          }
        },
        "6e882a02abbb4f2da662a53b5b3e3f3b": {
          "model_module": "@jupyter-widgets/base",
          "model_module_version": "1.2.0",
          "model_name": "LayoutModel",
          "state": {
            "_model_module": "@jupyter-widgets/base",
            "_model_module_version": "1.2.0",
            "_model_name": "LayoutModel",
            "_view_count": null,
            "_view_module": "@jupyter-widgets/base",
            "_view_module_version": "1.2.0",
            "_view_name": "LayoutView",
            "align_content": null,
            "align_items": null,
            "align_self": null,
            "border": null,
            "bottom": null,
            "display": null,
            "flex": null,
            "flex_flow": null,
            "grid_area": null,
            "grid_auto_columns": null,
            "grid_auto_flow": null,
            "grid_auto_rows": null,
            "grid_column": null,
            "grid_gap": null,
            "grid_row": null,
            "grid_template_areas": null,
            "grid_template_columns": null,
            "grid_template_rows": null,
            "height": null,
            "justify_content": null,
            "justify_items": null,
            "left": null,
            "margin": null,
            "max_height": null,
            "max_width": null,
            "min_height": null,
            "min_width": null,
            "object_fit": null,
            "object_position": null,
            "order": null,
            "overflow": null,
            "overflow_x": null,
            "overflow_y": null,
            "padding": null,
            "right": null,
            "top": null,
            "visibility": null,
            "width": null
          }
        },
        "6fb48d2e75744c1197bd5b31d8a275eb": {
          "model_module": "@jupyter-widgets/base",
          "model_module_version": "1.2.0",
          "model_name": "LayoutModel",
          "state": {
            "_model_module": "@jupyter-widgets/base",
            "_model_module_version": "1.2.0",
            "_model_name": "LayoutModel",
            "_view_count": null,
            "_view_module": "@jupyter-widgets/base",
            "_view_module_version": "1.2.0",
            "_view_name": "LayoutView",
            "align_content": null,
            "align_items": null,
            "align_self": null,
            "border": null,
            "bottom": null,
            "display": null,
            "flex": null,
            "flex_flow": null,
            "grid_area": null,
            "grid_auto_columns": null,
            "grid_auto_flow": null,
            "grid_auto_rows": null,
            "grid_column": null,
            "grid_gap": null,
            "grid_row": null,
            "grid_template_areas": null,
            "grid_template_columns": null,
            "grid_template_rows": null,
            "height": null,
            "justify_content": null,
            "justify_items": null,
            "left": null,
            "margin": null,
            "max_height": null,
            "max_width": null,
            "min_height": null,
            "min_width": null,
            "object_fit": null,
            "object_position": null,
            "order": null,
            "overflow": null,
            "overflow_x": null,
            "overflow_y": null,
            "padding": null,
            "right": null,
            "top": null,
            "visibility": null,
            "width": null
          }
        },
        "77a35888130847bdb76a34370a8a99b2": {
          "model_module": "@jupyter-widgets/controls",
          "model_module_version": "1.5.0",
          "model_name": "HTMLModel",
          "state": {
            "_dom_classes": [],
            "_model_module": "@jupyter-widgets/controls",
            "_model_module_version": "1.5.0",
            "_model_name": "HTMLModel",
            "_view_count": null,
            "_view_module": "@jupyter-widgets/controls",
            "_view_module_version": "1.5.0",
            "_view_name": "HTMLView",
            "description": "",
            "description_tooltip": null,
            "layout": "IPY_MODEL_da7748cb985d41f98b5df5958434ea09",
            "placeholder": "​",
            "style": "IPY_MODEL_30b8988bdcfe4de1bfca2e74c356d42d",
            "value": " 842k/842k [00:01&lt;00:00, 467kB/s]"
          }
        },
        "78b942bf47c045538a734283da31c65d": {
          "model_module": "@jupyter-widgets/controls",
          "model_module_version": "1.5.0",
          "model_name": "HTMLModel",
          "state": {
            "_dom_classes": [],
            "_model_module": "@jupyter-widgets/controls",
            "_model_module_version": "1.5.0",
            "_model_name": "HTMLModel",
            "_view_count": null,
            "_view_module": "@jupyter-widgets/controls",
            "_view_module_version": "1.5.0",
            "_view_name": "HTMLView",
            "description": "",
            "description_tooltip": null,
            "layout": "IPY_MODEL_af514124c87a435097f2caea011d2a4b",
            "placeholder": "​",
            "style": "IPY_MODEL_3a4fd000bc824bbf8c235f14852ec4d7",
            "value": " 42.0/42.0 [00:02&lt;00:00, 15.4B/s]"
          }
        },
        "7bc5dfb648274f5b83a3b378c3834c87": {
          "model_module": "@jupyter-widgets/base",
          "model_module_version": "1.2.0",
          "model_name": "LayoutModel",
          "state": {
            "_model_module": "@jupyter-widgets/base",
            "_model_module_version": "1.2.0",
            "_model_name": "LayoutModel",
            "_view_count": null,
            "_view_module": "@jupyter-widgets/base",
            "_view_module_version": "1.2.0",
            "_view_name": "LayoutView",
            "align_content": null,
            "align_items": null,
            "align_self": null,
            "border": null,
            "bottom": null,
            "display": null,
            "flex": null,
            "flex_flow": null,
            "grid_area": null,
            "grid_auto_columns": null,
            "grid_auto_flow": null,
            "grid_auto_rows": null,
            "grid_column": null,
            "grid_gap": null,
            "grid_row": null,
            "grid_template_areas": null,
            "grid_template_columns": null,
            "grid_template_rows": null,
            "height": null,
            "justify_content": null,
            "justify_items": null,
            "left": null,
            "margin": null,
            "max_height": null,
            "max_width": null,
            "min_height": null,
            "min_width": null,
            "object_fit": null,
            "object_position": null,
            "order": null,
            "overflow": null,
            "overflow_x": null,
            "overflow_y": null,
            "padding": null,
            "right": null,
            "top": null,
            "visibility": null,
            "width": null
          }
        },
        "7e467efe2d37485a903f1d0d53ce4f8c": {
          "model_module": "@jupyter-widgets/base",
          "model_module_version": "1.2.0",
          "model_name": "LayoutModel",
          "state": {
            "_model_module": "@jupyter-widgets/base",
            "_model_module_version": "1.2.0",
            "_model_name": "LayoutModel",
            "_view_count": null,
            "_view_module": "@jupyter-widgets/base",
            "_view_module_version": "1.2.0",
            "_view_name": "LayoutView",
            "align_content": null,
            "align_items": null,
            "align_self": null,
            "border": null,
            "bottom": null,
            "display": null,
            "flex": null,
            "flex_flow": null,
            "grid_area": null,
            "grid_auto_columns": null,
            "grid_auto_flow": null,
            "grid_auto_rows": null,
            "grid_column": null,
            "grid_gap": null,
            "grid_row": null,
            "grid_template_areas": null,
            "grid_template_columns": null,
            "grid_template_rows": null,
            "height": null,
            "justify_content": null,
            "justify_items": null,
            "left": null,
            "margin": null,
            "max_height": null,
            "max_width": null,
            "min_height": null,
            "min_width": null,
            "object_fit": null,
            "object_position": null,
            "order": null,
            "overflow": null,
            "overflow_x": null,
            "overflow_y": null,
            "padding": null,
            "right": null,
            "top": null,
            "visibility": null,
            "width": null
          }
        },
        "7ff4c081302d4f778d196b110dbb94fa": {
          "model_module": "@jupyter-widgets/controls",
          "model_module_version": "1.5.0",
          "model_name": "DescriptionStyleModel",
          "state": {
            "_model_module": "@jupyter-widgets/controls",
            "_model_module_version": "1.5.0",
            "_model_name": "DescriptionStyleModel",
            "_view_count": null,
            "_view_module": "@jupyter-widgets/base",
            "_view_module_version": "1.2.0",
            "_view_name": "StyleView",
            "description_width": ""
          }
        },
        "81f3f892f73d4f128f6ec85e60ece47b": {
          "model_module": "@jupyter-widgets/controls",
          "model_module_version": "1.5.0",
          "model_name": "ProgressStyleModel",
          "state": {
            "_model_module": "@jupyter-widgets/controls",
            "_model_module_version": "1.5.0",
            "_model_name": "ProgressStyleModel",
            "_view_count": null,
            "_view_module": "@jupyter-widgets/base",
            "_view_module_version": "1.2.0",
            "_view_name": "StyleView",
            "bar_color": null,
            "description_width": "initial"
          }
        },
        "825fffa4e4464e67ab1e629733a978f8": {
          "model_module": "@jupyter-widgets/base",
          "model_module_version": "1.2.0",
          "model_name": "LayoutModel",
          "state": {
            "_model_module": "@jupyter-widgets/base",
            "_model_module_version": "1.2.0",
            "_model_name": "LayoutModel",
            "_view_count": null,
            "_view_module": "@jupyter-widgets/base",
            "_view_module_version": "1.2.0",
            "_view_name": "LayoutView",
            "align_content": null,
            "align_items": null,
            "align_self": null,
            "border": null,
            "bottom": null,
            "display": null,
            "flex": null,
            "flex_flow": null,
            "grid_area": null,
            "grid_auto_columns": null,
            "grid_auto_flow": null,
            "grid_auto_rows": null,
            "grid_column": null,
            "grid_gap": null,
            "grid_row": null,
            "grid_template_areas": null,
            "grid_template_columns": null,
            "grid_template_rows": null,
            "height": null,
            "justify_content": null,
            "justify_items": null,
            "left": null,
            "margin": null,
            "max_height": null,
            "max_width": null,
            "min_height": null,
            "min_width": null,
            "object_fit": null,
            "object_position": null,
            "order": null,
            "overflow": null,
            "overflow_x": null,
            "overflow_y": null,
            "padding": null,
            "right": null,
            "top": null,
            "visibility": null,
            "width": null
          }
        },
        "8a52d5a4372b4e108d7f3bd7dac812c7": {
          "model_module": "@jupyter-widgets/base",
          "model_module_version": "1.2.0",
          "model_name": "LayoutModel",
          "state": {
            "_model_module": "@jupyter-widgets/base",
            "_model_module_version": "1.2.0",
            "_model_name": "LayoutModel",
            "_view_count": null,
            "_view_module": "@jupyter-widgets/base",
            "_view_module_version": "1.2.0",
            "_view_name": "LayoutView",
            "align_content": null,
            "align_items": null,
            "align_self": null,
            "border": null,
            "bottom": null,
            "display": null,
            "flex": null,
            "flex_flow": null,
            "grid_area": null,
            "grid_auto_columns": null,
            "grid_auto_flow": null,
            "grid_auto_rows": null,
            "grid_column": null,
            "grid_gap": null,
            "grid_row": null,
            "grid_template_areas": null,
            "grid_template_columns": null,
            "grid_template_rows": null,
            "height": null,
            "justify_content": null,
            "justify_items": null,
            "left": null,
            "margin": null,
            "max_height": null,
            "max_width": null,
            "min_height": null,
            "min_width": null,
            "object_fit": null,
            "object_position": null,
            "order": null,
            "overflow": null,
            "overflow_x": null,
            "overflow_y": null,
            "padding": null,
            "right": null,
            "top": null,
            "visibility": null,
            "width": null
          }
        },
        "8a84976a62184f23a3ed22d41096d78c": {
          "model_module": "@jupyter-widgets/controls",
          "model_module_version": "1.5.0",
          "model_name": "HBoxModel",
          "state": {
            "_dom_classes": [],
            "_model_module": "@jupyter-widgets/controls",
            "_model_module_version": "1.5.0",
            "_model_name": "HBoxModel",
            "_view_count": null,
            "_view_module": "@jupyter-widgets/controls",
            "_view_module_version": "1.5.0",
            "_view_name": "HBoxView",
            "box_style": "",
            "children": [
              "IPY_MODEL_9b1f954551aa4528a0dec3fd04d54d37",
              "IPY_MODEL_dcd14523840242e4b03aa746b8d1b17e"
            ],
            "layout": "IPY_MODEL_da7ba8bc417e45f2a538a6c792322f7c"
          }
        },
        "8becf7cce0274e63821bb0d870f96506": {
          "model_module": "@jupyter-widgets/base",
          "model_module_version": "1.2.0",
          "model_name": "LayoutModel",
          "state": {
            "_model_module": "@jupyter-widgets/base",
            "_model_module_version": "1.2.0",
            "_model_name": "LayoutModel",
            "_view_count": null,
            "_view_module": "@jupyter-widgets/base",
            "_view_module_version": "1.2.0",
            "_view_name": "LayoutView",
            "align_content": null,
            "align_items": null,
            "align_self": null,
            "border": null,
            "bottom": null,
            "display": null,
            "flex": null,
            "flex_flow": null,
            "grid_area": null,
            "grid_auto_columns": null,
            "grid_auto_flow": null,
            "grid_auto_rows": null,
            "grid_column": null,
            "grid_gap": null,
            "grid_row": null,
            "grid_template_areas": null,
            "grid_template_columns": null,
            "grid_template_rows": null,
            "height": null,
            "justify_content": null,
            "justify_items": null,
            "left": null,
            "margin": null,
            "max_height": null,
            "max_width": null,
            "min_height": null,
            "min_width": null,
            "object_fit": null,
            "object_position": null,
            "order": null,
            "overflow": null,
            "overflow_x": null,
            "overflow_y": null,
            "padding": null,
            "right": null,
            "top": null,
            "visibility": null,
            "width": null
          }
        },
        "8da50f5d74dd4b9c8f8d86f98dc30209": {
          "model_module": "@jupyter-widgets/controls",
          "model_module_version": "1.5.0",
          "model_name": "HBoxModel",
          "state": {
            "_dom_classes": [],
            "_model_module": "@jupyter-widgets/controls",
            "_model_module_version": "1.5.0",
            "_model_name": "HBoxModel",
            "_view_count": null,
            "_view_module": "@jupyter-widgets/controls",
            "_view_module_version": "1.5.0",
            "_view_name": "HBoxView",
            "box_style": "",
            "children": [
              "IPY_MODEL_ed99a1f81ba744fbabe591ee2194d92d",
              "IPY_MODEL_2cc5e0474c5b4125a94921b12413dbc7"
            ],
            "layout": "IPY_MODEL_8becf7cce0274e63821bb0d870f96506"
          }
        },
        "8df3e5e54fee4d1ba49c489e4267fa5d": {
          "model_module": "@jupyter-widgets/controls",
          "model_module_version": "1.5.0",
          "model_name": "ProgressStyleModel",
          "state": {
            "_model_module": "@jupyter-widgets/controls",
            "_model_module_version": "1.5.0",
            "_model_name": "ProgressStyleModel",
            "_view_count": null,
            "_view_module": "@jupyter-widgets/base",
            "_view_module_version": "1.2.0",
            "_view_name": "StyleView",
            "bar_color": null,
            "description_width": "initial"
          }
        },
        "95e3af2a25ec4f9da139fad47539d40b": {
          "model_module": "@jupyter-widgets/controls",
          "model_module_version": "1.5.0",
          "model_name": "HBoxModel",
          "state": {
            "_dom_classes": [],
            "_model_module": "@jupyter-widgets/controls",
            "_model_module_version": "1.5.0",
            "_model_name": "HBoxModel",
            "_view_count": null,
            "_view_module": "@jupyter-widgets/controls",
            "_view_module_version": "1.5.0",
            "_view_name": "HBoxView",
            "box_style": "",
            "children": [
              "IPY_MODEL_6a4f08caf1bf479d8d61510e7a10a212",
              "IPY_MODEL_ae74f86e547f4112a8daf438e466d10f"
            ],
            "layout": "IPY_MODEL_6cbf65faa852430796eff2241666f550"
          }
        },
        "9b1f954551aa4528a0dec3fd04d54d37": {
          "model_module": "@jupyter-widgets/controls",
          "model_module_version": "1.5.0",
          "model_name": "FloatProgressModel",
          "state": {
            "_dom_classes": [],
            "_model_module": "@jupyter-widgets/controls",
            "_model_module_version": "1.5.0",
            "_model_name": "FloatProgressModel",
            "_view_count": null,
            "_view_module": "@jupyter-widgets/controls",
            "_view_module_version": "1.5.0",
            "_view_name": "ProgressView",
            "bar_style": "success",
            "description": "Downloading: 100%",
            "description_tooltip": null,
            "layout": "IPY_MODEL_5ee0a8e3c7904a89b66dc6474d8bba4e",
            "max": 1377921,
            "min": 0,
            "orientation": "horizontal",
            "style": "IPY_MODEL_10a129f507fc4f9090752b70599a32f2",
            "value": 1377921
          }
        },
        "9e73b0d2acf84b19adb22420f2be5a30": {
          "model_module": "@jupyter-widgets/base",
          "model_module_version": "1.2.0",
          "model_name": "LayoutModel",
          "state": {
            "_model_module": "@jupyter-widgets/base",
            "_model_module_version": "1.2.0",
            "_model_name": "LayoutModel",
            "_view_count": null,
            "_view_module": "@jupyter-widgets/base",
            "_view_module_version": "1.2.0",
            "_view_name": "LayoutView",
            "align_content": null,
            "align_items": null,
            "align_self": null,
            "border": null,
            "bottom": null,
            "display": null,
            "flex": null,
            "flex_flow": null,
            "grid_area": null,
            "grid_auto_columns": null,
            "grid_auto_flow": null,
            "grid_auto_rows": null,
            "grid_column": null,
            "grid_gap": null,
            "grid_row": null,
            "grid_template_areas": null,
            "grid_template_columns": null,
            "grid_template_rows": null,
            "height": null,
            "justify_content": null,
            "justify_items": null,
            "left": null,
            "margin": null,
            "max_height": null,
            "max_width": null,
            "min_height": null,
            "min_width": null,
            "object_fit": null,
            "object_position": null,
            "order": null,
            "overflow": null,
            "overflow_x": null,
            "overflow_y": null,
            "padding": null,
            "right": null,
            "top": null,
            "visibility": null,
            "width": null
          }
        },
        "a0502c575f0a48ebbd6199622ddd1fe5": {
          "model_module": "@jupyter-widgets/controls",
          "model_module_version": "1.5.0",
          "model_name": "DescriptionStyleModel",
          "state": {
            "_model_module": "@jupyter-widgets/controls",
            "_model_module_version": "1.5.0",
            "_model_name": "DescriptionStyleModel",
            "_view_count": null,
            "_view_module": "@jupyter-widgets/base",
            "_view_module_version": "1.2.0",
            "_view_name": "StyleView",
            "description_width": ""
          }
        },
        "a0e5768359154d079264e373e40bd92d": {
          "model_module": "@jupyter-widgets/controls",
          "model_module_version": "1.5.0",
          "model_name": "HBoxModel",
          "state": {
            "_dom_classes": [],
            "_model_module": "@jupyter-widgets/controls",
            "_model_module_version": "1.5.0",
            "_model_name": "HBoxModel",
            "_view_count": null,
            "_view_module": "@jupyter-widgets/controls",
            "_view_module_version": "1.5.0",
            "_view_name": "HBoxView",
            "box_style": "",
            "children": [
              "IPY_MODEL_003e8db15bb7464eb55c7708d700a505",
              "IPY_MODEL_77a35888130847bdb76a34370a8a99b2"
            ],
            "layout": "IPY_MODEL_5a53a3b51c864dd1a24898d43825447a"
          }
        },
        "a36ca178df7f4637b5430b438bf05be7": {
          "model_module": "@jupyter-widgets/controls",
          "model_module_version": "1.5.0",
          "model_name": "ProgressStyleModel",
          "state": {
            "_model_module": "@jupyter-widgets/controls",
            "_model_module_version": "1.5.0",
            "_model_name": "ProgressStyleModel",
            "_view_count": null,
            "_view_module": "@jupyter-widgets/base",
            "_view_module_version": "1.2.0",
            "_view_name": "StyleView",
            "bar_color": null,
            "description_width": "initial"
          }
        },
        "a62ee92322bb427eb68e2b76db0dab84": {
          "model_module": "@jupyter-widgets/controls",
          "model_module_version": "1.5.0",
          "model_name": "HTMLModel",
          "state": {
            "_dom_classes": [],
            "_model_module": "@jupyter-widgets/controls",
            "_model_module_version": "1.5.0",
            "_model_name": "HTMLModel",
            "_view_count": null,
            "_view_module": "@jupyter-widgets/controls",
            "_view_module_version": "1.5.0",
            "_view_name": "HTMLView",
            "description": "",
            "description_tooltip": null,
            "layout": "IPY_MODEL_a837fea1e39b4303b267d9f65c980f34",
            "placeholder": "​",
            "style": "IPY_MODEL_178a07b7c0c6483cb1213c724e218094",
            "value": " 832k/832k [00:17&lt;00:00, 48.6kB/s]"
          }
        },
        "a837fea1e39b4303b267d9f65c980f34": {
          "model_module": "@jupyter-widgets/base",
          "model_module_version": "1.2.0",
          "model_name": "LayoutModel",
          "state": {
            "_model_module": "@jupyter-widgets/base",
            "_model_module_version": "1.2.0",
            "_model_name": "LayoutModel",
            "_view_count": null,
            "_view_module": "@jupyter-widgets/base",
            "_view_module_version": "1.2.0",
            "_view_name": "LayoutView",
            "align_content": null,
            "align_items": null,
            "align_self": null,
            "border": null,
            "bottom": null,
            "display": null,
            "flex": null,
            "flex_flow": null,
            "grid_area": null,
            "grid_auto_columns": null,
            "grid_auto_flow": null,
            "grid_auto_rows": null,
            "grid_column": null,
            "grid_gap": null,
            "grid_row": null,
            "grid_template_areas": null,
            "grid_template_columns": null,
            "grid_template_rows": null,
            "height": null,
            "justify_content": null,
            "justify_items": null,
            "left": null,
            "margin": null,
            "max_height": null,
            "max_width": null,
            "min_height": null,
            "min_width": null,
            "object_fit": null,
            "object_position": null,
            "order": null,
            "overflow": null,
            "overflow_x": null,
            "overflow_y": null,
            "padding": null,
            "right": null,
            "top": null,
            "visibility": null,
            "width": null
          }
        },
        "a91cb03156ae43ca8e4ba93fa2c03f99": {
          "model_module": "@jupyter-widgets/base",
          "model_module_version": "1.2.0",
          "model_name": "LayoutModel",
          "state": {
            "_model_module": "@jupyter-widgets/base",
            "_model_module_version": "1.2.0",
            "_model_name": "LayoutModel",
            "_view_count": null,
            "_view_module": "@jupyter-widgets/base",
            "_view_module_version": "1.2.0",
            "_view_name": "LayoutView",
            "align_content": null,
            "align_items": null,
            "align_self": null,
            "border": null,
            "bottom": null,
            "display": null,
            "flex": null,
            "flex_flow": null,
            "grid_area": null,
            "grid_auto_columns": null,
            "grid_auto_flow": null,
            "grid_auto_rows": null,
            "grid_column": null,
            "grid_gap": null,
            "grid_row": null,
            "grid_template_areas": null,
            "grid_template_columns": null,
            "grid_template_rows": null,
            "height": null,
            "justify_content": null,
            "justify_items": null,
            "left": null,
            "margin": null,
            "max_height": null,
            "max_width": null,
            "min_height": null,
            "min_width": null,
            "object_fit": null,
            "object_position": null,
            "order": null,
            "overflow": null,
            "overflow_x": null,
            "overflow_y": null,
            "padding": null,
            "right": null,
            "top": null,
            "visibility": null,
            "width": null
          }
        },
        "abc2f200da7b4ecf9bdf43ddcd297743": {
          "model_module": "@jupyter-widgets/controls",
          "model_module_version": "1.5.0",
          "model_name": "ProgressStyleModel",
          "state": {
            "_model_module": "@jupyter-widgets/controls",
            "_model_module_version": "1.5.0",
            "_model_name": "ProgressStyleModel",
            "_view_count": null,
            "_view_module": "@jupyter-widgets/base",
            "_view_module_version": "1.2.0",
            "_view_name": "StyleView",
            "bar_color": null,
            "description_width": "initial"
          }
        },
        "ae74f86e547f4112a8daf438e466d10f": {
          "model_module": "@jupyter-widgets/controls",
          "model_module_version": "1.5.0",
          "model_name": "HTMLModel",
          "state": {
            "_dom_classes": [],
            "_model_module": "@jupyter-widgets/controls",
            "_model_module_version": "1.5.0",
            "_model_name": "HTMLModel",
            "_view_count": null,
            "_view_module": "@jupyter-widgets/controls",
            "_view_module_version": "1.5.0",
            "_view_name": "HTMLView",
            "description": "",
            "description_tooltip": null,
            "layout": "IPY_MODEL_7bc5dfb648274f5b83a3b378c3834c87",
            "placeholder": "​",
            "style": "IPY_MODEL_5b94a8dbd5a54b4785b6cf40474bf7eb",
            "value": " 44.0/44.0 [00:13&lt;00:00, 3.20B/s]"
          }
        },
        "af514124c87a435097f2caea011d2a4b": {
          "model_module": "@jupyter-widgets/base",
          "model_module_version": "1.2.0",
          "model_name": "LayoutModel",
          "state": {
            "_model_module": "@jupyter-widgets/base",
            "_model_module_version": "1.2.0",
            "_model_name": "LayoutModel",
            "_view_count": null,
            "_view_module": "@jupyter-widgets/base",
            "_view_module_version": "1.2.0",
            "_view_name": "LayoutView",
            "align_content": null,
            "align_items": null,
            "align_self": null,
            "border": null,
            "bottom": null,
            "display": null,
            "flex": null,
            "flex_flow": null,
            "grid_area": null,
            "grid_auto_columns": null,
            "grid_auto_flow": null,
            "grid_auto_rows": null,
            "grid_column": null,
            "grid_gap": null,
            "grid_row": null,
            "grid_template_areas": null,
            "grid_template_columns": null,
            "grid_template_rows": null,
            "height": null,
            "justify_content": null,
            "justify_items": null,
            "left": null,
            "margin": null,
            "max_height": null,
            "max_width": null,
            "min_height": null,
            "min_width": null,
            "object_fit": null,
            "object_position": null,
            "order": null,
            "overflow": null,
            "overflow_x": null,
            "overflow_y": null,
            "padding": null,
            "right": null,
            "top": null,
            "visibility": null,
            "width": null
          }
        },
        "af75c05387c44fc9b8314dcfb84583de": {
          "model_module": "@jupyter-widgets/controls",
          "model_module_version": "1.5.0",
          "model_name": "HTMLModel",
          "state": {
            "_dom_classes": [],
            "_model_module": "@jupyter-widgets/controls",
            "_model_module_version": "1.5.0",
            "_model_name": "HTMLModel",
            "_view_count": null,
            "_view_module": "@jupyter-widgets/controls",
            "_view_module_version": "1.5.0",
            "_view_name": "HTMLView",
            "description": "",
            "description_tooltip": null,
            "layout": "IPY_MODEL_be452490a21448bdb4b04fe7a74186ec",
            "placeholder": "​",
            "style": "IPY_MODEL_7ff4c081302d4f778d196b110dbb94fa",
            "value": " 1.59M/1.59M [00:00&lt;00:00, 2.21MB/s]"
          }
        },
        "b0c1b7828eb140e494be58bc5f2be052": {
          "model_module": "@jupyter-widgets/controls",
          "model_module_version": "1.5.0",
          "model_name": "FloatProgressModel",
          "state": {
            "_dom_classes": [],
            "_model_module": "@jupyter-widgets/controls",
            "_model_module_version": "1.5.0",
            "_model_name": "FloatProgressModel",
            "_view_count": null,
            "_view_module": "@jupyter-widgets/controls",
            "_view_module_version": "1.5.0",
            "_view_name": "ProgressView",
            "bar_style": "success",
            "description": "Downloading: 100%",
            "description_tooltip": null,
            "layout": "IPY_MODEL_9e73b0d2acf84b19adb22420f2be5a30",
            "max": 312087523,
            "min": 0,
            "orientation": "horizontal",
            "style": "IPY_MODEL_003e381a65f044d9919f2d21c45fbb66",
            "value": 312087523
          }
        },
        "b87673332bc84cd9a3bf953ea51b12db": {
          "model_module": "@jupyter-widgets/controls",
          "model_module_version": "1.5.0",
          "model_name": "DescriptionStyleModel",
          "state": {
            "_model_module": "@jupyter-widgets/controls",
            "_model_module_version": "1.5.0",
            "_model_name": "DescriptionStyleModel",
            "_view_count": null,
            "_view_module": "@jupyter-widgets/base",
            "_view_module_version": "1.2.0",
            "_view_name": "StyleView",
            "description_width": ""
          }
        },
        "bc5b5e941b9548249becbd4128eb1b8e": {
          "model_module": "@jupyter-widgets/base",
          "model_module_version": "1.2.0",
          "model_name": "LayoutModel",
          "state": {
            "_model_module": "@jupyter-widgets/base",
            "_model_module_version": "1.2.0",
            "_model_name": "LayoutModel",
            "_view_count": null,
            "_view_module": "@jupyter-widgets/base",
            "_view_module_version": "1.2.0",
            "_view_name": "LayoutView",
            "align_content": null,
            "align_items": null,
            "align_self": null,
            "border": null,
            "bottom": null,
            "display": null,
            "flex": null,
            "flex_flow": null,
            "grid_area": null,
            "grid_auto_columns": null,
            "grid_auto_flow": null,
            "grid_auto_rows": null,
            "grid_column": null,
            "grid_gap": null,
            "grid_row": null,
            "grid_template_areas": null,
            "grid_template_columns": null,
            "grid_template_rows": null,
            "height": null,
            "justify_content": null,
            "justify_items": null,
            "left": null,
            "margin": null,
            "max_height": null,
            "max_width": null,
            "min_height": null,
            "min_width": null,
            "object_fit": null,
            "object_position": null,
            "order": null,
            "overflow": null,
            "overflow_x": null,
            "overflow_y": null,
            "padding": null,
            "right": null,
            "top": null,
            "visibility": null,
            "width": null
          }
        },
        "bd5c82769b4a493a995d4ecf0a78e673": {
          "model_module": "@jupyter-widgets/controls",
          "model_module_version": "1.5.0",
          "model_name": "FloatProgressModel",
          "state": {
            "_dom_classes": [],
            "_model_module": "@jupyter-widgets/controls",
            "_model_module_version": "1.5.0",
            "_model_name": "FloatProgressModel",
            "_view_count": null,
            "_view_module": "@jupyter-widgets/controls",
            "_view_module_version": "1.5.0",
            "_view_name": "ProgressView",
            "bar_style": "success",
            "description": "Downloading: 100%",
            "description_tooltip": null,
            "layout": "IPY_MODEL_50af01fcbc8e4550914bc3ad4512c963",
            "max": 831865,
            "min": 0,
            "orientation": "horizontal",
            "style": "IPY_MODEL_81f3f892f73d4f128f6ec85e60ece47b",
            "value": 831865
          }
        },
        "be03ead29510450f958ab6d33d564b45": {
          "model_module": "@jupyter-widgets/controls",
          "model_module_version": "1.5.0",
          "model_name": "FloatProgressModel",
          "state": {
            "_dom_classes": [],
            "_model_module": "@jupyter-widgets/controls",
            "_model_module_version": "1.5.0",
            "_model_name": "FloatProgressModel",
            "_view_count": null,
            "_view_module": "@jupyter-widgets/controls",
            "_view_module_version": "1.5.0",
            "_view_name": "ProgressView",
            "bar_style": "success",
            "description": "Downloading: 100%",
            "description_tooltip": null,
            "layout": "IPY_MODEL_0c88575665764f1c875f61d10565bb66",
            "max": 42,
            "min": 0,
            "orientation": "horizontal",
            "style": "IPY_MODEL_8df3e5e54fee4d1ba49c489e4267fa5d",
            "value": 42
          }
        },
        "be3e087c3dc944759d71b1dd1aa28ab4": {
          "model_module": "@jupyter-widgets/base",
          "model_module_version": "1.2.0",
          "model_name": "LayoutModel",
          "state": {
            "_model_module": "@jupyter-widgets/base",
            "_model_module_version": "1.2.0",
            "_model_name": "LayoutModel",
            "_view_count": null,
            "_view_module": "@jupyter-widgets/base",
            "_view_module_version": "1.2.0",
            "_view_name": "LayoutView",
            "align_content": null,
            "align_items": null,
            "align_self": null,
            "border": null,
            "bottom": null,
            "display": null,
            "flex": null,
            "flex_flow": null,
            "grid_area": null,
            "grid_auto_columns": null,
            "grid_auto_flow": null,
            "grid_auto_rows": null,
            "grid_column": null,
            "grid_gap": null,
            "grid_row": null,
            "grid_template_areas": null,
            "grid_template_columns": null,
            "grid_template_rows": null,
            "height": null,
            "justify_content": null,
            "justify_items": null,
            "left": null,
            "margin": null,
            "max_height": null,
            "max_width": null,
            "min_height": null,
            "min_width": null,
            "object_fit": null,
            "object_position": null,
            "order": null,
            "overflow": null,
            "overflow_x": null,
            "overflow_y": null,
            "padding": null,
            "right": null,
            "top": null,
            "visibility": null,
            "width": null
          }
        },
        "be452490a21448bdb4b04fe7a74186ec": {
          "model_module": "@jupyter-widgets/base",
          "model_module_version": "1.2.0",
          "model_name": "LayoutModel",
          "state": {
            "_model_module": "@jupyter-widgets/base",
            "_model_module_version": "1.2.0",
            "_model_name": "LayoutModel",
            "_view_count": null,
            "_view_module": "@jupyter-widgets/base",
            "_view_module_version": "1.2.0",
            "_view_name": "LayoutView",
            "align_content": null,
            "align_items": null,
            "align_self": null,
            "border": null,
            "bottom": null,
            "display": null,
            "flex": null,
            "flex_flow": null,
            "grid_area": null,
            "grid_auto_columns": null,
            "grid_auto_flow": null,
            "grid_auto_rows": null,
            "grid_column": null,
            "grid_gap": null,
            "grid_row": null,
            "grid_template_areas": null,
            "grid_template_columns": null,
            "grid_template_rows": null,
            "height": null,
            "justify_content": null,
            "justify_items": null,
            "left": null,
            "margin": null,
            "max_height": null,
            "max_width": null,
            "min_height": null,
            "min_width": null,
            "object_fit": null,
            "object_position": null,
            "order": null,
            "overflow": null,
            "overflow_x": null,
            "overflow_y": null,
            "padding": null,
            "right": null,
            "top": null,
            "visibility": null,
            "width": null
          }
        },
        "c310f958de964d279e80501536e41dfc": {
          "model_module": "@jupyter-widgets/controls",
          "model_module_version": "1.5.0",
          "model_name": "FloatProgressModel",
          "state": {
            "_dom_classes": [],
            "_model_module": "@jupyter-widgets/controls",
            "_model_module_version": "1.5.0",
            "_model_name": "FloatProgressModel",
            "_view_count": null,
            "_view_module": "@jupyter-widgets/controls",
            "_view_module_version": "1.5.0",
            "_view_name": "ProgressView",
            "bar_style": "success",
            "description": "Downloading: 100%",
            "description_tooltip": null,
            "layout": "IPY_MODEL_8a52d5a4372b4e108d7f3bd7dac812c7",
            "max": 1145,
            "min": 0,
            "orientation": "horizontal",
            "style": "IPY_MODEL_45bbce44ca644c478b396f1c8ba7486c",
            "value": 1145
          }
        },
        "c5d4ca7dace840b3ab35fb2a927300f6": {
          "model_module": "@jupyter-widgets/controls",
          "model_module_version": "1.5.0",
          "model_name": "FloatProgressModel",
          "state": {
            "_dom_classes": [],
            "_model_module": "@jupyter-widgets/controls",
            "_model_module_version": "1.5.0",
            "_model_name": "FloatProgressModel",
            "_view_count": null,
            "_view_module": "@jupyter-widgets/controls",
            "_view_module_version": "1.5.0",
            "_view_name": "ProgressView",
            "bar_style": "success",
            "description": "Downloading: 100%",
            "description_tooltip": null,
            "layout": "IPY_MODEL_0e2f666e971640f79b8f689db3c27376",
            "max": 1592256,
            "min": 0,
            "orientation": "horizontal",
            "style": "IPY_MODEL_2a85458a02c64e55b694d6d9ef6e943b",
            "value": 1592256
          }
        },
        "c738fdc6fdf94f9f9777786d7b8fc467": {
          "model_module": "@jupyter-widgets/controls",
          "model_module_version": "1.5.0",
          "model_name": "HBoxModel",
          "state": {
            "_dom_classes": [],
            "_model_module": "@jupyter-widgets/controls",
            "_model_module_version": "1.5.0",
            "_model_name": "HBoxModel",
            "_view_count": null,
            "_view_module": "@jupyter-widgets/controls",
            "_view_module_version": "1.5.0",
            "_view_name": "HBoxView",
            "box_style": "",
            "children": [
              "IPY_MODEL_57a2703557da44c288b6d420965b581d",
              "IPY_MODEL_324aa45f0e8d4124928e8dafc710ab37"
            ],
            "layout": "IPY_MODEL_12669c40d5144ada949f8dcaf41926ca"
          }
        },
        "c92fc06298b84e6bb391dac8d1696a74": {
          "model_module": "@jupyter-widgets/controls",
          "model_module_version": "1.5.0",
          "model_name": "DescriptionStyleModel",
          "state": {
            "_model_module": "@jupyter-widgets/controls",
            "_model_module_version": "1.5.0",
            "_model_name": "DescriptionStyleModel",
            "_view_count": null,
            "_view_module": "@jupyter-widgets/base",
            "_view_module_version": "1.2.0",
            "_view_name": "StyleView",
            "description_width": ""
          }
        },
        "cc57afe815bf48fdabd3f43ceb332f57": {
          "model_module": "@jupyter-widgets/controls",
          "model_module_version": "1.5.0",
          "model_name": "FloatProgressModel",
          "state": {
            "_dom_classes": [],
            "_model_module": "@jupyter-widgets/controls",
            "_model_module_version": "1.5.0",
            "_model_name": "FloatProgressModel",
            "_view_count": null,
            "_view_module": "@jupyter-widgets/controls",
            "_view_module_version": "1.5.0",
            "_view_name": "ProgressView",
            "bar_style": "success",
            "description": "Downloading: 100%",
            "description_tooltip": null,
            "layout": "IPY_MODEL_825fffa4e4464e67ab1e629733a978f8",
            "max": 301125225,
            "min": 0,
            "orientation": "horizontal",
            "style": "IPY_MODEL_a36ca178df7f4637b5430b438bf05be7",
            "value": 301125225
          }
        },
        "cd46deb55f454ffcbf5742dcbd7f9f48": {
          "model_module": "@jupyter-widgets/base",
          "model_module_version": "1.2.0",
          "model_name": "LayoutModel",
          "state": {
            "_model_module": "@jupyter-widgets/base",
            "_model_module_version": "1.2.0",
            "_model_name": "LayoutModel",
            "_view_count": null,
            "_view_module": "@jupyter-widgets/base",
            "_view_module_version": "1.2.0",
            "_view_name": "LayoutView",
            "align_content": null,
            "align_items": null,
            "align_self": null,
            "border": null,
            "bottom": null,
            "display": null,
            "flex": null,
            "flex_flow": null,
            "grid_area": null,
            "grid_auto_columns": null,
            "grid_auto_flow": null,
            "grid_auto_rows": null,
            "grid_column": null,
            "grid_gap": null,
            "grid_row": null,
            "grid_template_areas": null,
            "grid_template_columns": null,
            "grid_template_rows": null,
            "height": null,
            "justify_content": null,
            "justify_items": null,
            "left": null,
            "margin": null,
            "max_height": null,
            "max_width": null,
            "min_height": null,
            "min_width": null,
            "object_fit": null,
            "object_position": null,
            "order": null,
            "overflow": null,
            "overflow_x": null,
            "overflow_y": null,
            "padding": null,
            "right": null,
            "top": null,
            "visibility": null,
            "width": null
          }
        },
        "d867995a4fb941ddab99b38a9e5952b4": {
          "model_module": "@jupyter-widgets/controls",
          "model_module_version": "1.5.0",
          "model_name": "HTMLModel",
          "state": {
            "_dom_classes": [],
            "_model_module": "@jupyter-widgets/controls",
            "_model_module_version": "1.5.0",
            "_model_name": "HTMLModel",
            "_view_count": null,
            "_view_module": "@jupyter-widgets/controls",
            "_view_module_version": "1.5.0",
            "_view_name": "HTMLView",
            "description": "",
            "description_tooltip": null,
            "layout": "IPY_MODEL_e80d5818962e4840aef4447f44e3780d",
            "placeholder": "​",
            "style": "IPY_MODEL_5392fe38ed434ef1af9b2e111712e44b",
            "value": " 1.11k/1.11k [00:01&lt;00:00, 898B/s]"
          }
        },
        "da7748cb985d41f98b5df5958434ea09": {
          "model_module": "@jupyter-widgets/base",
          "model_module_version": "1.2.0",
          "model_name": "LayoutModel",
          "state": {
            "_model_module": "@jupyter-widgets/base",
            "_model_module_version": "1.2.0",
            "_model_name": "LayoutModel",
            "_view_count": null,
            "_view_module": "@jupyter-widgets/base",
            "_view_module_version": "1.2.0",
            "_view_name": "LayoutView",
            "align_content": null,
            "align_items": null,
            "align_self": null,
            "border": null,
            "bottom": null,
            "display": null,
            "flex": null,
            "flex_flow": null,
            "grid_area": null,
            "grid_auto_columns": null,
            "grid_auto_flow": null,
            "grid_auto_rows": null,
            "grid_column": null,
            "grid_gap": null,
            "grid_row": null,
            "grid_template_areas": null,
            "grid_template_columns": null,
            "grid_template_rows": null,
            "height": null,
            "justify_content": null,
            "justify_items": null,
            "left": null,
            "margin": null,
            "max_height": null,
            "max_width": null,
            "min_height": null,
            "min_width": null,
            "object_fit": null,
            "object_position": null,
            "order": null,
            "overflow": null,
            "overflow_x": null,
            "overflow_y": null,
            "padding": null,
            "right": null,
            "top": null,
            "visibility": null,
            "width": null
          }
        },
        "da7ba8bc417e45f2a538a6c792322f7c": {
          "model_module": "@jupyter-widgets/base",
          "model_module_version": "1.2.0",
          "model_name": "LayoutModel",
          "state": {
            "_model_module": "@jupyter-widgets/base",
            "_model_module_version": "1.2.0",
            "_model_name": "LayoutModel",
            "_view_count": null,
            "_view_module": "@jupyter-widgets/base",
            "_view_module_version": "1.2.0",
            "_view_name": "LayoutView",
            "align_content": null,
            "align_items": null,
            "align_self": null,
            "border": null,
            "bottom": null,
            "display": null,
            "flex": null,
            "flex_flow": null,
            "grid_area": null,
            "grid_auto_columns": null,
            "grid_auto_flow": null,
            "grid_auto_rows": null,
            "grid_column": null,
            "grid_gap": null,
            "grid_row": null,
            "grid_template_areas": null,
            "grid_template_columns": null,
            "grid_template_rows": null,
            "height": null,
            "justify_content": null,
            "justify_items": null,
            "left": null,
            "margin": null,
            "max_height": null,
            "max_width": null,
            "min_height": null,
            "min_width": null,
            "object_fit": null,
            "object_position": null,
            "order": null,
            "overflow": null,
            "overflow_x": null,
            "overflow_y": null,
            "padding": null,
            "right": null,
            "top": null,
            "visibility": null,
            "width": null
          }
        },
        "dcd14523840242e4b03aa746b8d1b17e": {
          "model_module": "@jupyter-widgets/controls",
          "model_module_version": "1.5.0",
          "model_name": "HTMLModel",
          "state": {
            "_dom_classes": [],
            "_model_module": "@jupyter-widgets/controls",
            "_model_module_version": "1.5.0",
            "_model_name": "HTMLModel",
            "_view_count": null,
            "_view_module": "@jupyter-widgets/controls",
            "_view_module_version": "1.5.0",
            "_view_name": "HTMLView",
            "description": "",
            "description_tooltip": null,
            "layout": "IPY_MODEL_503716b8e8ea4a87aa72dbba5baeb959",
            "placeholder": "​",
            "style": "IPY_MODEL_5c66bc2c3c2a4ed1ab6dbd3620128aea",
            "value": " 1.38M/1.38M [00:01&lt;00:00, 1.27MB/s]"
          }
        },
        "e1955d4087d64952b04350701516c514": {
          "model_module": "@jupyter-widgets/base",
          "model_module_version": "1.2.0",
          "model_name": "LayoutModel",
          "state": {
            "_model_module": "@jupyter-widgets/base",
            "_model_module_version": "1.2.0",
            "_model_name": "LayoutModel",
            "_view_count": null,
            "_view_module": "@jupyter-widgets/base",
            "_view_module_version": "1.2.0",
            "_view_name": "LayoutView",
            "align_content": null,
            "align_items": null,
            "align_self": null,
            "border": null,
            "bottom": null,
            "display": null,
            "flex": null,
            "flex_flow": null,
            "grid_area": null,
            "grid_auto_columns": null,
            "grid_auto_flow": null,
            "grid_auto_rows": null,
            "grid_column": null,
            "grid_gap": null,
            "grid_row": null,
            "grid_template_areas": null,
            "grid_template_columns": null,
            "grid_template_rows": null,
            "height": null,
            "justify_content": null,
            "justify_items": null,
            "left": null,
            "margin": null,
            "max_height": null,
            "max_width": null,
            "min_height": null,
            "min_width": null,
            "object_fit": null,
            "object_position": null,
            "order": null,
            "overflow": null,
            "overflow_x": null,
            "overflow_y": null,
            "padding": null,
            "right": null,
            "top": null,
            "visibility": null,
            "width": null
          }
        },
        "e38e1a149486466ba19814134495a376": {
          "model_module": "@jupyter-widgets/base",
          "model_module_version": "1.2.0",
          "model_name": "LayoutModel",
          "state": {
            "_model_module": "@jupyter-widgets/base",
            "_model_module_version": "1.2.0",
            "_model_name": "LayoutModel",
            "_view_count": null,
            "_view_module": "@jupyter-widgets/base",
            "_view_module_version": "1.2.0",
            "_view_name": "LayoutView",
            "align_content": null,
            "align_items": null,
            "align_self": null,
            "border": null,
            "bottom": null,
            "display": null,
            "flex": null,
            "flex_flow": null,
            "grid_area": null,
            "grid_auto_columns": null,
            "grid_auto_flow": null,
            "grid_auto_rows": null,
            "grid_column": null,
            "grid_gap": null,
            "grid_row": null,
            "grid_template_areas": null,
            "grid_template_columns": null,
            "grid_template_rows": null,
            "height": null,
            "justify_content": null,
            "justify_items": null,
            "left": null,
            "margin": null,
            "max_height": null,
            "max_width": null,
            "min_height": null,
            "min_width": null,
            "object_fit": null,
            "object_position": null,
            "order": null,
            "overflow": null,
            "overflow_x": null,
            "overflow_y": null,
            "padding": null,
            "right": null,
            "top": null,
            "visibility": null,
            "width": null
          }
        },
        "e80d5818962e4840aef4447f44e3780d": {
          "model_module": "@jupyter-widgets/base",
          "model_module_version": "1.2.0",
          "model_name": "LayoutModel",
          "state": {
            "_model_module": "@jupyter-widgets/base",
            "_model_module_version": "1.2.0",
            "_model_name": "LayoutModel",
            "_view_count": null,
            "_view_module": "@jupyter-widgets/base",
            "_view_module_version": "1.2.0",
            "_view_name": "LayoutView",
            "align_content": null,
            "align_items": null,
            "align_self": null,
            "border": null,
            "bottom": null,
            "display": null,
            "flex": null,
            "flex_flow": null,
            "grid_area": null,
            "grid_auto_columns": null,
            "grid_auto_flow": null,
            "grid_auto_rows": null,
            "grid_column": null,
            "grid_gap": null,
            "grid_row": null,
            "grid_template_areas": null,
            "grid_template_columns": null,
            "grid_template_rows": null,
            "height": null,
            "justify_content": null,
            "justify_items": null,
            "left": null,
            "margin": null,
            "max_height": null,
            "max_width": null,
            "min_height": null,
            "min_width": null,
            "object_fit": null,
            "object_position": null,
            "order": null,
            "overflow": null,
            "overflow_x": null,
            "overflow_y": null,
            "padding": null,
            "right": null,
            "top": null,
            "visibility": null,
            "width": null
          }
        },
        "e8a6db7c7e06497f8914a3610319c726": {
          "model_module": "@jupyter-widgets/controls",
          "model_module_version": "1.5.0",
          "model_name": "HTMLModel",
          "state": {
            "_dom_classes": [],
            "_model_module": "@jupyter-widgets/controls",
            "_model_module_version": "1.5.0",
            "_model_name": "HTMLModel",
            "_view_count": null,
            "_view_module": "@jupyter-widgets/controls",
            "_view_module_version": "1.5.0",
            "_view_name": "HTMLView",
            "description": "",
            "description_tooltip": null,
            "layout": "IPY_MODEL_4a2b8341106e4a65b54a4c288b8e742d",
            "placeholder": "​",
            "style": "IPY_MODEL_2e25a273e36a4f809b0523cf15405d83",
            "value": " 1.15k/1.15k [00:01&lt;00:00, 910B/s]"
          }
        },
        "ed99a1f81ba744fbabe591ee2194d92d": {
          "model_module": "@jupyter-widgets/controls",
          "model_module_version": "1.5.0",
          "model_name": "FloatProgressModel",
          "state": {
            "_dom_classes": [],
            "_model_module": "@jupyter-widgets/controls",
            "_model_module_version": "1.5.0",
            "_model_name": "FloatProgressModel",
            "_view_count": null,
            "_view_module": "@jupyter-widgets/controls",
            "_view_module_version": "1.5.0",
            "_view_name": "ProgressView",
            "bar_style": "success",
            "description": "Downloading: 100%",
            "description_tooltip": null,
            "layout": "IPY_MODEL_e1955d4087d64952b04350701516c514",
            "max": 803110,
            "min": 0,
            "orientation": "horizontal",
            "style": "IPY_MODEL_35c10fb9b51745b589f05f96bc50f5ae",
            "value": 803110
          }
        }
      }
    }
  },
  "nbformat": 4,
  "nbformat_minor": 0
}